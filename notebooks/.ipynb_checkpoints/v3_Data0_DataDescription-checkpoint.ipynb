{
 "cells": [
  {
   "cell_type": "markdown",
   "metadata": {},
   "source": [
    "# Data Processing 0: Original Data Description\n",
    "\n",
    "## Online Appendix of \"International News Coverage and Foreign Image Building\"\n",
    "\n",
    "### Gento Kato (Nov. 4, 2017)\n",
    "\n",
    "<p style=\"text-align:right;\"> Back to [Summary Page](v3_SummaryNotebook.ipynb) </p>"
   ]
  },
  {
   "cell_type": "code",
   "execution_count": 1,
   "metadata": {},
   "outputs": [
    {
     "data": {
      "text/html": [
       "<script>  \n",
       "code_show=true; \n",
       "function code_toggle() {\n",
       "  if (code_show){\n",
       "    $('div.input').hide();\n",
       "  } else {\n",
       "    $('div.input').show();\n",
       "  }\n",
       "  code_show = !code_show\n",
       "}  \n",
       "$( document ).ready(code_toggle);\n",
       "</script>\n",
       "  <form action=\"javascript:code_toggle()\">\n",
       "    <input type=\"submit\" value=\"Click here to toggle on/off the raw code.\">\n",
       " </form>"
      ]
     },
     "metadata": {},
     "output_type": "display_data"
    }
   ],
   "source": [
    "## For Jupyter Notebook (Ignore if Using Other Software) ##\n",
    "library(IRdisplay)\n",
    "\n",
    "display_html(\n",
    "'<script>  \n",
    "code_show=true; \n",
    "function code_toggle() {\n",
    "  if (code_show){\n",
    "    $(\\'div.input\\').hide();\n",
    "  } else {\n",
    "    $(\\'div.input\\').show();\n",
    "  }\n",
    "  code_show = !code_show\n",
    "}  \n",
    "$( document ).ready(code_toggle);\n",
    "</script>\n",
    "  <form action=\"javascript:code_toggle()\">\n",
    "    <input type=\"submit\" value=\"Click here to toggle on/off the raw code.\">\n",
    " </form>'\n",
    ")\n"
   ]
  },
  {
   "cell_type": "markdown",
   "metadata": {},
   "source": [
    "### Load Packages and Set Directory"
   ]
  },
  {
   "cell_type": "code",
   "execution_count": 1,
   "metadata": {},
   "outputs": [
    {
     "name": "stderr",
     "output_type": "stream",
     "text": [
      "Warning message:\n",
      "\"package 'xtable' was built under R version 3.3.3\""
     ]
    },
    {
     "data": {
      "text/html": [
       "'C:/GoogleDrive/Projects/Agenda-Setting Persuasion Framing/Foreign_Image_News_Project'"
      ],
      "text/latex": [
       "'C:/GoogleDrive/Projects/Agenda-Setting Persuasion Framing/Foreign\\_Image\\_News\\_Project'"
      ],
      "text/markdown": [
       "'C:/GoogleDrive/Projects/Agenda-Setting Persuasion Framing/Foreign_Image_News_Project'"
      ],
      "text/plain": [
       "[1] \"C:/GoogleDrive/Projects/Agenda-Setting Persuasion Framing/Foreign_Image_News_Project\""
      ]
     },
     "metadata": {},
     "output_type": "display_data"
    }
   ],
   "source": [
    "#################\n",
    "## Preparation ##\n",
    "#################\n",
    "\n",
    "## Clear Workspace\n",
    "rm(list=ls())\n",
    "\n",
    "## Library Required Packages\n",
    "library(rprojroot); library(xtable)\n",
    "\n",
    "## Set Working Directory (Automatically or Manually) ##\n",
    "#setwd(dirname(rstudioapi::getActiveDocumentContext()$path)); setwd(../) #In RStudio\n",
    "projdir <- find_root(has_file(\"README.md\")); projdir; setwd(projdir) #In Atom\n",
    "#setwd(\"C:/GoogleDrive/Projects/Agenda-Setting Persuasion Framing/Foreign_Image_News_Project\")\n"
   ]
  },
  {
   "cell_type": "markdown",
   "metadata": {},
   "source": [
    "### Original Headline Level Dataset\n",
    "\n",
    "The original headline-level dataset is <code>allheadline.csv</code>. Check <code>allheadline.xlsx</code> for the details of variables. The sample rows are presented below:"
   ]
  },
  {
   "cell_type": "code",
   "execution_count": 16,
   "metadata": {
    "collapsed": true
   },
   "outputs": [],
   "source": [
    "#################\n",
    "## Import Data ##\n",
    "#################\n",
    "\n",
    "# Read Manual Coding Data\n",
    "hldata <- read.csv(\"data/allheadline.csv\", fileEncoding = \"CP932\")"
   ]
  },
  {
   "cell_type": "code",
   "execution_count": 111,
   "metadata": {},
   "outputs": [
    {
     "name": "stdout",
     "output_type": "stream",
     "text": [
      "Sample Rows of Full Dataset:"
     ]
    },
    {
     "data": {
      "text/html": [
       "<ol class=list-inline>\n",
       "\t<li>86549</li>\n",
       "\t<li>68425</li>\n",
       "\t<li>94905</li>\n",
       "\t<li>36094</li>\n",
       "\t<li>96298</li>\n",
       "</ol>\n"
      ],
      "text/latex": [
       "\\begin{enumerate*}\n",
       "\\item 86549\n",
       "\\item 68425\n",
       "\\item 94905\n",
       "\\item 36094\n",
       "\\item 96298\n",
       "\\end{enumerate*}\n"
      ],
      "text/markdown": [
       "1. 86549\n",
       "2. 68425\n",
       "3. 94905\n",
       "4. 36094\n",
       "5. 96298\n",
       "\n",
       "\n"
      ],
      "text/plain": [
       "[1] 86549 68425 94905 36094 96298"
      ]
     },
     "metadata": {},
     "output_type": "display_data"
    },
    {
     "data": {
      "text/html": [
       "<table>\n",
       "<thead><tr><th></th><th scope=col>id_all</th><th scope=col>id</th><th scope=col>id_original</th><th scope=col>year</th><th scope=col>month</th><th scope=col>date</th><th scope=col>ymonth</th><th scope=col>Headline</th><th scope=col>paper</th><th scope=col>wcount</th><th scope=col>us</th><th scope=col>chn</th><th scope=col>kor</th><th scope=col>nkor</th><th scope=col>Asahi</th><th scope=col>Yomiuri</th><th scope=col>jijistartdate</th><th scope=col>jijiymonth</th></tr></thead>\n",
       "<tbody>\n",
       "\t<tr><th scope=row>86549</th><td>86549                                                       </td><td>41197                                                       </td><td>1060                                                        </td><td>2010                                                        </td><td>11                                                          </td><td>12                                                          </td><td>201011                                                      </td><td>米、人民元上げ再要請　中国「徐々に改革」　米中首脳会談      </td><td>A                                                           </td><td>847                                                         </td><td>1                                                           </td><td>1                                                           </td><td>0                                                           </td><td>0                                                           </td><td> 1                                                          </td><td>NA                                                          </td><td> 5                                                          </td><td>201012                                                      </td></tr>\n",
       "\t<tr><th scope=row>68425</th><td>68425                                                       </td><td>32698                                                       </td><td>9446                                                        </td><td>2005                                                        </td><td> 2                                                          </td><td>21                                                          </td><td>200502                                                      </td><td>「褐色雲」を国際観測　黄砂などの飛来分析　日中韓などの研究者</td><td>A                                                           </td><td>568                                                         </td><td>0                                                           </td><td>1                                                           </td><td>1                                                           </td><td>0                                                           </td><td> 1                                                          </td><td>NA                                                          </td><td>10                                                          </td><td>200503                                                      </td></tr>\n",
       "\t<tr><th scope=row>94905</th><td>94905                                                       </td><td> 3023                                                       </td><td>5440                                                        </td><td>2013                                                        </td><td> 9                                                          </td><td>24                                                          </td><td>201309                                                      </td><td>日米サイバー防衛協議　来月上旬合意へ　中国念頭に対策        </td><td>Y                                                           </td><td>475                                                         </td><td>1                                                           </td><td>1                                                           </td><td>0                                                           </td><td>0                                                           </td><td>NA                                                          </td><td> 1                                                          </td><td> 6                                                          </td><td>201310                                                      </td></tr>\n",
       "\t<tr><th scope=row>36094</th><td>36094                                                       </td><td>18839                                                       </td><td>1216                                                        </td><td>1996                                                        </td><td> 5                                                          </td><td>30                                                          </td><td>199605                                                      </td><td>北朝鮮科学者の韓国亡命　橋本首相がコメント                  </td><td>Y                                                           </td><td> 91                                                         </td><td>0                                                           </td><td>0                                                           </td><td>1                                                           </td><td>1                                                           </td><td>NA                                                          </td><td> 1                                                          </td><td>10                                                          </td><td>199606                                                      </td></tr>\n",
       "\t<tr><th scope=row>96298</th><td>96298                                                       </td><td> 3649                                                       </td><td>6475                                                        </td><td>2014                                                        </td><td> 3                                                          </td><td>23                                                          </td><td>201403                                                      </td><td>「強制連行」訴訟、原告１０００人規模に　中国、さらに拡大も  </td><td>A                                                           </td><td>580                                                         </td><td>0                                                           </td><td>1                                                           </td><td>0                                                           </td><td>0                                                           </td><td> 1                                                          </td><td>NA                                                          </td><td> 7                                                          </td><td>201404                                                      </td></tr>\n",
       "</tbody>\n",
       "</table>\n"
      ],
      "text/latex": [
       "\\begin{tabular}{r|llllllllllllllllll}\n",
       "  & id\\_all & id & id\\_original & year & month & date & ymonth & Headline & paper & wcount & us & chn & kor & nkor & Asahi & Yomiuri & jijistartdate & jijiymonth\\\\\n",
       "\\hline\n",
       "\t86549 & 86549                                                        & 41197                                                        & 1060                                                         & 2010                                                         & 11                                                           & 12                                                           & 201011                                                       & 米、人民元上げ再要請　中国「徐々に改革」　米中首脳会談       & A                                                            & 847                                                          & 1                                                            & 1                                                            & 0                                                            & 0                                                            &  1                                                           & NA                                                           &  5                                                           & 201012                                                      \\\\\n",
       "\t68425 & 68425                                                        & 32698                                                        & 9446                                                         & 2005                                                         &  2                                                           & 21                                                           & 200502                                                       & 「褐色雲」を国際観測　黄砂などの飛来分析　日中韓などの研究者 & A                                                            & 568                                                          & 0                                                            & 1                                                            & 1                                                            & 0                                                            &  1                                                           & NA                                                           & 10                                                           & 200503                                                      \\\\\n",
       "\t94905 & 94905                                                        &  3023                                                        & 5440                                                         & 2013                                                         &  9                                                           & 24                                                           & 201309                                                       & 日米サイバー防衛協議　来月上旬合意へ　中国念頭に対策         & Y                                                            & 475                                                          & 1                                                            & 1                                                            & 0                                                            & 0                                                            & NA                                                           &  1                                                           &  6                                                           & 201310                                                      \\\\\n",
       "\t36094 & 36094                                                        & 18839                                                        & 1216                                                         & 1996                                                         &  5                                                           & 30                                                           & 199605                                                       & 北朝鮮科学者の韓国亡命　橋本首相がコメント                   & Y                                                            &  91                                                          & 0                                                            & 0                                                            & 1                                                            & 1                                                            & NA                                                           &  1                                                           & 10                                                           & 199606                                                      \\\\\n",
       "\t96298 & 96298                                                        &  3649                                                        & 6475                                                         & 2014                                                         &  3                                                           & 23                                                           & 201403                                                       & 「強制連行」訴訟、原告１０００人規模に　中国、さらに拡大も   & A                                                            & 580                                                          & 0                                                            & 1                                                            & 0                                                            & 0                                                            &  1                                                           & NA                                                           &  7                                                           & 201404                                                      \\\\\n",
       "\\end{tabular}\n"
      ],
      "text/markdown": [
       "\n",
       "| <!--/--> | id_all | id | id_original | year | month | date | ymonth | Headline | paper | wcount | us | chn | kor | nkor | Asahi | Yomiuri | jijistartdate | jijiymonth | \n",
       "|---|---|---|---|---|\n",
       "| 86549 | 86549                                                        | 41197                                                        | 1060                                                         | 2010                                                         | 11                                                           | 12                                                           | 201011                                                       | 米、人民元上げ再要請　中国「徐々に改革」　米中首脳会談       | A                                                            | 847                                                          | 1                                                            | 1                                                            | 0                                                            | 0                                                            |  1                                                           | NA                                                           |  5                                                           | 201012                                                       | \n",
       "| 68425 | 68425                                                        | 32698                                                        | 9446                                                         | 2005                                                         |  2                                                           | 21                                                           | 200502                                                       | 「褐色雲」を国際観測　黄砂などの飛来分析　日中韓などの研究者 | A                                                            | 568                                                          | 0                                                            | 1                                                            | 1                                                            | 0                                                            |  1                                                           | NA                                                           | 10                                                           | 200503                                                       | \n",
       "| 94905 | 94905                                                        |  3023                                                        | 5440                                                         | 2013                                                         |  9                                                           | 24                                                           | 201309                                                       | 日米サイバー防衛協議　来月上旬合意へ　中国念頭に対策         | Y                                                            | 475                                                          | 1                                                            | 1                                                            | 0                                                            | 0                                                            | NA                                                           |  1                                                           |  6                                                           | 201310                                                       | \n",
       "| 36094 | 36094                                                        | 18839                                                        | 1216                                                         | 1996                                                         |  5                                                           | 30                                                           | 199605                                                       | 北朝鮮科学者の韓国亡命　橋本首相がコメント                   | Y                                                            |  91                                                          | 0                                                            | 0                                                            | 1                                                            | 1                                                            | NA                                                           |  1                                                           | 10                                                           | 199606                                                       | \n",
       "| 96298 | 96298                                                        |  3649                                                        | 6475                                                         | 2014                                                         |  3                                                           | 23                                                           | 201403                                                       | 「強制連行」訴訟、原告１０００人規模に　中国、さらに拡大も   | A                                                            | 580                                                          | 0                                                            | 1                                                            | 0                                                            | 0                                                            |  1                                                           | NA                                                           |  7                                                           | 201404                                                       | \n",
       "\n",
       "\n"
      ],
      "text/plain": [
       "      id_all id    id_original year month date ymonth\n",
       "86549 86549  41197 1060        2010 11    12   201011\n",
       "68425 68425  32698 9446        2005  2    21   200502\n",
       "94905 94905   3023 5440        2013  9    24   201309\n",
       "36094 36094  18839 1216        1996  5    30   199605\n",
       "96298 96298   3649 6475        2014  3    23   201403\n",
       "      Headline                                                     paper wcount\n",
       "86549 米、人民元上げ再要請　中国「徐々に改革」　米中首脳会談       A     847   \n",
       "68425 「褐色雲」を国際観測　黄砂などの飛来分析　日中韓などの研究者 A     568   \n",
       "94905 日米サイバー防衛協議　来月上旬合意へ　中国念頭に対策         Y     475   \n",
       "36094 北朝鮮科学者の韓国亡命　橋本首相がコメント                   Y      91   \n",
       "96298 「強制連行」訴訟、原告１０００人規模に　中国、さらに拡大も   A     580   \n",
       "      us chn kor nkor Asahi Yomiuri jijistartdate jijiymonth\n",
       "86549 1  1   0   0     1    NA       5            201012    \n",
       "68425 0  1   1   0     1    NA      10            200503    \n",
       "94905 1  1   0   0    NA     1       6            201310    \n",
       "36094 0  0   1   1    NA     1      10            199606    \n",
       "96298 0  1   0   0     1    NA       7            201404    "
      ]
     },
     "metadata": {},
     "output_type": "display_data"
    }
   ],
   "source": [
    "cat(\"Sample Rows of Full Dataset:\")\n",
    "x <- c(86549,68425,94905,36094,96298); x\n",
    "head(hldata[x,]) # Except for Headline Variable"
   ]
  },
  {
   "cell_type": "markdown",
   "metadata": {},
   "source": [
    "### The Automated Coding of US, China, South Korea and North Korea Relevant Headlines\n",
    "\n",
    "The initial automated coding was conducted on *KH Coder*, the text analytic software developed by Koichi Higuchi at Ritsumeikan University, Japan (http://khc.sourceforge.net/en/). First, the isomorphic analysis is conducted on each headeline text by the Japanese morphological analysis system, *ChaSen*. Second, the relevant headline for US, China, South Korea, and North Korea are extracted by the following keywords:\n",
    "\n",
    "* **US**: 米-->地名 | 米-->人名 | 米-->名詞C | 訪米 | 米国 | 日米構造協議 | 米兵 | 米産 | 全米 | 駐米 | 米人 | 日米地位協定 | 対米 | 反米 | 米州 | 親米 | 渡米 | 日米財界人会議 | 米紙 | 米州貿易圏 | 在米 | 米朝-->人名 | アメリカ | アメリカン | レーガン | ブッシュ | クリントン | オバマ\n",
    "\n",
    "* **China**: 中国 | 中国人 | 中国共産党 | 中国語 | 中国ファンド | 中-->地名 | 日中-->名詞 | 訪中-->サ変名詞 | 中台-->地名 | 日中-->副詞可能 |対中-->地名 | 中-->名詞C | 日中-->地名 | 中印-->地名 | 親中-->名詞 | 楊 | 江-->人名 | 胡-->地名 (For 中-->地名 and 中-->名詞C, the irrelevant headlines are cleaned up manually)\n",
    "\n",
    "* **South Korea**: 韓 | 韓国 | 訪韓 | 韓国日報 | 駐韓 | 南北 | 南北朝鮮 | 朝鮮半島 | 斗煥 | 盧 | 泳三 | 大中 | 明博 (For 南北 and 朝鮮, irrelevant headlines are cleaned up manually)\n",
    "\n",
    "* **North Korea**: 北朝鮮 | 朝鮮 | 南北朝鮮 | 朝鮮半島 | 朝鮮労働党 | 朝-->地名 | 朝-->副詞可能 | 訪朝-->名詞 | 朝間-->名詞 | 米朝-->人名 |北-->名詞C | 南北 | 北-->地名 | 日成-->人名 | 正日-->人名 (For 南北 and 朝鮮, irrelevant headlines are cleaned up manually)\n",
    "\n",
    "The above keywords are consisted from the possible name of the countries and leaders. The automated coding results are presented in the table below. 1 indicates the count of relevant headline to each country.\n"
   ]
  },
  {
   "cell_type": "code",
   "execution_count": 113,
   "metadata": {},
   "outputs": [
    {
     "data": {
      "text/html": [
       "<table>\n",
       "<thead><tr><th></th><th scope=col>0</th><th scope=col>1</th></tr></thead>\n",
       "<tbody>\n",
       "\t<tr><th scope=row>US (by KH Coder)</th><td>90111</td><td>9040 </td></tr>\n",
       "\t<tr><th scope=row>China (by KH Coder)</th><td>95756</td><td>3395 </td></tr>\n",
       "\t<tr><th scope=row>S.Korrea (by KH Coder)</th><td>96951</td><td>2200 </td></tr>\n",
       "\t<tr><th scope=row>N. Korea (by KH Coder)</th><td>95750</td><td>3401 </td></tr>\n",
       "</tbody>\n",
       "</table>\n"
      ],
      "text/latex": [
       "\\begin{tabular}{r|ll}\n",
       "  & 0 & 1\\\\\n",
       "\\hline\n",
       "\tUS (by KH Coder) & 90111 & 9040 \\\\\n",
       "\tChina (by KH Coder) & 95756 & 3395 \\\\\n",
       "\tS.Korrea (by KH Coder) & 96951 & 2200 \\\\\n",
       "\tN. Korea (by KH Coder) & 95750 & 3401 \\\\\n",
       "\\end{tabular}\n"
      ],
      "text/markdown": [
       "\n",
       "| <!--/--> | 0 | 1 | \n",
       "|---|---|---|---|\n",
       "| US (by KH Coder) | 90111 | 9040  | \n",
       "| China (by KH Coder) | 95756 | 3395  | \n",
       "| S.Korrea (by KH Coder) | 96951 | 2200  | \n",
       "| N. Korea (by KH Coder) | 95750 | 3401  | \n",
       "\n",
       "\n"
      ],
      "text/plain": [
       "                       0     1   \n",
       "US (by KH Coder)       90111 9040\n",
       "China (by KH Coder)    95756 3395\n",
       "S.Korrea (by KH Coder) 96951 2200\n",
       "N. Korea (by KH Coder) 95750 3401"
      ]
     },
     "metadata": {},
     "output_type": "display_data"
    }
   ],
   "source": [
    "## Frequency Table ##\n",
    "statefreq0 <- t(cbind(\n",
    "      table(hldata$us),table(hldata$chn),\n",
    "      table(hldata$kor),table(hldata$nkor)))\n",
    "rownames(statefreq0) <- \n",
    " c(\"US (by KH Coder)\",\"China (by KH Coder)\", \"S.Korea (by KH Coder)\", \"N. Korea (by KH Coder)\")\n",
    "statefreq0\n"
   ]
  }
 ],
 "metadata": {
  "kernelspec": {
   "display_name": "R",
   "language": "R",
   "name": "ir"
  },
  "language_info": {
   "codemirror_mode": "r",
   "file_extension": ".r",
   "mimetype": "text/x-r-source",
   "name": "R",
   "pygments_lexer": "r",
   "version": "3.3.2"
  }
 },
 "nbformat": 4,
 "nbformat_minor": 2
}
