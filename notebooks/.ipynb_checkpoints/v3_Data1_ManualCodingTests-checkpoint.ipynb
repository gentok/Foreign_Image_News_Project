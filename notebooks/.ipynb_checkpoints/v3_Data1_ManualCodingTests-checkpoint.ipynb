{
 "cells": [
  {
   "cell_type": "markdown",
   "metadata": {},
   "source": [
    "# Data Processing 1: Manual Coding Reliability & Export of Training Codes \n",
    "\n",
    "## Online Appendix of \"International News Coverage and Foreign Image Building\"\n",
    "\n",
    "### Gento Kato (Nov. 4, 2017)\n",
    "\n",
    "<p style=\"text-align:right;\"> Back to [Summary Page](v3_SummaryNotebook.ipynb) </p>"
   ]
  },
  {
   "cell_type": "code",
   "execution_count": 23,
   "metadata": {},
   "outputs": [
    {
     "data": {
      "text/html": [
       "<script>  \n",
       "code_show=true; \n",
       "function code_toggle() {\n",
       "  if (code_show){\n",
       "    $('div.input').hide();\n",
       "  } else {\n",
       "    $('div.input').show();\n",
       "  }\n",
       "  code_show = !code_show\n",
       "}  \n",
       "$( document ).ready(code_toggle);\n",
       "</script>\n",
       "  <form action=\"javascript:code_toggle()\">\n",
       "    <input type=\"submit\" value=\"Click here to toggle on/off the raw code.\">\n",
       " </form>"
      ]
     },
     "metadata": {},
     "output_type": "display_data"
    }
   ],
   "source": [
    "#################################################################################\n",
    "## File Name: v3_Data1_ManualCodingTests.R                                     ##\n",
    "## Creation Date: 4 Nov 2017                                                   ##\n",
    "## Author: Gento Kato                                                          ##\n",
    "## Project: Foreign Image News Project                                         ##\n",
    "## Purpose: Test Reliability of Manual Coding and Export Final Coding Dataset  ##\n",
    "#################################################################################\n",
    "\n",
    "## For Jupyter Notebook (Ignore if Using Other Software) ##\n",
    "library(IRdisplay)\n",
    "\n",
    "display_html(\n",
    "'<script>  \n",
    "code_show=true; \n",
    "function code_toggle() {\n",
    "  if (code_show){\n",
    "    $(\\'div.input\\').hide();\n",
    "  } else {\n",
    "    $(\\'div.input\\').show();\n",
    "  }\n",
    "  code_show = !code_show\n",
    "}  \n",
    "$( document ).ready(code_toggle);\n",
    "</script>\n",
    "  <form action=\"javascript:code_toggle()\">\n",
    "    <input type=\"submit\" value=\"Click here to toggle on/off the raw code.\">\n",
    " </form>'\n",
    ")\n"
   ]
  },
  {
   "cell_type": "markdown",
   "metadata": {},
   "source": [
    "### Load Packages and Set Directory"
   ]
  },
  {
   "cell_type": "code",
   "execution_count": 24,
   "metadata": {},
   "outputs": [
    {
     "data": {
      "text/html": [
       "'C:/GoogleDrive/Projects/Agenda-Setting Persuasion Framing/Foreign_Image_News_Project'"
      ],
      "text/latex": [
       "'C:/GoogleDrive/Projects/Agenda-Setting Persuasion Framing/Foreign\\_Image\\_News\\_Project'"
      ],
      "text/markdown": [
       "'C:/GoogleDrive/Projects/Agenda-Setting Persuasion Framing/Foreign_Image_News_Project'"
      ],
      "text/plain": [
       "[1] \"C:/GoogleDrive/Projects/Agenda-Setting Persuasion Framing/Foreign_Image_News_Project\""
      ]
     },
     "metadata": {},
     "output_type": "display_data"
    }
   ],
   "source": [
    "#################\n",
    "## Preparation ##\n",
    "#################\n",
    "\n",
    "## Clear Workspace\n",
    "rm(list=ls())\n",
    "\n",
    "## Library Required Packages\n",
    "library(rprojroot); library(readstata13);library(xtable);library(irr)\n",
    "\n",
    "## Set Working Directory (Automatically or Manually) ##\n",
    "#setwd(dirname(rstudioapi::getActiveDocumentContext()$path)); setwd(../) #In RStudio\n",
    "projdir <- find_root(has_file(\"README.md\")); projdir; setwd(projdir) #In Atom\n",
    "#setwd(\"C:/GoogleDrive/Projects/Agenda-Setting Persuasion Framing/Foreign_Image_News_Project\")\n"
   ]
  },
  {
   "cell_type": "markdown",
   "metadata": {},
   "source": [
    "### Import Original Manual Coding Dataset"
   ]
  },
  {
   "cell_type": "code",
   "execution_count": 25,
   "metadata": {},
   "outputs": [
    {
     "data": {
      "text/html": [
       "<table>\n",
       "<thead><tr><th scope=col>id</th><th scope=col>c1_us</th><th scope=col>c2_us</th><th scope=col>c5_us</th><th scope=col>c6_us</th><th scope=col>us1count</th><th scope=col>us2count</th><th scope=col>us3count</th><th scope=col>c3_chn</th><th scope=col>c4_chn</th><th scope=col>...</th><th scope=col>sko1count</th><th scope=col>sko2count</th><th scope=col>sko3count</th><th scope=col>c2_nko</th><th scope=col>c4_nko</th><th scope=col>c6_nko</th><th scope=col>c10_nko</th><th scope=col>nko1count</th><th scope=col>nko2count</th><th scope=col>nko3count</th></tr></thead>\n",
       "<tbody>\n",
       "\t<tr><td>1  </td><td>1  </td><td>1  </td><td>2  </td><td>2  </td><td>2  </td><td>2  </td><td>0  </td><td>2  </td><td>2  </td><td>...</td><td>0  </td><td>4  </td><td>0  </td><td>1  </td><td>2  </td><td>1  </td><td>1  </td><td>3  </td><td>1  </td><td>0  </td></tr>\n",
       "\t<tr><td>2  </td><td>1  </td><td>2  </td><td>2  </td><td>2  </td><td>1  </td><td>3  </td><td>0  </td><td>2  </td><td>2  </td><td>...</td><td>0  </td><td>4  </td><td>0  </td><td>9  </td><td>9  </td><td>3  </td><td>9  </td><td>0  </td><td>0  </td><td>1  </td></tr>\n",
       "\t<tr><td>3  </td><td>2  </td><td>2  </td><td>2  </td><td>1  </td><td>1  </td><td>3  </td><td>0  </td><td>3  </td><td>3  </td><td>...</td><td>0  </td><td>1  </td><td>3  </td><td>1  </td><td>1  </td><td>3  </td><td>1  </td><td>3  </td><td>0  </td><td>1  </td></tr>\n",
       "\t<tr><td>4  </td><td>2  </td><td>1  </td><td>2  </td><td>2  </td><td>1  </td><td>3  </td><td>0  </td><td>2  </td><td>2  </td><td>...</td><td>1  </td><td>3  </td><td>0  </td><td>2  </td><td>2  </td><td>3  </td><td>1  </td><td>1  </td><td>2  </td><td>1  </td></tr>\n",
       "\t<tr><td>5  </td><td>3  </td><td>3  </td><td>3  </td><td>3  </td><td>0  </td><td>0  </td><td>4  </td><td>2  </td><td>2  </td><td>...</td><td>1  </td><td>3  </td><td>0  </td><td>2  </td><td>2  </td><td>3  </td><td>3  </td><td>0  </td><td>2  </td><td>2  </td></tr>\n",
       "\t<tr><td>6  </td><td>2  </td><td>2  </td><td>2  </td><td>2  </td><td>0  </td><td>4  </td><td>0  </td><td>2  </td><td>2  </td><td>...</td><td>0  </td><td>4  </td><td>0  </td><td>2  </td><td>2  </td><td>1  </td><td>2  </td><td>1  </td><td>3  </td><td>0  </td></tr>\n",
       "</tbody>\n",
       "</table>\n"
      ],
      "text/latex": [
       "\\begin{tabular}{r|lllllllllllllllllllllllllllll}\n",
       " id & c1\\_us & c2\\_us & c5\\_us & c6\\_us & us1count & us2count & us3count & c3\\_chn & c4\\_chn & ... & sko1count & sko2count & sko3count & c2\\_nko & c4\\_nko & c6\\_nko & c10\\_nko & nko1count & nko2count & nko3count\\\\\n",
       "\\hline\n",
       "\t 1   & 1   & 1   & 2   & 2   & 2   & 2   & 0   & 2   & 2   & ... & 0   & 4   & 0   & 1   & 2   & 1   & 1   & 3   & 1   & 0  \\\\\n",
       "\t 2   & 1   & 2   & 2   & 2   & 1   & 3   & 0   & 2   & 2   & ... & 0   & 4   & 0   & 9   & 9   & 3   & 9   & 0   & 0   & 1  \\\\\n",
       "\t 3   & 2   & 2   & 2   & 1   & 1   & 3   & 0   & 3   & 3   & ... & 0   & 1   & 3   & 1   & 1   & 3   & 1   & 3   & 0   & 1  \\\\\n",
       "\t 4   & 2   & 1   & 2   & 2   & 1   & 3   & 0   & 2   & 2   & ... & 1   & 3   & 0   & 2   & 2   & 3   & 1   & 1   & 2   & 1  \\\\\n",
       "\t 5   & 3   & 3   & 3   & 3   & 0   & 0   & 4   & 2   & 2   & ... & 1   & 3   & 0   & 2   & 2   & 3   & 3   & 0   & 2   & 2  \\\\\n",
       "\t 6   & 2   & 2   & 2   & 2   & 0   & 4   & 0   & 2   & 2   & ... & 0   & 4   & 0   & 2   & 2   & 1   & 2   & 1   & 3   & 0  \\\\\n",
       "\\end{tabular}\n"
      ],
      "text/markdown": [
       "\n",
       "id | c1_us | c2_us | c5_us | c6_us | us1count | us2count | us3count | c3_chn | c4_chn | ... | sko1count | sko2count | sko3count | c2_nko | c4_nko | c6_nko | c10_nko | nko1count | nko2count | nko3count | \n",
       "|---|---|---|---|---|---|\n",
       "| 1   | 1   | 1   | 2   | 2   | 2   | 2   | 0   | 2   | 2   | ... | 0   | 4   | 0   | 1   | 2   | 1   | 1   | 3   | 1   | 0   | \n",
       "| 2   | 1   | 2   | 2   | 2   | 1   | 3   | 0   | 2   | 2   | ... | 0   | 4   | 0   | 9   | 9   | 3   | 9   | 0   | 0   | 1   | \n",
       "| 3   | 2   | 2   | 2   | 1   | 1   | 3   | 0   | 3   | 3   | ... | 0   | 1   | 3   | 1   | 1   | 3   | 1   | 3   | 0   | 1   | \n",
       "| 4   | 2   | 1   | 2   | 2   | 1   | 3   | 0   | 2   | 2   | ... | 1   | 3   | 0   | 2   | 2   | 3   | 1   | 1   | 2   | 1   | \n",
       "| 5   | 3   | 3   | 3   | 3   | 0   | 0   | 4   | 2   | 2   | ... | 1   | 3   | 0   | 2   | 2   | 3   | 3   | 0   | 2   | 2   | \n",
       "| 6   | 2   | 2   | 2   | 2   | 0   | 4   | 0   | 2   | 2   | ... | 0   | 4   | 0   | 2   | 2   | 1   | 2   | 1   | 3   | 0   | \n",
       "\n",
       "\n"
      ],
      "text/plain": [
       "  id c1_us c2_us c5_us c6_us us1count us2count us3count c3_chn c4_chn ...\n",
       "1 1  1     1     2     2     2        2        0        2      2      ...\n",
       "2 2  1     2     2     2     1        3        0        2      2      ...\n",
       "3 3  2     2     2     1     1        3        0        3      3      ...\n",
       "4 4  2     1     2     2     1        3        0        2      2      ...\n",
       "5 5  3     3     3     3     0        0        4        2      2      ...\n",
       "6 6  2     2     2     2     0        4        0        2      2      ...\n",
       "  sko1count sko2count sko3count c2_nko c4_nko c6_nko c10_nko nko1count\n",
       "1 0         4         0         1      2      1      1       3        \n",
       "2 0         4         0         9      9      3      9       0        \n",
       "3 0         1         3         1      1      3      1       3        \n",
       "4 1         3         0         2      2      3      1       1        \n",
       "5 1         3         0         2      2      3      3       0        \n",
       "6 0         4         0         2      2      1      2       1        \n",
       "  nko2count nko3count\n",
       "1 1         0        \n",
       "2 0         1        \n",
       "3 0         1        \n",
       "4 2         1        \n",
       "5 2         2        \n",
       "6 3         0        "
      ]
     },
     "metadata": {},
     "output_type": "display_data"
    }
   ],
   "source": [
    "#################\n",
    "## Import Data ##\n",
    "#################\n",
    "\n",
    "# Read Manual Coding Data\n",
    "mc <- read.csv(\"data/manual_codes.csv\")\n",
    "\n",
    "head(mc)"
   ]
  },
  {
   "cell_type": "markdown",
   "metadata": {},
   "source": [
    "### Manage Missing Data (Revised Dataset 1)\n",
    "\n",
    "From the original data, the coding of \"don't know\" (8) and irrelevant (9) are recoded by the following scheme. First, \"don't know\" is recoded as neutral codes. Second, irrelvant codes are recoded as missing. To make coding consistent, coding for <i>all</i> coders are considered missing if at least one coder suggests the case as irrelevant.   "
   ]
  },
  {
   "cell_type": "code",
   "execution_count": 26,
   "metadata": {},
   "outputs": [
    {
     "data": {
      "text/html": [
       "<table>\n",
       "<thead><tr><th scope=col>id</th><th scope=col>c1_us</th><th scope=col>c2_us</th><th scope=col>c5_us</th><th scope=col>c6_us</th><th scope=col>us1count</th><th scope=col>us2count</th><th scope=col>us3count</th><th scope=col>c3_chn</th><th scope=col>c4_chn</th><th scope=col>...</th><th scope=col>sko1count</th><th scope=col>sko2count</th><th scope=col>sko3count</th><th scope=col>c2_nko</th><th scope=col>c4_nko</th><th scope=col>c6_nko</th><th scope=col>c10_nko</th><th scope=col>nko1count</th><th scope=col>nko2count</th><th scope=col>nko3count</th></tr></thead>\n",
       "<tbody>\n",
       "\t<tr><td>1  </td><td>1  </td><td>1  </td><td>2  </td><td>2  </td><td>2  </td><td>2  </td><td>0  </td><td>2  </td><td>2  </td><td>...</td><td>0  </td><td>4  </td><td>0  </td><td> 1 </td><td> 2 </td><td> 1 </td><td> 1 </td><td>3  </td><td>1  </td><td>0  </td></tr>\n",
       "\t<tr><td>2  </td><td>1  </td><td>2  </td><td>2  </td><td>2  </td><td>1  </td><td>3  </td><td>0  </td><td>2  </td><td>2  </td><td>...</td><td>0  </td><td>4  </td><td>0  </td><td>NA </td><td>NA </td><td>NA </td><td>NA </td><td>0  </td><td>0  </td><td>1  </td></tr>\n",
       "\t<tr><td>3  </td><td>2  </td><td>2  </td><td>2  </td><td>1  </td><td>1  </td><td>3  </td><td>0  </td><td>3  </td><td>3  </td><td>...</td><td>0  </td><td>1  </td><td>3  </td><td> 1 </td><td> 1 </td><td> 3 </td><td> 1 </td><td>3  </td><td>0  </td><td>1  </td></tr>\n",
       "\t<tr><td>4  </td><td>2  </td><td>1  </td><td>2  </td><td>2  </td><td>1  </td><td>3  </td><td>0  </td><td>2  </td><td>2  </td><td>...</td><td>1  </td><td>3  </td><td>0  </td><td> 2 </td><td> 2 </td><td> 3 </td><td> 1 </td><td>1  </td><td>2  </td><td>1  </td></tr>\n",
       "\t<tr><td>5  </td><td>3  </td><td>3  </td><td>3  </td><td>3  </td><td>0  </td><td>0  </td><td>4  </td><td>2  </td><td>2  </td><td>...</td><td>1  </td><td>3  </td><td>0  </td><td> 2 </td><td> 2 </td><td> 3 </td><td> 3 </td><td>0  </td><td>2  </td><td>2  </td></tr>\n",
       "\t<tr><td>6  </td><td>2  </td><td>2  </td><td>2  </td><td>2  </td><td>0  </td><td>4  </td><td>0  </td><td>2  </td><td>2  </td><td>...</td><td>0  </td><td>4  </td><td>0  </td><td> 2 </td><td> 2 </td><td> 1 </td><td> 2 </td><td>1  </td><td>3  </td><td>0  </td></tr>\n",
       "</tbody>\n",
       "</table>\n"
      ],
      "text/latex": [
       "\\begin{tabular}{r|lllllllllllllllllllllllllllll}\n",
       " id & c1\\_us & c2\\_us & c5\\_us & c6\\_us & us1count & us2count & us3count & c3\\_chn & c4\\_chn & ... & sko1count & sko2count & sko3count & c2\\_nko & c4\\_nko & c6\\_nko & c10\\_nko & nko1count & nko2count & nko3count\\\\\n",
       "\\hline\n",
       "\t 1   & 1   & 1   & 2   & 2   & 2   & 2   & 0   & 2   & 2   & ... & 0   & 4   & 0   &  1  &  2  &  1  &  1  & 3   & 1   & 0  \\\\\n",
       "\t 2   & 1   & 2   & 2   & 2   & 1   & 3   & 0   & 2   & 2   & ... & 0   & 4   & 0   & NA  & NA  & NA  & NA  & 0   & 0   & 1  \\\\\n",
       "\t 3   & 2   & 2   & 2   & 1   & 1   & 3   & 0   & 3   & 3   & ... & 0   & 1   & 3   &  1  &  1  &  3  &  1  & 3   & 0   & 1  \\\\\n",
       "\t 4   & 2   & 1   & 2   & 2   & 1   & 3   & 0   & 2   & 2   & ... & 1   & 3   & 0   &  2  &  2  &  3  &  1  & 1   & 2   & 1  \\\\\n",
       "\t 5   & 3   & 3   & 3   & 3   & 0   & 0   & 4   & 2   & 2   & ... & 1   & 3   & 0   &  2  &  2  &  3  &  3  & 0   & 2   & 2  \\\\\n",
       "\t 6   & 2   & 2   & 2   & 2   & 0   & 4   & 0   & 2   & 2   & ... & 0   & 4   & 0   &  2  &  2  &  1  &  2  & 1   & 3   & 0  \\\\\n",
       "\\end{tabular}\n"
      ],
      "text/markdown": [
       "\n",
       "id | c1_us | c2_us | c5_us | c6_us | us1count | us2count | us3count | c3_chn | c4_chn | ... | sko1count | sko2count | sko3count | c2_nko | c4_nko | c6_nko | c10_nko | nko1count | nko2count | nko3count | \n",
       "|---|---|---|---|---|---|\n",
       "| 1   | 1   | 1   | 2   | 2   | 2   | 2   | 0   | 2   | 2   | ... | 0   | 4   | 0   |  1  |  2  |  1  |  1  | 3   | 1   | 0   | \n",
       "| 2   | 1   | 2   | 2   | 2   | 1   | 3   | 0   | 2   | 2   | ... | 0   | 4   | 0   | NA  | NA  | NA  | NA  | 0   | 0   | 1   | \n",
       "| 3   | 2   | 2   | 2   | 1   | 1   | 3   | 0   | 3   | 3   | ... | 0   | 1   | 3   |  1  |  1  |  3  |  1  | 3   | 0   | 1   | \n",
       "| 4   | 2   | 1   | 2   | 2   | 1   | 3   | 0   | 2   | 2   | ... | 1   | 3   | 0   |  2  |  2  |  3  |  1  | 1   | 2   | 1   | \n",
       "| 5   | 3   | 3   | 3   | 3   | 0   | 0   | 4   | 2   | 2   | ... | 1   | 3   | 0   |  2  |  2  |  3  |  3  | 0   | 2   | 2   | \n",
       "| 6   | 2   | 2   | 2   | 2   | 0   | 4   | 0   | 2   | 2   | ... | 0   | 4   | 0   |  2  |  2  |  1  |  2  | 1   | 3   | 0   | \n",
       "\n",
       "\n"
      ],
      "text/plain": [
       "  id c1_us c2_us c5_us c6_us us1count us2count us3count c3_chn c4_chn ...\n",
       "1 1  1     1     2     2     2        2        0        2      2      ...\n",
       "2 2  1     2     2     2     1        3        0        2      2      ...\n",
       "3 3  2     2     2     1     1        3        0        3      3      ...\n",
       "4 4  2     1     2     2     1        3        0        2      2      ...\n",
       "5 5  3     3     3     3     0        0        4        2      2      ...\n",
       "6 6  2     2     2     2     0        4        0        2      2      ...\n",
       "  sko1count sko2count sko3count c2_nko c4_nko c6_nko c10_nko nko1count\n",
       "1 0         4         0          1      2      1      1      3        \n",
       "2 0         4         0         NA     NA     NA     NA      0        \n",
       "3 0         1         3          1      1      3      1      3        \n",
       "4 1         3         0          2      2      3      1      1        \n",
       "5 1         3         0          2      2      3      3      0        \n",
       "6 0         4         0          2      2      1      2      1        \n",
       "  nko2count nko3count\n",
       "1 1         0        \n",
       "2 0         1        \n",
       "3 0         1        \n",
       "4 2         1        \n",
       "5 2         2        \n",
       "6 3         0        "
      ]
     },
     "metadata": {},
     "output_type": "display_data"
    }
   ],
   "source": [
    "#############################\n",
    "## Missing Recoded Dataset ##\n",
    "#############################\n",
    "\n",
    "# Copy Data\n",
    "mc1 <- mc\n",
    "\n",
    "# Add 1 to Count Scales of Neutral if coding==8 \n",
    "for (i in grep(\"_us\",names(mc))) {\n",
    "  mc1[mc1[,i]==8,]$us2count <- mc1[mc1[,i]==8,]$us2count+1\n",
    "}\n",
    "for (i in grep(\"_chn\",names(mc))) {\n",
    "  mc1[mc1[,i]==8,]$chn2count <- mc1[mc1[,i]==8,]$chn2count+1\n",
    "}\n",
    "for (i in grep(\"_sko\",names(mc))) {\n",
    "  mc1[mc1[,i]==8,]$sko2count <- mc1[mc1[,i]==8,]$sko2count+1\n",
    "}\n",
    "for (i in grep(\"_nko\",names(mc))) {\n",
    "  mc1[mc1[,i]==8,]$nko2count <- mc1[mc1[,i]==8,]$nko2count+1\n",
    "}\n",
    "\n",
    "# 8 to Neutral\n",
    "for (i in c(grep(\"_us\",names(mc)),grep(\"_chn\",names(mc)),\n",
    "            grep(\"_sko\",names(mc)),grep(\"_nko\",names(mc)))) {\n",
    "  mc1[mc1[,i]==8,i] <- 2\n",
    "}\n",
    "\n",
    "# 9 to Missing\n",
    "for (i in c(grep(\"_us\",names(mc)),grep(\"_chn\",names(mc)),\n",
    "           grep(\"_sko\",names(mc)),grep(\"_nko\",names(mc)))) {\n",
    "  mc1[mc1[,i]==9,i] <- NA\n",
    "}\n",
    "\n",
    "# Missing if Any other codes of the same country is missing\n",
    "for (i in grep(\"_us\",names(mc))) {\n",
    "  mc1[is.na(mc1[,i]),grep(\"_us\",names(mc))] <- rep(NA,4)\n",
    "}\n",
    "for (i in grep(\"_chn\",names(mc))) {\n",
    "  mc1[is.na(mc1[,i]),grep(\"_chn\",names(mc))] <- rep(NA,4)\n",
    "}\n",
    "for (i in grep(\"_sko\",names(mc))) {\n",
    "  mc1[is.na(mc1[,i]),grep(\"_sko\",names(mc))] <- rep(NA,4)\n",
    "}\n",
    "for (i in grep(\"_nko\",names(mc))) {\n",
    "  mc1[is.na(mc1[,i]),grep(\"_nko\",names(mc))] <- rep(NA,4)\n",
    "}\n",
    "\n",
    "head(mc1)"
   ]
  },
  {
   "cell_type": "markdown",
   "metadata": {},
   "source": [
    "### Recode Overly Directional Code to Neutral (Revised Dataset 2)\n",
    "\n",
    "To adjust the variability among coders, I recode the directional codes (i.e., positive/negative) to neutral, when three out of four coders (= three other coders) coded the same case as neutral. This procedure adjust the coders' tendency to provide overly directional codings. "
   ]
  },
  {
   "cell_type": "code",
   "execution_count": 27,
   "metadata": {},
   "outputs": [
    {
     "data": {
      "text/html": [
       "<table>\n",
       "<thead><tr><th scope=col>id</th><th scope=col>c1_us</th><th scope=col>c2_us</th><th scope=col>c5_us</th><th scope=col>c6_us</th><th scope=col>us1count</th><th scope=col>us2count</th><th scope=col>us3count</th><th scope=col>c3_chn</th><th scope=col>c4_chn</th><th scope=col>...</th><th scope=col>sko1count</th><th scope=col>sko2count</th><th scope=col>sko3count</th><th scope=col>c2_nko</th><th scope=col>c4_nko</th><th scope=col>c6_nko</th><th scope=col>c10_nko</th><th scope=col>nko1count</th><th scope=col>nko2count</th><th scope=col>nko3count</th></tr></thead>\n",
       "<tbody>\n",
       "\t<tr><td>1  </td><td>1  </td><td>1  </td><td>2  </td><td>2  </td><td>2  </td><td>2  </td><td>0  </td><td>2  </td><td>2  </td><td>...</td><td>0  </td><td>4  </td><td>0  </td><td> 1 </td><td> 2 </td><td> 1 </td><td> 1 </td><td>3  </td><td>1  </td><td>0  </td></tr>\n",
       "\t<tr><td>2  </td><td>2  </td><td>2  </td><td>2  </td><td>2  </td><td>1  </td><td>3  </td><td>0  </td><td>2  </td><td>2  </td><td>...</td><td>0  </td><td>4  </td><td>0  </td><td>NA </td><td>NA </td><td>NA </td><td>NA </td><td>0  </td><td>0  </td><td>1  </td></tr>\n",
       "\t<tr><td>3  </td><td>2  </td><td>2  </td><td>2  </td><td>2  </td><td>1  </td><td>3  </td><td>0  </td><td>3  </td><td>3  </td><td>...</td><td>0  </td><td>1  </td><td>3  </td><td> 1 </td><td> 1 </td><td> 3 </td><td> 1 </td><td>3  </td><td>0  </td><td>1  </td></tr>\n",
       "\t<tr><td>4  </td><td>2  </td><td>2  </td><td>2  </td><td>2  </td><td>1  </td><td>3  </td><td>0  </td><td>2  </td><td>2  </td><td>...</td><td>1  </td><td>3  </td><td>0  </td><td> 2 </td><td> 2 </td><td> 3 </td><td> 1 </td><td>1  </td><td>2  </td><td>1  </td></tr>\n",
       "\t<tr><td>5  </td><td>3  </td><td>3  </td><td>3  </td><td>3  </td><td>0  </td><td>0  </td><td>4  </td><td>2  </td><td>2  </td><td>...</td><td>1  </td><td>3  </td><td>0  </td><td> 2 </td><td> 2 </td><td> 3 </td><td> 3 </td><td>0  </td><td>2  </td><td>2  </td></tr>\n",
       "\t<tr><td>6  </td><td>2  </td><td>2  </td><td>2  </td><td>2  </td><td>0  </td><td>4  </td><td>0  </td><td>2  </td><td>2  </td><td>...</td><td>0  </td><td>4  </td><td>0  </td><td> 2 </td><td> 2 </td><td> 2 </td><td> 2 </td><td>1  </td><td>3  </td><td>0  </td></tr>\n",
       "</tbody>\n",
       "</table>\n"
      ],
      "text/latex": [
       "\\begin{tabular}{r|lllllllllllllllllllllllllllll}\n",
       " id & c1\\_us & c2\\_us & c5\\_us & c6\\_us & us1count & us2count & us3count & c3\\_chn & c4\\_chn & ... & sko1count & sko2count & sko3count & c2\\_nko & c4\\_nko & c6\\_nko & c10\\_nko & nko1count & nko2count & nko3count\\\\\n",
       "\\hline\n",
       "\t 1   & 1   & 1   & 2   & 2   & 2   & 2   & 0   & 2   & 2   & ... & 0   & 4   & 0   &  1  &  2  &  1  &  1  & 3   & 1   & 0  \\\\\n",
       "\t 2   & 2   & 2   & 2   & 2   & 1   & 3   & 0   & 2   & 2   & ... & 0   & 4   & 0   & NA  & NA  & NA  & NA  & 0   & 0   & 1  \\\\\n",
       "\t 3   & 2   & 2   & 2   & 2   & 1   & 3   & 0   & 3   & 3   & ... & 0   & 1   & 3   &  1  &  1  &  3  &  1  & 3   & 0   & 1  \\\\\n",
       "\t 4   & 2   & 2   & 2   & 2   & 1   & 3   & 0   & 2   & 2   & ... & 1   & 3   & 0   &  2  &  2  &  3  &  1  & 1   & 2   & 1  \\\\\n",
       "\t 5   & 3   & 3   & 3   & 3   & 0   & 0   & 4   & 2   & 2   & ... & 1   & 3   & 0   &  2  &  2  &  3  &  3  & 0   & 2   & 2  \\\\\n",
       "\t 6   & 2   & 2   & 2   & 2   & 0   & 4   & 0   & 2   & 2   & ... & 0   & 4   & 0   &  2  &  2  &  2  &  2  & 1   & 3   & 0  \\\\\n",
       "\\end{tabular}\n"
      ],
      "text/markdown": [
       "\n",
       "id | c1_us | c2_us | c5_us | c6_us | us1count | us2count | us3count | c3_chn | c4_chn | ... | sko1count | sko2count | sko3count | c2_nko | c4_nko | c6_nko | c10_nko | nko1count | nko2count | nko3count | \n",
       "|---|---|---|---|---|---|\n",
       "| 1   | 1   | 1   | 2   | 2   | 2   | 2   | 0   | 2   | 2   | ... | 0   | 4   | 0   |  1  |  2  |  1  |  1  | 3   | 1   | 0   | \n",
       "| 2   | 2   | 2   | 2   | 2   | 1   | 3   | 0   | 2   | 2   | ... | 0   | 4   | 0   | NA  | NA  | NA  | NA  | 0   | 0   | 1   | \n",
       "| 3   | 2   | 2   | 2   | 2   | 1   | 3   | 0   | 3   | 3   | ... | 0   | 1   | 3   |  1  |  1  |  3  |  1  | 3   | 0   | 1   | \n",
       "| 4   | 2   | 2   | 2   | 2   | 1   | 3   | 0   | 2   | 2   | ... | 1   | 3   | 0   |  2  |  2  |  3  |  1  | 1   | 2   | 1   | \n",
       "| 5   | 3   | 3   | 3   | 3   | 0   | 0   | 4   | 2   | 2   | ... | 1   | 3   | 0   |  2  |  2  |  3  |  3  | 0   | 2   | 2   | \n",
       "| 6   | 2   | 2   | 2   | 2   | 0   | 4   | 0   | 2   | 2   | ... | 0   | 4   | 0   |  2  |  2  |  2  |  2  | 1   | 3   | 0   | \n",
       "\n",
       "\n"
      ],
      "text/plain": [
       "  id c1_us c2_us c5_us c6_us us1count us2count us3count c3_chn c4_chn ...\n",
       "1 1  1     1     2     2     2        2        0        2      2      ...\n",
       "2 2  2     2     2     2     1        3        0        2      2      ...\n",
       "3 3  2     2     2     2     1        3        0        3      3      ...\n",
       "4 4  2     2     2     2     1        3        0        2      2      ...\n",
       "5 5  3     3     3     3     0        0        4        2      2      ...\n",
       "6 6  2     2     2     2     0        4        0        2      2      ...\n",
       "  sko1count sko2count sko3count c2_nko c4_nko c6_nko c10_nko nko1count\n",
       "1 0         4         0          1      2      1      1      3        \n",
       "2 0         4         0         NA     NA     NA     NA      0        \n",
       "3 0         1         3          1      1      3      1      3        \n",
       "4 1         3         0          2      2      3      1      1        \n",
       "5 1         3         0          2      2      3      3      0        \n",
       "6 0         4         0          2      2      2      2      1        \n",
       "  nko2count nko3count\n",
       "1 1         0        \n",
       "2 0         1        \n",
       "3 0         1        \n",
       "4 2         1        \n",
       "5 2         2        \n",
       "6 3         0        "
      ]
     },
     "metadata": {},
     "output_type": "display_data"
    }
   ],
   "source": [
    "#########################################################\n",
    "## Overy Extreme Coding to Neutral (Triple 2 to All 2) ##\n",
    "#########################################################\n",
    "\n",
    "# Copy the Previous Data\n",
    "mc2 <- mc1\n",
    "\n",
    "## Replace Overly Extreme Code to Neutral\n",
    "mc2[mc1$us2count==3,grep(\"_us\",names(mc))] <- rep(2,4)\n",
    "mc2[mc1$chn2count==3,grep(\"_chn\",names(mc))] <- rep(2,4)\n",
    "mc2[mc1$sko2count==3,grep(\"_sko\",names(mc))] <- rep(2,4)\n",
    "mc2[mc1$nko2count==3,grep(\"_nko\",names(mc))] <- rep(2,4)\n",
    "\n",
    "## Put NA Values Back\n",
    "mc2[is.na(mc1$c1_us),grep(\"_us\",names(mc))] <- rep(NA,4)\n",
    "mc2[is.na(mc1$c3_chn),grep(\"_chn\",names(mc))] <- rep(NA,4)\n",
    "mc2[is.na(mc1$c1_sko),grep(\"_sko\",names(mc))] <- rep(NA,4)\n",
    "mc2[is.na(mc1$c2_nko),grep(\"_nko\",names(mc))] <- rep(NA,4)\n",
    "\n",
    "head(mc2)"
   ]
  },
  {
   "cell_type": "markdown",
   "metadata": {},
   "source": [
    "### Recode Overly Neutral Codes to Directional (Revised Dataset 3)\n",
    "\n",
    "In addition to the previous adjustments, one more adjustment can be made. Here, I recode the case by certain directional codes, if all three other coders coded the same case in the same direction. This procedure is intended to adjust coder's tendency to provide overly neutral codes.   "
   ]
  },
  {
   "cell_type": "code",
   "execution_count": 28,
   "metadata": {},
   "outputs": [
    {
     "data": {
      "text/html": [
       "<table>\n",
       "<thead><tr><th scope=col>id</th><th scope=col>c1_us</th><th scope=col>c2_us</th><th scope=col>c5_us</th><th scope=col>c6_us</th><th scope=col>us1count</th><th scope=col>us2count</th><th scope=col>us3count</th><th scope=col>c3_chn</th><th scope=col>c4_chn</th><th scope=col>...</th><th scope=col>sko1count</th><th scope=col>sko2count</th><th scope=col>sko3count</th><th scope=col>c2_nko</th><th scope=col>c4_nko</th><th scope=col>c6_nko</th><th scope=col>c10_nko</th><th scope=col>nko1count</th><th scope=col>nko2count</th><th scope=col>nko3count</th></tr></thead>\n",
       "<tbody>\n",
       "\t<tr><td>1  </td><td>1  </td><td>1  </td><td>2  </td><td>2  </td><td>2  </td><td>2  </td><td>0  </td><td>2  </td><td>2  </td><td>...</td><td>0  </td><td>4  </td><td>0  </td><td> 1 </td><td> 1 </td><td> 1 </td><td> 1 </td><td>3  </td><td>1  </td><td>0  </td></tr>\n",
       "\t<tr><td>2  </td><td>2  </td><td>2  </td><td>2  </td><td>2  </td><td>1  </td><td>3  </td><td>0  </td><td>2  </td><td>2  </td><td>...</td><td>0  </td><td>4  </td><td>0  </td><td>NA </td><td>NA </td><td>NA </td><td>NA </td><td>0  </td><td>0  </td><td>1  </td></tr>\n",
       "\t<tr><td>3  </td><td>2  </td><td>2  </td><td>2  </td><td>2  </td><td>1  </td><td>3  </td><td>0  </td><td>3  </td><td>3  </td><td>...</td><td>0  </td><td>1  </td><td>3  </td><td> 1 </td><td> 1 </td><td> 1 </td><td> 1 </td><td>3  </td><td>0  </td><td>1  </td></tr>\n",
       "\t<tr><td>4  </td><td>2  </td><td>2  </td><td>2  </td><td>2  </td><td>1  </td><td>3  </td><td>0  </td><td>2  </td><td>2  </td><td>...</td><td>1  </td><td>3  </td><td>0  </td><td> 2 </td><td> 2 </td><td> 3 </td><td> 1 </td><td>1  </td><td>2  </td><td>1  </td></tr>\n",
       "\t<tr><td>5  </td><td>3  </td><td>3  </td><td>3  </td><td>3  </td><td>0  </td><td>0  </td><td>4  </td><td>2  </td><td>2  </td><td>...</td><td>1  </td><td>3  </td><td>0  </td><td> 2 </td><td> 2 </td><td> 3 </td><td> 3 </td><td>0  </td><td>2  </td><td>2  </td></tr>\n",
       "\t<tr><td>6  </td><td>2  </td><td>2  </td><td>2  </td><td>2  </td><td>0  </td><td>4  </td><td>0  </td><td>2  </td><td>2  </td><td>...</td><td>0  </td><td>4  </td><td>0  </td><td> 2 </td><td> 2 </td><td> 2 </td><td> 2 </td><td>1  </td><td>3  </td><td>0  </td></tr>\n",
       "</tbody>\n",
       "</table>\n"
      ],
      "text/latex": [
       "\\begin{tabular}{r|lllllllllllllllllllllllllllll}\n",
       " id & c1\\_us & c2\\_us & c5\\_us & c6\\_us & us1count & us2count & us3count & c3\\_chn & c4\\_chn & ... & sko1count & sko2count & sko3count & c2\\_nko & c4\\_nko & c6\\_nko & c10\\_nko & nko1count & nko2count & nko3count\\\\\n",
       "\\hline\n",
       "\t 1   & 1   & 1   & 2   & 2   & 2   & 2   & 0   & 2   & 2   & ... & 0   & 4   & 0   &  1  &  1  &  1  &  1  & 3   & 1   & 0  \\\\\n",
       "\t 2   & 2   & 2   & 2   & 2   & 1   & 3   & 0   & 2   & 2   & ... & 0   & 4   & 0   & NA  & NA  & NA  & NA  & 0   & 0   & 1  \\\\\n",
       "\t 3   & 2   & 2   & 2   & 2   & 1   & 3   & 0   & 3   & 3   & ... & 0   & 1   & 3   &  1  &  1  &  1  &  1  & 3   & 0   & 1  \\\\\n",
       "\t 4   & 2   & 2   & 2   & 2   & 1   & 3   & 0   & 2   & 2   & ... & 1   & 3   & 0   &  2  &  2  &  3  &  1  & 1   & 2   & 1  \\\\\n",
       "\t 5   & 3   & 3   & 3   & 3   & 0   & 0   & 4   & 2   & 2   & ... & 1   & 3   & 0   &  2  &  2  &  3  &  3  & 0   & 2   & 2  \\\\\n",
       "\t 6   & 2   & 2   & 2   & 2   & 0   & 4   & 0   & 2   & 2   & ... & 0   & 4   & 0   &  2  &  2  &  2  &  2  & 1   & 3   & 0  \\\\\n",
       "\\end{tabular}\n"
      ],
      "text/markdown": [
       "\n",
       "id | c1_us | c2_us | c5_us | c6_us | us1count | us2count | us3count | c3_chn | c4_chn | ... | sko1count | sko2count | sko3count | c2_nko | c4_nko | c6_nko | c10_nko | nko1count | nko2count | nko3count | \n",
       "|---|---|---|---|---|---|\n",
       "| 1   | 1   | 1   | 2   | 2   | 2   | 2   | 0   | 2   | 2   | ... | 0   | 4   | 0   |  1  |  1  |  1  |  1  | 3   | 1   | 0   | \n",
       "| 2   | 2   | 2   | 2   | 2   | 1   | 3   | 0   | 2   | 2   | ... | 0   | 4   | 0   | NA  | NA  | NA  | NA  | 0   | 0   | 1   | \n",
       "| 3   | 2   | 2   | 2   | 2   | 1   | 3   | 0   | 3   | 3   | ... | 0   | 1   | 3   |  1  |  1  |  1  |  1  | 3   | 0   | 1   | \n",
       "| 4   | 2   | 2   | 2   | 2   | 1   | 3   | 0   | 2   | 2   | ... | 1   | 3   | 0   |  2  |  2  |  3  |  1  | 1   | 2   | 1   | \n",
       "| 5   | 3   | 3   | 3   | 3   | 0   | 0   | 4   | 2   | 2   | ... | 1   | 3   | 0   |  2  |  2  |  3  |  3  | 0   | 2   | 2   | \n",
       "| 6   | 2   | 2   | 2   | 2   | 0   | 4   | 0   | 2   | 2   | ... | 0   | 4   | 0   |  2  |  2  |  2  |  2  | 1   | 3   | 0   | \n",
       "\n",
       "\n"
      ],
      "text/plain": [
       "  id c1_us c2_us c5_us c6_us us1count us2count us3count c3_chn c4_chn ...\n",
       "1 1  1     1     2     2     2        2        0        2      2      ...\n",
       "2 2  2     2     2     2     1        3        0        2      2      ...\n",
       "3 3  2     2     2     2     1        3        0        3      3      ...\n",
       "4 4  2     2     2     2     1        3        0        2      2      ...\n",
       "5 5  3     3     3     3     0        0        4        2      2      ...\n",
       "6 6  2     2     2     2     0        4        0        2      2      ...\n",
       "  sko1count sko2count sko3count c2_nko c4_nko c6_nko c10_nko nko1count\n",
       "1 0         4         0          1      1      1      1      3        \n",
       "2 0         4         0         NA     NA     NA     NA      0        \n",
       "3 0         1         3          1      1      1      1      3        \n",
       "4 1         3         0          2      2      3      1      1        \n",
       "5 1         3         0          2      2      3      3      0        \n",
       "6 0         4         0          2      2      2      2      1        \n",
       "  nko2count nko3count\n",
       "1 1         0        \n",
       "2 0         1        \n",
       "3 0         1        \n",
       "4 2         1        \n",
       "5 2         2        \n",
       "6 3         0        "
      ]
     },
     "metadata": {},
     "output_type": "display_data"
    }
   ],
   "source": [
    "##############################################\n",
    "## Overy Neutral Coding to Directional Code ##\n",
    "##############################################\n",
    "\n",
    "# Copy Data\n",
    "mc3 <- mc2\n",
    "\n",
    "## Replace Overly Neutral Code to Directional\n",
    "mc3[mc1$us1count==3,grep(\"_us\",names(mc))] <- rep(1,4)\n",
    "mc3[mc1$chn1count==3,grep(\"_chn\",names(mc))] <- rep(1,4)\n",
    "mc3[mc1$sko1count==3,grep(\"_sko\",names(mc))] <- rep(1,4)\n",
    "mc3[mc1$nko1count==3,grep(\"_nko\",names(mc))] <- rep(1,4)\n",
    "mc3[mc1$us3count==3,grep(\"_us\",names(mc))] <- rep(3,4)\n",
    "mc3[mc1$chn3count==3,grep(\"_chn\",names(mc))] <- rep(3,4)\n",
    "mc3[mc1$sko3count==3,grep(\"_sko\",names(mc))] <- rep(3,4)\n",
    "mc3[mc1$nko3count==3,grep(\"_nko\",names(mc))] <- rep(3,4)\n",
    "\n",
    "## Put NA Values Back\n",
    "mc3[is.na(mc1$c1_us),grep(\"_us\",names(mc))] <- rep(NA,4)\n",
    "mc3[is.na(mc1$c3_chn),grep(\"_chn\",names(mc))] <- rep(NA,4)\n",
    "mc3[is.na(mc1$c1_sko),grep(\"_sko\",names(mc))] <- rep(NA,4)\n",
    "mc3[is.na(mc1$c2_nko),grep(\"_nko\",names(mc))] <- rep(NA,4)\n",
    "\n",
    "head(mc3)"
   ]
  },
  {
   "cell_type": "markdown",
   "metadata": {},
   "source": [
    "### Krippendorf's Alpha (Inter-Coder Reliability)\n",
    "\n",
    "Krippendorf's Alpha (Hayes and Krippendorf 2007) is suggested as a standard measure to assess inter-coder reliability. The conventional threshold of the \"good\" reliability is around 0.70. In this study, I use \"ordinal\" version of Krippendorf's Alpha. The result suggests that reliability is relatively low in the original dataset, but after recoding some overly extreme and overly neutral codes, it reaches (or at least gets closer to) the 0.70 threshold.\n",
    "\n",
    "<i>Hayes, A. F. & Krippendorff, K. Answering the Call for a Standard Reliability Measure for Coding Data Communication Methods and Measures, 2007, 1, pp. 77-89</i>"
   ]
  },
  {
   "cell_type": "code",
   "execution_count": 29,
   "metadata": {},
   "outputs": [
    {
     "data": {
      "text/html": [
       "<table>\n",
       "<thead><tr><th></th><th scope=col>US</th><th scope=col>China</th><th scope=col>S.Korea</th><th scope=col>N.Korea</th></tr></thead>\n",
       "<tbody>\n",
       "\t<tr><th scope=row>Original Coding</th><td>0.428</td><td>0.476</td><td>0.504</td><td>0.401</td></tr>\n",
       "\t<tr><th scope=row>Overly Directional Codes Recoded</th><td>0.540</td><td>0.658</td><td>0.669</td><td>0.440</td></tr>\n",
       "\t<tr><th scope=row>Overly Neutral Codes Recoded</th><td>0.685</td><td>0.786</td><td>0.791</td><td>0.629</td></tr>\n",
       "</tbody>\n",
       "</table>\n"
      ],
      "text/latex": [
       "\\begin{tabular}{r|llll}\n",
       "  & US & China & S.Korea & N.Korea\\\\\n",
       "\\hline\n",
       "\tOriginal Coding & 0.428 & 0.476 & 0.504 & 0.401\\\\\n",
       "\tOverly Directional Codes Recoded & 0.540 & 0.658 & 0.669 & 0.440\\\\\n",
       "\tOverly Neutral Codes Recoded & 0.685 & 0.786 & 0.791 & 0.629\\\\\n",
       "\\end{tabular}\n"
      ],
      "text/markdown": [
       "\n",
       "| <!--/--> | US | China | S.Korea | N.Korea | \n",
       "|---|---|---|\n",
       "| Original Coding | 0.428 | 0.476 | 0.504 | 0.401 | \n",
       "| Overly Directional Codes Recoded | 0.540 | 0.658 | 0.669 | 0.440 | \n",
       "| Overly Neutral Codes Recoded | 0.685 | 0.786 | 0.791 | 0.629 | \n",
       "\n",
       "\n"
      ],
      "text/plain": [
       "                                 US    China S.Korea N.Korea\n",
       "Original Coding                  0.428 0.476 0.504   0.401  \n",
       "Overly Directional Codes Recoded 0.540 0.658 0.669   0.440  \n",
       "Overly Neutral Codes Recoded     0.685 0.786 0.791   0.629  "
      ]
     },
     "metadata": {},
     "output_type": "display_data"
    }
   ],
   "source": [
    "#########################\n",
    "## Krippendorf's Alpha ##\n",
    "#########################\n",
    "\n",
    "## Missing Recoded Data\n",
    "ka1us <- kripp.alpha(t(mc1[,grep(\"_us\",names(mc1))]),\"ordinal\")\n",
    "ka1chn <- kripp.alpha(t(mc1[,grep(\"_chn\",names(mc1))]),\"ordinal\")\n",
    "ka1sko <- kripp.alpha(t(mc1[,grep(\"_sko\",names(mc1))]),\"ordinal\")\n",
    "ka1nko <- kripp.alpha(t(mc1[,grep(\"_nko\",names(mc1))]),\"ordinal\")\n",
    "ka1 <- c(ka1us$value,ka1chn$value,ka1sko$value,ka1nko$value)\n",
    "\n",
    "## Overly Extreme to Neutral\n",
    "ka2us <- kripp.alpha(t(mc2[,grep(\"_us\",names(mc2))]),\"ordinal\")\n",
    "ka2chn <- kripp.alpha(t(mc2[,grep(\"_chn\",names(mc2))]),\"ordinal\")\n",
    "ka2sko <- kripp.alpha(t(mc2[,grep(\"_sko\",names(mc2))]),\"ordinal\")\n",
    "ka2nko <- kripp.alpha(t(mc2[,grep(\"_nko\",names(mc2))]),\"ordinal\")\n",
    "ka2 <- c(ka2us$value,ka2chn$value,ka2sko$value,ka2nko$value)\n",
    "\n",
    "## Overly Neutral to Directional\n",
    "ka3us <- kripp.alpha(t(mc3[,grep(\"_us\",names(mc3))]),\"ordinal\")\n",
    "ka3chn <- kripp.alpha(t(mc3[,grep(\"_chn\",names(mc3))]),\"ordinal\")\n",
    "ka3sko <- kripp.alpha(t(mc3[,grep(\"_sko\",names(mc3))]),\"ordinal\")\n",
    "ka3nko <- kripp.alpha(t(mc3[,grep(\"_nko\",names(mc3))]),\"ordinal\")\n",
    "ka3 <- c(ka3us$value,ka3chn$value,ka3sko$value,ka3nko$value)\n",
    "\n",
    "## Summary Table\n",
    "katab <- rbind(ka1,ka2,ka3)\n",
    "rownames(katab) <- c(\"Original Coding\",\"Overly Directional Codes Recoded\",\n",
    "                      \"Overly Neutral Codes Recoded\")\n",
    "colnames(katab) <- c(\"US\",\"China\",\"S.Korea\",\"N.Korea\")\n",
    "round(katab,3)"
   ]
  },
  {
   "cell_type": "markdown",
   "metadata": {},
   "source": [
    "### Consistent & Conservative Training Codes *(Currently Not Used in Machine-Learning)*\n",
    "\n",
    "In addition to the simple majority rule for assigning each coding, the training codes for the machine learning can be constructed in two other ways. First, we can use \"consistent\" scheme. In this scheme, if three or more coders provide the same codes, the majority code is considered as final. Then, if the code is evenly splitted between (the same) directional and neutral codes, then directional code is given. All other cases are considered to be neutral. Second, \"conservative\" scheme posits that directional codes are given only when three or more coders agree on the same directional codes. The neutral codes are given for all other cases. "
   ]
  },
  {
   "cell_type": "code",
   "execution_count": 30,
   "metadata": {},
   "outputs": [
    {
     "data": {
      "text/html": [
       "<table>\n",
       "<thead><tr><th></th><th scope=col>1</th><th scope=col>2</th><th scope=col>3</th><th scope=col>NA</th></tr></thead>\n",
       "<tbody>\n",
       "\t<tr><th scope=row>US Code (Consistent)</th><td>264</td><td>590</td><td>133</td><td>13 </td></tr>\n",
       "\t<tr><th scope=row>China Code (Consistent)</th><td>251</td><td>625</td><td>120</td><td> 4 </td></tr>\n",
       "\t<tr><th scope=row>S.Korea Code (Consistent)</th><td>111</td><td>778</td><td>104</td><td> 7 </td></tr>\n",
       "\t<tr><th scope=row>N.Korea Code (Consistent)</th><td>409</td><td>383</td><td>157</td><td>51 </td></tr>\n",
       "\t<tr><th scope=row>US Code (Conservative)</th><td>152</td><td>783</td><td> 52</td><td>13 </td></tr>\n",
       "\t<tr><th scope=row>China Code (Conservative)</th><td>165</td><td>791</td><td> 40</td><td> 4 </td></tr>\n",
       "\t<tr><th scope=row>S.Korea Code (Conservative)</th><td> 74</td><td>878</td><td> 41</td><td> 7 </td></tr>\n",
       "\t<tr><th scope=row>N.Korea Code (Conservative)</th><td>292</td><td>604</td><td> 53</td><td>51 </td></tr>\n",
       "</tbody>\n",
       "</table>\n"
      ],
      "text/latex": [
       "\\begin{tabular}{r|llll}\n",
       "  & 1 & 2 & 3 & NA\\\\\n",
       "\\hline\n",
       "\tUS Code (Consistent) & 264 & 590 & 133 & 13 \\\\\n",
       "\tChina Code (Consistent) & 251 & 625 & 120 &  4 \\\\\n",
       "\tS.Korea Code (Consistent) & 111 & 778 & 104 &  7 \\\\\n",
       "\tN.Korea Code (Consistent) & 409 & 383 & 157 & 51 \\\\\n",
       "\tUS Code (Conservative) & 152 & 783 &  52 & 13 \\\\\n",
       "\tChina Code (Conservative) & 165 & 791 &  40 &  4 \\\\\n",
       "\tS.Korea Code (Conservative) &  74 & 878 &  41 &  7 \\\\\n",
       "\tN.Korea Code (Conservative) & 292 & 604 &  53 & 51 \\\\\n",
       "\\end{tabular}\n"
      ],
      "text/markdown": [
       "\n",
       "| <!--/--> | 1 | 2 | 3 | NA | \n",
       "|---|---|---|---|---|---|---|---|\n",
       "| US Code (Consistent) | 264 | 590 | 133 | 13  | \n",
       "| China Code (Consistent) | 251 | 625 | 120 |  4  | \n",
       "| S.Korea Code (Consistent) | 111 | 778 | 104 |  7  | \n",
       "| N.Korea Code (Consistent) | 409 | 383 | 157 | 51  | \n",
       "| US Code (Conservative) | 152 | 783 |  52 | 13  | \n",
       "| China Code (Conservative) | 165 | 791 |  40 |  4  | \n",
       "| S.Korea Code (Conservative) |  74 | 878 |  41 |  7  | \n",
       "| N.Korea Code (Conservative) | 292 | 604 |  53 | 51  | \n",
       "\n",
       "\n"
      ],
      "text/plain": [
       "                            1   2   3   <NA>\n",
       "US Code (Consistent)        264 590 133 13  \n",
       "China Code (Consistent)     251 625 120  4  \n",
       "S.Korea Code (Consistent)   111 778 104  7  \n",
       "N.Korea Code (Consistent)   409 383 157 51  \n",
       "US Code (Conservative)      152 783  52 13  \n",
       "China Code (Conservative)   165 791  40  4  \n",
       "S.Korea Code (Conservative)  74 878  41  7  \n",
       "N.Korea Code (Conservative) 292 604  53 51  "
      ]
     },
     "metadata": {},
     "output_type": "display_data"
    }
   ],
   "source": [
    "########################################################################\n",
    "## Generate Training Codes by Consistent & Conservative Coding Scheme ##\n",
    "########################################################################\n",
    "\n",
    "# Copy Data\n",
    "mc4 <- mc1\n",
    "\n",
    "## Consistent Coding Scheme ##\n",
    "\n",
    "# US Coding\n",
    "mc4$us_final <- 999\n",
    "mc4[is.na(mc1$c1_us),c(\"us1count\",\"us2count\",\"us3count\")] <- NA\n",
    "mc4$us_final[which(mc4$us1count>=3)] <- 1\n",
    "mc4$us_final[which(mc4$us2count>=3)] <- 2\n",
    "mc4$us_final[which(mc4$us3count>=3)] <- 3\n",
    "mc4$us_final[which(mc4$us1count==2 & mc4$us2count==2)] <- 1\n",
    "mc4$us_final[which(mc4$us2count==2 & mc4$us3count==2)] <- 3\n",
    "mc4$us_final[which(mc4$us1count==2 & mc4$us3count==2)] <- 2\n",
    "mc4$us_final[which(mc4$us1count==1 & mc4$us2count==2 & mc4$us3count==1)] <- 2\n",
    "mc4$us_final[which(mc4$us1count==2 & mc4$us2count==1 & mc4$us3count==1)] <- 2\n",
    "mc4$us_final[which(mc4$us1count==1 & mc4$us2count==1 & mc4$us3count==2)] <- 2\n",
    "mc4$us_final[which(mc4$us1count==1 & mc4$us2count==1 & mc4$us3count==2)] <- 2\n",
    "mc4$us_final[is.na(mc4$us1count)] <- NA\n",
    "usfin <- t(table(mc4$us_final,useNA=\"always\"))\n",
    "\n",
    "# China Coding\n",
    "mc4$chn_final <- 999\n",
    "mc4[is.na(mc1$c3_chn),c(\"chn1count\",\"chn2count\",\"chn3count\")] <- NA\n",
    "mc4$chn_final[which(mc4$chn1count>=3)] <- 1\n",
    "mc4$chn_final[which(mc4$chn2count>=3)] <- 2\n",
    "mc4$chn_final[which(mc4$chn3count>=3)] <- 3\n",
    "mc4$chn_final[which(mc4$chn1count==2 & mc4$chn2count==2)] <- 1\n",
    "mc4$chn_final[which(mc4$chn2count==2 & mc4$chn3count==2)] <- 3\n",
    "mc4$chn_final[which(mc4$chn1count==2 & mc4$chn3count==2)] <- 2\n",
    "mc4$chn_final[which(mc4$chn1count==1 & mc4$chn2count==2 & mc4$chn3count==1)] <- 2\n",
    "mc4$chn_final[which(mc4$chn1count==2 & mc4$chn2count==1 & mc4$chn3count==1)] <- 2\n",
    "mc4$chn_final[which(mc4$chn1count==1 & mc4$chn2count==1 & mc4$chn3count==2)] <- 2\n",
    "mc4$chn_final[which(mc4$chn1count==1 & mc4$chn2count==1 & mc4$chn3count==2)] <- 2\n",
    "mc4$chn_final[is.na(mc4$chn1count)] <- NA\n",
    "chnfin <- t(table(mc4$chn_final,useNA=\"always\"))\n",
    "\n",
    "# South Korea Coding\n",
    "mc4$sko_final <- 999\n",
    "mc4[is.na(mc1$c1_sko),c(\"sko1count\",\"sko2count\",\"sko3count\")] <- NA\n",
    "mc4$sko_final[which(mc4$sko1count>=3)] <- 1\n",
    "mc4$sko_final[which(mc4$sko2count>=3)] <- 2\n",
    "mc4$sko_final[which(mc4$sko3count>=3)] <- 3\n",
    "mc4$sko_final[which(mc4$sko1count==2 & mc4$sko2count==2)] <- 1\n",
    "mc4$sko_final[which(mc4$sko2count==2 & mc4$sko3count==2)] <- 3\n",
    "mc4$sko_final[which(mc4$sko1count==2 & mc4$sko3count==2)] <- 2\n",
    "mc4$sko_final[which(mc4$sko1count==1 & mc4$sko2count==2 & mc4$sko3count==1)] <- 2\n",
    "mc4$sko_final[which(mc4$sko1count==2 & mc4$sko2count==1 & mc4$sko3count==1)] <- 2\n",
    "mc4$sko_final[which(mc4$sko1count==1 & mc4$sko2count==1 & mc4$sko3count==2)] <- 2\n",
    "mc4$sko_final[which(mc4$sko1count==1 & mc4$sko2count==1 & mc4$sko3count==2)] <- 2\n",
    "mc4$sko_final[is.na(mc4$sko1count)] <- NA\n",
    "skofin <- t(table(mc4$sko_final,useNA=\"always\"))\n",
    "\n",
    "# North Korea Coding\n",
    "mc4$nko_final <- 999\n",
    "mc4[is.na(mc1$c2_nko),c(\"nko1count\",\"nko2count\",\"nko3count\")] <- NA\n",
    "mc4$nko_final[which(mc4$nko1count>=3)] <- 1\n",
    "mc4$nko_final[which(mc4$nko2count>=3)] <- 2\n",
    "mc4$nko_final[which(mc4$nko3count>=3)] <- 3\n",
    "mc4$nko_final[which(mc4$nko1count==2 & mc4$nko2count==2)] <- 1\n",
    "mc4$nko_final[which(mc4$nko2count==2 & mc4$nko3count==2)] <- 3\n",
    "mc4$nko_final[which(mc4$nko1count==2 & mc4$nko3count==2)] <- 2\n",
    "mc4$nko_final[which(mc4$nko1count==1 & mc4$nko2count==2 & mc4$nko3count==1)] <- 2\n",
    "mc4$nko_final[which(mc4$nko1count==2 & mc4$nko2count==1 & mc4$nko3count==1)] <- 2\n",
    "mc4$nko_final[which(mc4$nko1count==1 & mc4$nko2count==1 & mc4$nko3count==2)] <- 2\n",
    "mc4$nko_final[which(mc4$nko1count==1 & mc4$nko2count==1 & mc4$nko3count==2)] <- 2\n",
    "mc4$nko_final[is.na(mc4$nko1count)] <- NA\n",
    "nkofin <- t(table(mc4$nko_final,useNA=\"always\"))\n",
    "\n",
    "## Conservative Coding Scheme ##\n",
    "\n",
    "# US\n",
    "mc4$us_final2 <- 2\n",
    "mc4$us_final2[which(mc4$us1count>=3)] <- 1\n",
    "mc4$us_final2[which(mc4$us3count>=3)] <- 3\n",
    "mc4$us_final2[is.na(mc4$us1count)] <- NA\n",
    "usfin2 <- t(table(mc4$us_final2,useNA=\"always\"))\n",
    "\n",
    "# China\n",
    "mc4$chn_final2 <- 2\n",
    "mc4$chn_final2[which(mc4$chn1count>=3)] <- 1\n",
    "mc4$chn_final2[which(mc4$chn3count>=3)] <- 3\n",
    "mc4$chn_final2[is.na(mc4$chn1count)] <- NA\n",
    "chnfin2 <- t(table(mc4$chn_final2,useNA=\"always\"))\n",
    "\n",
    "# South Korea\n",
    "mc4$sko_final2 <- 2\n",
    "mc4$sko_final2[which(mc4$sko1count>=3)] <- 1\n",
    "mc4$sko_final2[which(mc4$sko3count>=3)] <- 3\n",
    "mc4$sko_final2[is.na(mc4$sko1count)] <- NA\n",
    "skofin2 <- t(table(mc4$sko_final2,useNA=\"always\"))\n",
    "\n",
    "# North Korea\n",
    "mc4$nko_final2 <- 2\n",
    "mc4$nko_final2[which(mc4$nko1count>=3)] <- 1\n",
    "mc4$nko_final2[which(mc4$nko3count>=3)] <- 3\n",
    "mc4$nko_final2[is.na(mc4$nko1count)] <- NA\n",
    "nkofin2 <- t(table(mc4$nko_final2,useNA=\"always\"))\n",
    "\n",
    "fintab <- rbind(usfin,chnfin,skofin,nkofin,\n",
    "                usfin2,chnfin2,skofin2,nkofin2)\n",
    "rownames(fintab) <- c(\"US Code (Consistent)\",\"China Code (Consistent)\",\n",
    "                      \"S.Korea Code (Consistent)\",\"N.Korea Code (Consistent)\",\n",
    "                      \"US Code (Conservative)\",\"China Code (Conservative)\",\n",
    "                      \"S.Korea Code (Conservative)\",\"N.Korea Code (Conservative)\")\n",
    "fintab"
   ]
  },
  {
   "cell_type": "markdown",
   "metadata": {},
   "source": [
    "### Save Datasets\n",
    "\n",
    "The R Environment is saved do <code>data_heavy</code> directory. The training codes dataset is saved to <code>data</code> directory, by the name of <code>trainingcode.csv</code>."
   ]
  },
  {
   "cell_type": "code",
   "execution_count": 31,
   "metadata": {
    "collapsed": true
   },
   "outputs": [],
   "source": [
    "###############\n",
    "## Save Data ##\n",
    "###############\n",
    "\n",
    "# All Data\n",
    "save.image(\"data/v3_Data1_ManualCodingTests.RData\")\n",
    "# Training Codes Dataset\n",
    "write.csv(mc4,\"data/trainingcode.csv\",fileEncoding = \"CP932\",row.names=FALSE)                    "
   ]
  }
 ],
 "metadata": {
  "kernelspec": {
   "display_name": "R",
   "language": "R",
   "name": "ir"
  },
  "language_info": {
   "codemirror_mode": "r",
   "file_extension": ".r",
   "mimetype": "text/x-r-source",
   "name": "R",
   "pygments_lexer": "r",
   "version": "3.3.2"
  }
 },
 "nbformat": 4,
 "nbformat_minor": 2
}
