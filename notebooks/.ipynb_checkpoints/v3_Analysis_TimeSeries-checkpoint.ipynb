{
 "cells": [
  {
   "cell_type": "markdown",
   "metadata": {},
   "source": [
    "# Analysis: Time Series Analysis\n",
    "\n",
    "## Online Appendix of \"International News Coverage and Foreign Image Building\"\n",
    "\n",
    "### Gento Kato (Nov. 4, 2017)\n",
    "\n",
    "<p style=\"text-align:right;\"> Back to [Summary Page](v3_SummaryNotebook) </p>"
   ]
  },
  {
   "cell_type": "code",
   "execution_count": 1,
   "metadata": {},
   "outputs": [
    {
     "data": {
      "text/html": [
       "<script>  \n",
       "code_show=true; \n",
       "function code_toggle() {\n",
       "  if (code_show){\n",
       "    $('div.input').hide();\n",
       "  } else {\n",
       "    $('div.input').show();\n",
       "  }\n",
       "  code_show = !code_show\n",
       "}  \n",
       "$( document ).ready(code_toggle);\n",
       "</script>\n",
       "  <form action=\"javascript:code_toggle()\">\n",
       "    <input type=\"submit\" value=\"Click here to toggle on/off the raw code.\">\n",
       " </form>"
      ]
     },
     "metadata": {},
     "output_type": "display_data"
    }
   ],
   "source": [
    "#################################################################################\n",
    "## File Name: v3_Analysis_TimeSeries.R                                         ##\n",
    "## Date: 27 APr 2016                                                           ##\n",
    "## Author: Gento Kato                                                          ##\n",
    "## Project: Foreign Image News Project                                         ##\n",
    "## Purpose: Conduct Time Series Analysis                                       ##\n",
    "#################################################################################\n",
    "\n",
    "## For Jupyter Notebook (Ignore if Using Other Software) ##\n",
    "library(IRdisplay)\n",
    "\n",
    "display_html(\n",
    "'<script>  \n",
    "code_show=true; \n",
    "function code_toggle() {\n",
    "  if (code_show){\n",
    "    $(\\'div.input\\').hide();\n",
    "  } else {\n",
    "    $(\\'div.input\\').show();\n",
    "  }\n",
    "  code_show = !code_show\n",
    "}  \n",
    "$( document ).ready(code_toggle);\n",
    "</script>\n",
    "  <form action=\"javascript:code_toggle()\">\n",
    "    <input type=\"submit\" value=\"Click here to toggle on/off the raw code.\">\n",
    " </form>'\n",
    ")\n",
    "\n",
    "## Suppress Warning\n",
    "#options(warn=-1)\n",
    "#options(warn=0) # put it back"
   ]
  },
  {
   "cell_type": "markdown",
   "metadata": {},
   "source": [
    "### 1. Load Packages & Set Directory"
   ]
  },
  {
   "cell_type": "code",
   "execution_count": 2,
   "metadata": {},
   "outputs": [
    {
     "name": "stderr",
     "output_type": "stream",
     "text": [
      "Loading required package: MASS\n",
      "Loading required package: strucchange\n",
      "Loading required package: zoo\n",
      "\n",
      "Attaching package: 'zoo'\n",
      "\n",
      "The following objects are masked from 'package:base':\n",
      "\n",
      "    as.Date, as.Date.numeric\n",
      "\n",
      "Loading required package: sandwich\n",
      "Loading required package: urca\n",
      "Loading required package: lmtest\n"
     ]
    },
    {
     "data": {
      "text/html": [
       "'C:/GoogleDrive/Projects/Agenda-Setting Persuasion Framing/Foreign_Image_News_Project'"
      ],
      "text/latex": [
       "'C:/GoogleDrive/Projects/Agenda-Setting Persuasion Framing/Foreign\\_Image\\_News\\_Project'"
      ],
      "text/markdown": [
       "'C:/GoogleDrive/Projects/Agenda-Setting Persuasion Framing/Foreign_Image_News_Project'"
      ],
      "text/plain": [
       "[1] \"C:/GoogleDrive/Projects/Agenda-Setting Persuasion Framing/Foreign_Image_News_Project\""
      ]
     },
     "metadata": {},
     "output_type": "display_data"
    }
   ],
   "source": [
    "#################\n",
    "## Preparation ##\n",
    "#################\n",
    "\n",
    "## Clear Workspace\n",
    "rm(list=ls())\n",
    "\n",
    "## Library Required Packages\n",
    "library(rprojroot); library(doBy); library(descr)\n",
    "\n",
    "##################Prepare Packages##################\n",
    "library(vars)#;detach(\"package:vars\", unload=TRUE)\n",
    "library(tseries);library(urca);\n",
    "library(tsDyn)#;detach(\"package:tsDyn\", unload=TRUE)\n",
    "#library(MSBVAR);detach(\"package:MSBVAR\", unload=TRUE)\n",
    "#library(FIAR);\n",
    "####################################################\n",
    "library(ggplot2)\n",
    "\n",
    "## Set Working Directory (Automatically or Manually) ##\n",
    "projdir <- find_root(has_file(\"README.md\")); projdir; setwd(projdir) #In Atom\n",
    "#setwd(dirname(rstudioapi::getActiveDocumentContext()$path)); setwd(\"../\") #In RStudio\n",
    "#setwd(\"C:/GoogleDrive/Projects/Agenda-Setting Persuasion Framing/Foreign_Image_News_Project/codes\")\n"
   ]
  },
  {
   "cell_type": "markdown",
   "metadata": {},
   "source": [
    "### 2. Import Monthly Datasets"
   ]
  },
  {
   "cell_type": "code",
   "execution_count": 3,
   "metadata": {},
   "outputs": [
    {
     "data": {
      "text/html": [
       "<ol class=list-inline>\n",
       "\t<li>'africamonth'</li>\n",
       "\t<li>'chnmonth'</li>\n",
       "\t<li>'euromonth'</li>\n",
       "\t<li>'framefreq'</li>\n",
       "\t<li>'hldata'</li>\n",
       "\t<li>'jijidata'</li>\n",
       "\t<li>'mneastmonth'</li>\n",
       "\t<li>'msamericamonth'</li>\n",
       "\t<li>'nkormonth'</li>\n",
       "\t<li>'oceaniamonth'</li>\n",
       "\t<li>'projdir'</li>\n",
       "\t<li>'rusmonth'</li>\n",
       "\t<li>'seasiamonth'</li>\n",
       "\t<li>'skormonth'</li>\n",
       "\t<li>'statefreq'</li>\n",
       "\t<li>'taiwanmonth'</li>\n",
       "\t<li>'tradedata'</li>\n",
       "\t<li>'tx'</li>\n",
       "\t<li>'usmonth'</li>\n",
       "</ol>\n"
      ],
      "text/latex": [
       "\\begin{enumerate*}\n",
       "\\item 'africamonth'\n",
       "\\item 'chnmonth'\n",
       "\\item 'euromonth'\n",
       "\\item 'framefreq'\n",
       "\\item 'hldata'\n",
       "\\item 'jijidata'\n",
       "\\item 'mneastmonth'\n",
       "\\item 'msamericamonth'\n",
       "\\item 'nkormonth'\n",
       "\\item 'oceaniamonth'\n",
       "\\item 'projdir'\n",
       "\\item 'rusmonth'\n",
       "\\item 'seasiamonth'\n",
       "\\item 'skormonth'\n",
       "\\item 'statefreq'\n",
       "\\item 'taiwanmonth'\n",
       "\\item 'tradedata'\n",
       "\\item 'tx'\n",
       "\\item 'usmonth'\n",
       "\\end{enumerate*}\n"
      ],
      "text/markdown": [
       "1. 'africamonth'\n",
       "2. 'chnmonth'\n",
       "3. 'euromonth'\n",
       "4. 'framefreq'\n",
       "5. 'hldata'\n",
       "6. 'jijidata'\n",
       "7. 'mneastmonth'\n",
       "8. 'msamericamonth'\n",
       "9. 'nkormonth'\n",
       "10. 'oceaniamonth'\n",
       "11. 'projdir'\n",
       "12. 'rusmonth'\n",
       "13. 'seasiamonth'\n",
       "14. 'skormonth'\n",
       "15. 'statefreq'\n",
       "16. 'taiwanmonth'\n",
       "17. 'tradedata'\n",
       "18. 'tx'\n",
       "19. 'usmonth'\n",
       "\n",
       "\n"
      ],
      "text/plain": [
       " [1] \"africamonth\"    \"chnmonth\"       \"euromonth\"      \"framefreq\"     \n",
       " [5] \"hldata\"         \"jijidata\"       \"mneastmonth\"    \"msamericamonth\"\n",
       " [9] \"nkormonth\"      \"oceaniamonth\"   \"projdir\"        \"rusmonth\"      \n",
       "[13] \"seasiamonth\"    \"skormonth\"      \"statefreq\"      \"taiwanmonth\"   \n",
       "[17] \"tradedata\"      \"tx\"             \"usmonth\"       "
      ]
     },
     "metadata": {},
     "output_type": "display_data"
    }
   ],
   "source": [
    "#######################\n",
    "## Load Monthly Data ##\n",
    "#######################\n",
    "\n",
    "load(\"data/v3_Data5_MonthlySubset.Rdata\")\n",
    "\n",
    "ls()\n"
   ]
  },
  {
   "cell_type": "markdown",
   "metadata": {},
   "source": [
    "### 3. Agenda-Seeting\n",
    "\n",
    "#### 3.1 Create Datasets for Time-Series Analysis"
   ]
  },
  {
   "cell_type": "code",
   "execution_count": 4,
   "metadata": {},
   "outputs": [
    {
     "name": "stderr",
     "output_type": "stream",
     "text": [
      "The following object is masked from package:datasets:\n",
      "\n",
      "    euro\n",
      "\n",
      "The following object is masked from package:datasets:\n",
      "\n",
      "    euro\n",
      "\n",
      "The following object is masked from package:datasets:\n",
      "\n",
      "    euro\n",
      "\n",
      "The following object is masked from package:datasets:\n",
      "\n",
      "    euro\n",
      "\n",
      "The following object is masked from package:datasets:\n",
      "\n",
      "    euro\n",
      "\n",
      "The following object is masked from package:datasets:\n",
      "\n",
      "    euro\n",
      "\n",
      "The following object is masked from package:datasets:\n",
      "\n",
      "    euro\n",
      "\n",
      "The following object is masked from package:datasets:\n",
      "\n",
      "    euro\n",
      "\n",
      "The following object is masked from package:datasets:\n",
      "\n",
      "    euro\n",
      "\n",
      "The following object is masked from package:datasets:\n",
      "\n",
      "    euro\n",
      "\n",
      "The following object is masked from package:datasets:\n",
      "\n",
      "    euro\n",
      "\n",
      "The following object is masked from package:datasets:\n",
      "\n",
      "    euro\n",
      "\n"
     ]
    }
   ],
   "source": [
    "#############################\n",
    "## Agenda Setting Analysis ##\n",
    "#############################\n",
    "\n",
    "## Data #######################################\n",
    "\n",
    "stv <- min(which(!is.na(usmonth$imprel)))\n",
    "edv <- max(which(!is.na(usmonth$imprel)))\n",
    "\n",
    "## Create Data ##\n",
    "attach(usmonth[stv:edv,])\n",
    "usimp<-data.frame(trade_gdp,statecount_w_both_per,imprel)\n",
    "detach(usmonth[stv:edv,])\n",
    "attach(chnmonth[stv:edv,])\n",
    "chnimp<-data.frame(trade_gdp,statecount_w_both_per,imprel)\n",
    "detach(chnmonth[stv:edv,])\n",
    "attach(skormonth[stv:edv,])\n",
    "skorimp<-data.frame(trade_gdp,statecount_w_both_per,imprel)\n",
    "detach(skormonth[stv:edv,])\n",
    "attach(nkormonth[stv:edv,])\n",
    "nkorimp<-data.frame(trade_gdp,statecount_w_both_per,imprel)\n",
    "detach(nkormonth[stv:edv,])\n",
    "attach(rusmonth[stv:edv,])\n",
    "rusimp<-data.frame(trade_gdp,statecount_w_both_per,imprel)\n",
    "detach(rusmonth[stv:edv,])\n",
    "attach(euromonth[stv:edv,])\n",
    "euroimp<-data.frame(trade_gdp,statecount_w_both_per,imprel)\n",
    "detach(euromonth[stv:edv,])\n",
    "attach(mneastmonth[stv:edv,])\n",
    "mneastimp<-data.frame(trade_gdp,statecount_w_both_per,imprel)\n",
    "detach(mneastmonth[stv:edv,])\n",
    "attach(taiwanmonth[stv:edv,])\n",
    "taiwanimp<-data.frame(trade_gdp,statecount_w_both_per,imprel)\n",
    "detach(taiwanmonth[stv:edv,])\n",
    "attach(seasiamonth[stv:edv,])\n",
    "seasiaimp<-data.frame(trade_gdp,statecount_w_both_per,imprel)\n",
    "detach(seasiamonth[stv:edv,])\n",
    "attach(msamericamonth[stv:edv,])\n",
    "msamericaimp<-data.frame(trade_gdp,statecount_w_both_per,imprel)\n",
    "detach(msamericamonth[stv:edv,])\n",
    "attach(oceaniamonth[stv:edv,])\n",
    "oceaniaimp<-data.frame(trade_gdp,statecount_w_both_per,imprel)\n",
    "detach(oceaniamonth[stv:edv,])\n",
    "attach(africamonth[stv:edv,])\n",
    "africaimp<-data.frame(trade_gdp,statecount_w_both_per,imprel)\n",
    "detach(africamonth[stv:edv,])\n"
   ]
  },
  {
   "cell_type": "markdown",
   "metadata": {},
   "source": [
    "#### 3.2 ADF Test of Non-Stationarity"
   ]
  },
  {
   "cell_type": "code",
   "execution_count": 5,
   "metadata": {
    "scrolled": true
   },
   "outputs": [
    {
     "data": {
      "text/plain": [
       "\n",
       "############################################### \n",
       "# Augmented Dickey-Fuller Test Unit Root Test # \n",
       "############################################### \n",
       "\n",
       "Test regression trend \n",
       "\n",
       "\n",
       "Call:\n",
       "lm(formula = z.diff ~ z.lag.1 + 1 + tt + z.diff.lag)\n",
       "\n",
       "Residuals:\n",
       "    Min      1Q  Median      3Q     Max \n",
       "-7.3435 -1.7618  0.0125  1.5195  7.0397 \n",
       "\n",
       "Coefficients:\n",
       "             Estimate Std. Error t value Pr(>|t|)    \n",
       "(Intercept) 17.033521   3.210617   5.305 2.60e-07 ***\n",
       "z.lag.1     -0.281388   0.052976  -5.312 2.53e-07 ***\n",
       "tt           0.007109   0.002659   2.673  0.00805 ** \n",
       "z.diff.lag  -0.166628   0.064400  -2.587  0.01028 *  \n",
       "---\n",
       "Signif. codes:  0 '***' 0.001 '**' 0.01 '*' 0.05 '.' 0.1 ' ' 1\n",
       "\n",
       "Residual standard error: 2.438 on 234 degrees of freedom\n",
       "Multiple R-squared:  0.1915,\tAdjusted R-squared:  0.1811 \n",
       "F-statistic: 18.47 on 3 and 234 DF,  p-value: 8.615e-11\n",
       "\n",
       "\n",
       "Value of test-statistic is: -5.3116 9.4633 14.1067 \n",
       "\n",
       "Critical values for test statistics: \n",
       "      1pct  5pct 10pct\n",
       "tau3 -3.99 -3.43 -3.13\n",
       "phi2  6.22  4.75  4.07\n",
       "phi3  8.43  6.49  5.47\n"
      ]
     },
     "metadata": {},
     "output_type": "display_data"
    },
    {
     "data": {
      "text/plain": [
       "\n",
       "############################################### \n",
       "# Augmented Dickey-Fuller Test Unit Root Test # \n",
       "############################################### \n",
       "\n",
       "Test regression drift \n",
       "\n",
       "\n",
       "Call:\n",
       "lm(formula = z.diff ~ z.lag.1 + 1 + z.diff.lag)\n",
       "\n",
       "Residuals:\n",
       "    Min      1Q  Median      3Q     Max \n",
       "-4.7801 -1.3122 -0.3613  0.7567 15.3439 \n",
       "\n",
       "Coefficients:\n",
       "            Estimate Std. Error t value Pr(>|t|)    \n",
       "(Intercept)  2.60288    0.34429   7.560 8.99e-13 ***\n",
       "z.lag.1     -0.62545    0.07451  -8.394 4.43e-15 ***\n",
       "z.diff.lag  -0.03843    0.06530  -0.588    0.557    \n",
       "---\n",
       "Signif. codes:  0 '***' 0.001 '**' 0.01 '*' 0.05 '.' 0.1 ' ' 1\n",
       "\n",
       "Residual standard error: 2.292 on 235 degrees of freedom\n",
       "Multiple R-squared:  0.3259,\tAdjusted R-squared:  0.3202 \n",
       "F-statistic: 56.82 on 2 and 235 DF,  p-value: < 2.2e-16\n",
       "\n",
       "\n",
       "Value of test-statistic is: -8.3942 35.2321 \n",
       "\n",
       "Critical values for test statistics: \n",
       "      1pct  5pct 10pct\n",
       "tau2 -3.46 -2.88 -2.57\n",
       "phi1  6.52  4.63  3.81\n"
      ]
     },
     "metadata": {},
     "output_type": "display_data"
    },
    {
     "data": {
      "text/plain": [
       "\n",
       "############################################### \n",
       "# Augmented Dickey-Fuller Test Unit Root Test # \n",
       "############################################### \n",
       "\n",
       "Test regression drift \n",
       "\n",
       "\n",
       "Call:\n",
       "lm(formula = z.diff ~ z.lag.1 + 1 + z.diff.lag)\n",
       "\n",
       "Residuals:\n",
       "     Min       1Q   Median       3Q      Max \n",
       "-0.32384 -0.07158 -0.01380  0.08014  0.26857 \n",
       "\n",
       "Coefficients:\n",
       "            Estimate Std. Error t value Pr(>|t|)    \n",
       "(Intercept)  0.18522    0.05089   3.640 0.000336 ***\n",
       "z.lag.1     -0.13245    0.03626  -3.653 0.000320 ***\n",
       "z.diff.lag  -0.16971    0.06383  -2.659 0.008382 ** \n",
       "---\n",
       "Signif. codes:  0 '***' 0.001 '**' 0.01 '*' 0.05 '.' 0.1 ' ' 1\n",
       "\n",
       "Residual standard error: 0.104 on 235 degrees of freedom\n",
       "Multiple R-squared:  0.1073,\tAdjusted R-squared:  0.09966 \n",
       "F-statistic: 14.12 on 2 and 235 DF,  p-value: 1.623e-06\n",
       "\n",
       "\n",
       "Value of test-statistic is: -3.653 6.6824 \n",
       "\n",
       "Critical values for test statistics: \n",
       "      1pct  5pct 10pct\n",
       "tau2 -3.46 -2.88 -2.57\n",
       "phi1  6.52  4.63  3.81\n"
      ]
     },
     "metadata": {},
     "output_type": "display_data"
    },
    {
     "data": {
      "text/plain": [
       "\n",
       "############################################### \n",
       "# Augmented Dickey-Fuller Test Unit Root Test # \n",
       "############################################### \n",
       "\n",
       "Test regression trend \n",
       "\n",
       "\n",
       "Call:\n",
       "lm(formula = z.diff ~ z.lag.1 + 1 + tt + z.diff.lag)\n",
       "\n",
       "Residuals:\n",
       "    Min      1Q  Median      3Q     Max \n",
       "-8.3686 -1.8724 -0.0532  1.7624  7.0894 \n",
       "\n",
       "Coefficients:\n",
       "             Estimate Std. Error t value Pr(>|t|)    \n",
       "(Intercept)  2.514765   1.457474   1.725   0.0858 .  \n",
       "z.lag.1     -0.039858   0.023987  -1.662   0.0979 .  \n",
       "tt          -0.000751   0.002516  -0.299   0.7656    \n",
       "z.diff.lag  -0.361493   0.060804  -5.945 9.96e-09 ***\n",
       "---\n",
       "Signif. codes:  0 '***' 0.001 '**' 0.01 '*' 0.05 '.' 0.1 ' ' 1\n",
       "\n",
       "Residual standard error: 2.593 on 234 degrees of freedom\n",
       "Multiple R-squared:  0.1597,\tAdjusted R-squared:  0.1489 \n",
       "F-statistic: 14.82 on 3 and 234 DF,  p-value: 7.203e-09\n",
       "\n",
       "\n",
       "Value of test-statistic is: -1.6616 1.1096 1.6255 \n",
       "\n",
       "Critical values for test statistics: \n",
       "      1pct  5pct 10pct\n",
       "tau3 -3.99 -3.43 -3.13\n",
       "phi2  6.22  4.75  4.07\n",
       "phi3  8.43  6.49  5.47\n"
      ]
     },
     "metadata": {},
     "output_type": "display_data"
    },
    {
     "data": {
      "text/plain": [
       "\n",
       "############################################### \n",
       "# Augmented Dickey-Fuller Test Unit Root Test # \n",
       "############################################### \n",
       "\n",
       "Test regression drift \n",
       "\n",
       "\n",
       "Call:\n",
       "lm(formula = z.diff ~ z.lag.1 + 1 + z.diff.lag)\n",
       "\n",
       "Residuals:\n",
       "    Min      1Q  Median      3Q     Max \n",
       "-8.4466 -1.8036  0.0716  1.7755  6.8106 \n",
       "\n",
       "Coefficients:\n",
       "            Estimate Std. Error t value Pr(>|t|)    \n",
       "(Intercept) -0.04562    0.16885  -0.270    0.787    \n",
       "z.lag.1     -1.50768    0.10844 -13.903   <2e-16 ***\n",
       "z.diff.lag   0.09212    0.06495   1.418    0.157    \n",
       "---\n",
       "Signif. codes:  0 '***' 0.001 '**' 0.01 '*' 0.05 '.' 0.1 ' ' 1\n",
       "\n",
       "Residual standard error: 2.599 on 234 degrees of freedom\n",
       "Multiple R-squared:  0.6934,\tAdjusted R-squared:  0.6908 \n",
       "F-statistic: 264.6 on 2 and 234 DF,  p-value: < 2.2e-16\n",
       "\n",
       "\n",
       "Value of test-statistic is: -13.9033 96.6583 \n",
       "\n",
       "Critical values for test statistics: \n",
       "      1pct  5pct 10pct\n",
       "tau2 -3.46 -2.88 -2.57\n",
       "phi1  6.52  4.63  3.81\n"
      ]
     },
     "metadata": {},
     "output_type": "display_data"
    },
    {
     "data": {
      "text/plain": [
       "\n",
       "############################################### \n",
       "# Augmented Dickey-Fuller Test Unit Root Test # \n",
       "############################################### \n",
       "\n",
       "Test regression drift \n",
       "\n",
       "\n",
       "Call:\n",
       "lm(formula = z.diff ~ z.lag.1 + 1 + z.diff.lag)\n",
       "\n",
       "Residuals:\n",
       "    Min      1Q  Median      3Q     Max \n",
       "-3.0800 -1.1523 -0.6086  0.6734  7.8442 \n",
       "\n",
       "Coefficients:\n",
       "            Estimate Std. Error t value Pr(>|t|)    \n",
       "(Intercept)  1.23838    0.20245   6.117 3.95e-09 ***\n",
       "z.lag.1     -0.59702    0.07794  -7.660 4.83e-13 ***\n",
       "z.diff.lag  -0.18865    0.06405  -2.946  0.00355 ** \n",
       "---\n",
       "Signif. codes:  0 '***' 0.001 '**' 0.01 '*' 0.05 '.' 0.1 ' ' 1\n",
       "\n",
       "Residual standard error: 1.848 on 235 degrees of freedom\n",
       "Multiple R-squared:  0.3908,\tAdjusted R-squared:  0.3857 \n",
       "F-statistic: 75.39 on 2 and 235 DF,  p-value: < 2.2e-16\n",
       "\n",
       "\n",
       "Value of test-statistic is: -7.6602 29.3443 \n",
       "\n",
       "Critical values for test statistics: \n",
       "      1pct  5pct 10pct\n",
       "tau2 -3.46 -2.88 -2.57\n",
       "phi1  6.52  4.63  3.81\n"
      ]
     },
     "metadata": {},
     "output_type": "display_data"
    },
    {
     "data": {
      "text/plain": [
       "\n",
       "############################################### \n",
       "# Augmented Dickey-Fuller Test Unit Root Test # \n",
       "############################################### \n",
       "\n",
       "Test regression trend \n",
       "\n",
       "\n",
       "Call:\n",
       "lm(formula = z.diff ~ z.lag.1 + 1 + tt + z.diff.lag)\n",
       "\n",
       "Residuals:\n",
       "     Min       1Q   Median       3Q      Max \n",
       "-0.41070 -0.06026 -0.00622  0.05963  0.43825 \n",
       "\n",
       "Coefficients:\n",
       "              Estimate Std. Error t value Pr(>|t|)    \n",
       "(Intercept)  0.0455110  0.0172231   2.642  0.00879 ** \n",
       "z.lag.1     -0.1910637  0.0457096  -4.180 4.12e-05 ***\n",
       "tt           0.0016930  0.0004203   4.028 7.59e-05 ***\n",
       "z.diff.lag  -0.2731072  0.0632926  -4.315 2.36e-05 ***\n",
       "---\n",
       "Signif. codes:  0 '***' 0.001 '**' 0.01 '*' 0.05 '.' 0.1 ' ' 1\n",
       "\n",
       "Residual standard error: 0.1151 on 234 degrees of freedom\n",
       "Multiple R-squared:  0.1937,\tAdjusted R-squared:  0.1833 \n",
       "F-statistic: 18.74 on 3 and 234 DF,  p-value: 6.311e-11\n",
       "\n",
       "\n",
       "Value of test-statistic is: -4.1799 6.4439 8.7366 \n",
       "\n",
       "Critical values for test statistics: \n",
       "      1pct  5pct 10pct\n",
       "tau3 -3.99 -3.43 -3.13\n",
       "phi2  6.22  4.75  4.07\n",
       "phi3  8.43  6.49  5.47\n"
      ]
     },
     "metadata": {},
     "output_type": "display_data"
    },
    {
     "data": {
      "text/plain": [
       "\n",
       "############################################### \n",
       "# Augmented Dickey-Fuller Test Unit Root Test # \n",
       "############################################### \n",
       "\n",
       "Test regression drift \n",
       "\n",
       "\n",
       "Call:\n",
       "lm(formula = z.diff ~ z.lag.1 + 1 + z.diff.lag)\n",
       "\n",
       "Residuals:\n",
       "    Min      1Q  Median      3Q     Max \n",
       "-6.3833 -1.4252 -0.0591  1.0262 10.9019 \n",
       "\n",
       "Coefficients:\n",
       "            Estimate Std. Error t value Pr(>|t|)    \n",
       "(Intercept)  2.94267    0.86834   3.389 0.000823 ***\n",
       "z.lag.1     -0.13515    0.03925  -3.443 0.000681 ***\n",
       "z.diff.lag  -0.33453    0.06184  -5.410 1.55e-07 ***\n",
       "---\n",
       "Signif. codes:  0 '***' 0.001 '**' 0.01 '*' 0.05 '.' 0.1 ' ' 1\n",
       "\n",
       "Residual standard error: 2.34 on 235 degrees of freedom\n",
       "Multiple R-squared:  0.2019,\tAdjusted R-squared:  0.1951 \n",
       "F-statistic: 29.72 on 2 and 235 DF,  p-value: 3.125e-12\n",
       "\n",
       "\n",
       "Value of test-statistic is: -3.4431 5.9275 \n",
       "\n",
       "Critical values for test statistics: \n",
       "      1pct  5pct 10pct\n",
       "tau2 -3.46 -2.88 -2.57\n",
       "phi1  6.52  4.63  3.81\n"
      ]
     },
     "metadata": {},
     "output_type": "display_data"
    },
    {
     "data": {
      "text/plain": [
       "\n",
       "############################################### \n",
       "# Augmented Dickey-Fuller Test Unit Root Test # \n",
       "############################################### \n",
       "\n",
       "Test regression none \n",
       "\n",
       "\n",
       "Call:\n",
       "lm(formula = z.diff ~ z.lag.1 - 1 + z.diff.lag)\n",
       "\n",
       "Residuals:\n",
       "    Min      1Q  Median      3Q     Max \n",
       "-5.5594 -1.4603 -0.0911  1.0828 11.7104 \n",
       "\n",
       "Coefficients:\n",
       "           Estimate Std. Error t value Pr(>|t|)    \n",
       "z.lag.1    -1.63158    0.10787 -15.126   <2e-16 ***\n",
       "z.diff.lag  0.16362    0.06465   2.531    0.012 *  \n",
       "---\n",
       "Signif. codes:  0 '***' 0.001 '**' 0.01 '*' 0.05 '.' 0.1 ' ' 1\n",
       "\n",
       "Residual standard error: 2.364 on 235 degrees of freedom\n",
       "Multiple R-squared:  0.7081,\tAdjusted R-squared:  0.7057 \n",
       "F-statistic: 285.1 on 2 and 235 DF,  p-value: < 2.2e-16\n",
       "\n",
       "\n",
       "Value of test-statistic is: -15.1261 \n",
       "\n",
       "Critical values for test statistics: \n",
       "      1pct  5pct 10pct\n",
       "tau1 -2.58 -1.95 -1.62\n"
      ]
     },
     "metadata": {},
     "output_type": "display_data"
    },
    {
     "data": {
      "text/plain": [
       "\n",
       "############################################### \n",
       "# Augmented Dickey-Fuller Test Unit Root Test # \n",
       "############################################### \n",
       "\n",
       "Test regression drift \n",
       "\n",
       "\n",
       "Call:\n",
       "lm(formula = z.diff ~ z.lag.1 + 1 + z.diff.lag)\n",
       "\n",
       "Residuals:\n",
       "    Min      1Q  Median      3Q     Max \n",
       "-1.2757 -0.6429 -0.2773  0.2768  5.3239 \n",
       "\n",
       "Coefficients:\n",
       "            Estimate Std. Error t value Pr(>|t|)    \n",
       "(Intercept)  0.91741    0.10935   8.390 4.56e-15 ***\n",
       "z.lag.1     -0.91448    0.08674 -10.543  < 2e-16 ***\n",
       "z.diff.lag   0.03564    0.06525   0.546    0.585    \n",
       "---\n",
       "Signif. codes:  0 '***' 0.001 '**' 0.01 '*' 0.05 '.' 0.1 ' ' 1\n",
       "\n",
       "Residual standard error: 1.02 on 235 degrees of freedom\n",
       "Multiple R-squared:  0.4426,\tAdjusted R-squared:  0.4378 \n",
       "F-statistic: 93.29 on 2 and 235 DF,  p-value: < 2.2e-16\n",
       "\n",
       "\n",
       "Value of test-statistic is: -10.543 55.5779 \n",
       "\n",
       "Critical values for test statistics: \n",
       "      1pct  5pct 10pct\n",
       "tau2 -3.46 -2.88 -2.57\n",
       "phi1  6.52  4.63  3.81\n"
      ]
     },
     "metadata": {},
     "output_type": "display_data"
    },
    {
     "data": {
      "text/plain": [
       "\n",
       "############################################### \n",
       "# Augmented Dickey-Fuller Test Unit Root Test # \n",
       "############################################### \n",
       "\n",
       "Test regression trend \n",
       "\n",
       "\n",
       "Call:\n",
       "lm(formula = z.diff ~ z.lag.1 + 1 + tt + z.diff.lag)\n",
       "\n",
       "Residuals:\n",
       "      Min        1Q    Median        3Q       Max \n",
       "-0.152713 -0.019898 -0.004163  0.017763  0.128591 \n",
       "\n",
       "Coefficients:\n",
       "              Estimate Std. Error t value Pr(>|t|)   \n",
       "(Intercept)  3.053e-02  9.690e-03   3.150  0.00184 **\n",
       "z.lag.1     -1.125e-01  3.385e-02  -3.324  0.00103 **\n",
       "tt           1.883e-04  6.593e-05   2.856  0.00467 **\n",
       "z.diff.lag  -1.646e-01  6.458e-02  -2.549  0.01145 * \n",
       "---\n",
       "Signif. codes:  0 '***' 0.001 '**' 0.01 '*' 0.05 '.' 0.1 ' ' 1\n",
       "\n",
       "Residual standard error: 0.03357 on 234 degrees of freedom\n",
       "Multiple R-squared:  0.09106,\tAdjusted R-squared:  0.0794 \n",
       "F-statistic: 7.814 on 3 and 234 DF,  p-value: 5.416e-05\n",
       "\n",
       "\n",
       "Value of test-statistic is: -3.3236 3.817 5.5305 \n",
       "\n",
       "Critical values for test statistics: \n",
       "      1pct  5pct 10pct\n",
       "tau3 -3.99 -3.43 -3.13\n",
       "phi2  6.22  4.75  4.07\n",
       "phi3  8.43  6.49  5.47\n"
      ]
     },
     "metadata": {},
     "output_type": "display_data"
    },
    {
     "data": {
      "text/plain": [
       "\n",
       "############################################### \n",
       "# Augmented Dickey-Fuller Test Unit Root Test # \n",
       "############################################### \n",
       "\n",
       "Test regression drift \n",
       "\n",
       "\n",
       "Call:\n",
       "lm(formula = z.diff ~ z.lag.1 + 1 + z.diff.lag)\n",
       "\n",
       "Residuals:\n",
       "     Min       1Q   Median       3Q      Max \n",
       "-0.16626 -0.01789 -0.00014  0.01630  0.11344 \n",
       "\n",
       "Coefficients:\n",
       "             Estimate Std. Error t value Pr(>|t|)    \n",
       "(Intercept)  0.001864   0.002174   0.857 0.392274    \n",
       "z.lag.1     -1.497008   0.099904 -14.985  < 2e-16 ***\n",
       "z.diff.lag   0.221899   0.063775   3.479 0.000599 ***\n",
       "---\n",
       "Signif. codes:  0 '***' 0.001 '**' 0.01 '*' 0.05 '.' 0.1 ' ' 1\n",
       "\n",
       "Residual standard error: 0.03342 on 234 degrees of freedom\n",
       "Multiple R-squared:  0.6301,\tAdjusted R-squared:  0.6269 \n",
       "F-statistic: 199.3 on 2 and 234 DF,  p-value: < 2.2e-16\n",
       "\n",
       "\n",
       "Value of test-statistic is: -14.9845 112.268 \n",
       "\n",
       "Critical values for test statistics: \n",
       "      1pct  5pct 10pct\n",
       "tau2 -3.46 -2.88 -2.57\n",
       "phi1  6.52  4.63  3.81\n"
      ]
     },
     "metadata": {},
     "output_type": "display_data"
    },
    {
     "data": {
      "text/plain": [
       "\n",
       "############################################### \n",
       "# Augmented Dickey-Fuller Test Unit Root Test # \n",
       "############################################### \n",
       "\n",
       "Test regression trend \n",
       "\n",
       "\n",
       "Call:\n",
       "lm(formula = z.diff ~ z.lag.1 + 1 + tt + z.diff.lag)\n",
       "\n",
       "Residuals:\n",
       "    Min      1Q  Median      3Q     Max \n",
       "-4.3257 -1.0531 -0.1899  0.9922  6.6894 \n",
       "\n",
       "Coefficients:\n",
       "             Estimate Std. Error t value Pr(>|t|)    \n",
       "(Intercept)  0.830185   0.359828   2.307   0.0219 *  \n",
       "z.lag.1     -0.059029   0.024666  -2.393   0.0175 *  \n",
       "tt          -0.002056   0.001646  -1.249   0.2129    \n",
       "z.diff.lag  -0.284061   0.062347  -4.556 8.39e-06 ***\n",
       "---\n",
       "Signif. codes:  0 '***' 0.001 '**' 0.01 '*' 0.05 '.' 0.1 ' ' 1\n",
       "\n",
       "Residual standard error: 1.713 on 234 degrees of freedom\n",
       "Multiple R-squared:  0.1216,\tAdjusted R-squared:  0.1104 \n",
       "F-statistic:  10.8 on 3 and 234 DF,  p-value: 1.131e-06\n",
       "\n",
       "\n",
       "Value of test-statistic is: -2.3932 2.1313 3.1968 \n",
       "\n",
       "Critical values for test statistics: \n",
       "      1pct  5pct 10pct\n",
       "tau3 -3.99 -3.43 -3.13\n",
       "phi2  6.22  4.75  4.07\n",
       "phi3  8.43  6.49  5.47\n"
      ]
     },
     "metadata": {},
     "output_type": "display_data"
    },
    {
     "data": {
      "text/plain": [
       "\n",
       "############################################### \n",
       "# Augmented Dickey-Fuller Test Unit Root Test # \n",
       "############################################### \n",
       "\n",
       "Test regression drift \n",
       "\n",
       "\n",
       "Call:\n",
       "lm(formula = z.diff ~ z.lag.1 + 1 + z.diff.lag)\n",
       "\n",
       "Residuals:\n",
       "    Min      1Q  Median      3Q     Max \n",
       "-4.4854 -1.0920 -0.1206  0.8180  6.8767 \n",
       "\n",
       "Coefficients:\n",
       "             Estimate Std. Error t value Pr(>|t|)    \n",
       "(Intercept) -0.004288   0.112353  -0.038    0.970    \n",
       "z.lag.1     -1.418592   0.105640 -13.429   <2e-16 ***\n",
       "z.diff.lag   0.082320   0.065171   1.263    0.208    \n",
       "---\n",
       "Signif. codes:  0 '***' 0.001 '**' 0.01 '*' 0.05 '.' 0.1 ' ' 1\n",
       "\n",
       "Residual standard error: 1.73 on 234 degrees of freedom\n",
       "Multiple R-squared:  0.6579,\tAdjusted R-squared:  0.655 \n",
       "F-statistic:   225 on 2 and 234 DF,  p-value: < 2.2e-16\n",
       "\n",
       "\n",
       "Value of test-statistic is: -13.4285 90.1636 \n",
       "\n",
       "Critical values for test statistics: \n",
       "      1pct  5pct 10pct\n",
       "tau2 -3.46 -2.88 -2.57\n",
       "phi1  6.52  4.63  3.81\n"
      ]
     },
     "metadata": {},
     "output_type": "display_data"
    },
    {
     "data": {
      "text/plain": [
       "\n",
       "############################################### \n",
       "# Augmented Dickey-Fuller Test Unit Root Test # \n",
       "############################################### \n",
       "\n",
       "Test regression drift \n",
       "\n",
       "\n",
       "Call:\n",
       "lm(formula = z.diff ~ z.lag.1 + 1 + z.diff.lag)\n",
       "\n",
       "Residuals:\n",
       "    Min      1Q  Median      3Q     Max \n",
       "-3.9192 -0.9886 -0.5163  0.3929 11.8224 \n",
       "\n",
       "Coefficients:\n",
       "            Estimate Std. Error t value Pr(>|t|)    \n",
       "(Intercept)  0.99164    0.18305   5.417 1.50e-07 ***\n",
       "z.lag.1     -0.55233    0.07220  -7.649 5.16e-13 ***\n",
       "z.diff.lag  -0.10335    0.06473  -1.597    0.112    \n",
       "---\n",
       "Signif. codes:  0 '***' 0.001 '**' 0.01 '*' 0.05 '.' 0.1 ' ' 1\n",
       "\n",
       "Residual standard error: 1.98 on 235 degrees of freedom\n",
       "Multiple R-squared:  0.3156,\tAdjusted R-squared:  0.3098 \n",
       "F-statistic: 54.18 on 2 and 235 DF,  p-value: < 2.2e-16\n",
       "\n",
       "\n",
       "Value of test-statistic is: -7.6495 29.2586 \n",
       "\n",
       "Critical values for test statistics: \n",
       "      1pct  5pct 10pct\n",
       "tau2 -3.46 -2.88 -2.57\n",
       "phi1  6.52  4.63  3.81\n"
      ]
     },
     "metadata": {},
     "output_type": "display_data"
    },
    {
     "data": {
      "text/plain": [
       "\n",
       "############################################### \n",
       "# Augmented Dickey-Fuller Test Unit Root Test # \n",
       "############################################### \n",
       "\n",
       "Test regression trend \n",
       "\n",
       "\n",
       "Call:\n",
       "lm(formula = z.diff ~ z.lag.1 + 1 + tt + z.diff.lag)\n",
       "\n",
       "Residuals:\n",
       "       Min         1Q     Median         3Q        Max \n",
       "-0.0103561 -0.0002298 -0.0000483  0.0001363  0.0097661 \n",
       "\n",
       "Coefficients:\n",
       "              Estimate Std. Error t value Pr(>|t|)    \n",
       "(Intercept)  8.311e-04  2.850e-04   2.916 0.003890 ** \n",
       "z.lag.1     -1.689e-01  4.351e-02  -3.882 0.000135 ***\n",
       "tt          -4.247e-06  1.718e-06  -2.473 0.014126 *  \n",
       "z.diff.lag  -3.250e-01  6.174e-02  -5.265 3.18e-07 ***\n",
       "---\n",
       "Signif. codes:  0 '***' 0.001 '**' 0.01 '*' 0.05 '.' 0.1 ' ' 1\n",
       "\n",
       "Residual standard error: 0.001433 on 234 degrees of freedom\n",
       "Multiple R-squared:  0.2179,\tAdjusted R-squared:  0.2079 \n",
       "F-statistic: 21.74 on 3 and 234 DF,  p-value: 1.871e-12\n",
       "\n",
       "\n",
       "Value of test-statistic is: -3.8819 5.0392 7.5396 \n",
       "\n",
       "Critical values for test statistics: \n",
       "      1pct  5pct 10pct\n",
       "tau3 -3.99 -3.43 -3.13\n",
       "phi2  6.22  4.75  4.07\n",
       "phi3  8.43  6.49  5.47\n"
      ]
     },
     "metadata": {},
     "output_type": "display_data"
    },
    {
     "data": {
      "text/plain": [
       "\n",
       "############################################### \n",
       "# Augmented Dickey-Fuller Test Unit Root Test # \n",
       "############################################### \n",
       "\n",
       "Test regression drift \n",
       "\n",
       "\n",
       "Call:\n",
       "lm(formula = z.diff ~ z.lag.1 + 1 + z.diff.lag)\n",
       "\n",
       "Residuals:\n",
       "       Min         1Q     Median         3Q        Max \n",
       "-0.0125187 -0.0001606  0.0000181  0.0001084  0.0088559 \n",
       "\n",
       "Coefficients:\n",
       "              Estimate Std. Error t value Pr(>|t|)    \n",
       "(Intercept) -1.809e-05  9.595e-05  -0.189    0.851    \n",
       "z.lag.1     -1.476e+00  1.096e-01 -13.462   <2e-16 ***\n",
       "z.diff.lag   4.702e-02  6.529e-02   0.720    0.472    \n",
       "---\n",
       "Signif. codes:  0 '***' 0.001 '**' 0.01 '*' 0.05 '.' 0.1 ' ' 1\n",
       "\n",
       "Residual standard error: 0.001477 on 234 degrees of freedom\n",
       "Multiple R-squared:  0.7054,\tAdjusted R-squared:  0.7029 \n",
       "F-statistic: 280.1 on 2 and 234 DF,  p-value: < 2.2e-16\n",
       "\n",
       "\n",
       "Value of test-statistic is: -13.4624 90.6176 \n",
       "\n",
       "Critical values for test statistics: \n",
       "      1pct  5pct 10pct\n",
       "tau2 -3.46 -2.88 -2.57\n",
       "phi1  6.52  4.63  3.81\n"
      ]
     },
     "metadata": {},
     "output_type": "display_data"
    },
    {
     "data": {
      "text/plain": [
       "\n",
       "############################################### \n",
       "# Augmented Dickey-Fuller Test Unit Root Test # \n",
       "############################################### \n",
       "\n",
       "Test regression trend \n",
       "\n",
       "\n",
       "Call:\n",
       "lm(formula = z.diff ~ z.lag.1 + 1 + tt + z.diff.lag)\n",
       "\n",
       "Residuals:\n",
       "    Min      1Q  Median      3Q     Max \n",
       "-6.3024 -1.2922 -0.3096  1.0008  8.3853 \n",
       "\n",
       "Coefficients:\n",
       "             Estimate Std. Error t value Pr(>|t|)    \n",
       "(Intercept)  1.720736   0.484284   3.553  0.00046 ***\n",
       "z.lag.1     -0.194238   0.045680  -4.252 3.06e-05 ***\n",
       "tt           0.003231   0.002087   1.548  0.12296    \n",
       "z.diff.lag  -0.254587   0.063255  -4.025 7.70e-05 ***\n",
       "---\n",
       "Signif. codes:  0 '***' 0.001 '**' 0.01 '*' 0.05 '.' 0.1 ' ' 1\n",
       "\n",
       "Residual standard error: 2.071 on 234 degrees of freedom\n",
       "Multiple R-squared:  0.1866,\tAdjusted R-squared:  0.1762 \n",
       "F-statistic:  17.9 on 3 and 234 DF,  p-value: 1.718e-10\n",
       "\n",
       "\n",
       "Value of test-statistic is: -4.2521 6.0429 9.042 \n",
       "\n",
       "Critical values for test statistics: \n",
       "      1pct  5pct 10pct\n",
       "tau3 -3.99 -3.43 -3.13\n",
       "phi2  6.22  4.75  4.07\n",
       "phi3  8.43  6.49  5.47\n"
      ]
     },
     "metadata": {},
     "output_type": "display_data"
    },
    {
     "data": {
      "text/plain": [
       "\n",
       "############################################### \n",
       "# Augmented Dickey-Fuller Test Unit Root Test # \n",
       "############################################### \n",
       "\n",
       "Test regression drift \n",
       "\n",
       "\n",
       "Call:\n",
       "lm(formula = z.diff ~ z.lag.1 + 1 + z.diff.lag)\n",
       "\n",
       "Residuals:\n",
       "    Min      1Q  Median      3Q     Max \n",
       "-1.4059 -0.3952 -0.2291  0.2353  3.2463 \n",
       "\n",
       "Coefficients:\n",
       "            Estimate Std. Error t value Pr(>|t|)    \n",
       "(Intercept)  0.38238    0.06083   6.286 1.57e-09 ***\n",
       "z.lag.1     -0.68100    0.07557  -9.012  < 2e-16 ***\n",
       "z.diff.lag   0.01588    0.06540   0.243    0.808    \n",
       "---\n",
       "Signif. codes:  0 '***' 0.001 '**' 0.01 '*' 0.05 '.' 0.1 ' ' 1\n",
       "\n",
       "Residual standard error: 0.6734 on 235 degrees of freedom\n",
       "Multiple R-squared:  0.335,\tAdjusted R-squared:  0.3293 \n",
       "F-statistic: 59.19 on 2 and 235 DF,  p-value: < 2.2e-16\n",
       "\n",
       "\n",
       "Value of test-statistic is: -9.012 40.6085 \n",
       "\n",
       "Critical values for test statistics: \n",
       "      1pct  5pct 10pct\n",
       "tau2 -3.46 -2.88 -2.57\n",
       "phi1  6.52  4.63  3.81\n"
      ]
     },
     "metadata": {},
     "output_type": "display_data"
    },
    {
     "data": {
      "text/plain": [
       "\n",
       "############################################### \n",
       "# Augmented Dickey-Fuller Test Unit Root Test # \n",
       "############################################### \n",
       "\n",
       "Test regression trend \n",
       "\n",
       "\n",
       "Call:\n",
       "lm(formula = z.diff ~ z.lag.1 + 1 + tt + z.diff.lag)\n",
       "\n",
       "Residuals:\n",
       "      Min        1Q    Median        3Q       Max \n",
       "-0.086957 -0.005994 -0.000701  0.005916  0.067159 \n",
       "\n",
       "Coefficients:\n",
       "              Estimate Std. Error t value Pr(>|t|)    \n",
       "(Intercept) -1.174e-03  2.353e-03  -0.499 0.618234    \n",
       "z.lag.1     -1.056e-01  3.110e-02  -3.396 0.000802 ***\n",
       "tt           1.051e-04  3.411e-05   3.081 0.002312 ** \n",
       "z.diff.lag  -1.192e-01  6.467e-02  -1.844 0.066492 .  \n",
       "---\n",
       "Signif. codes:  0 '***' 0.001 '**' 0.01 '*' 0.05 '.' 0.1 ' ' 1\n",
       "\n",
       "Residual standard error: 0.01767 on 234 degrees of freedom\n",
       "Multiple R-squared:  0.07483,\tAdjusted R-squared:  0.06296 \n",
       "F-statistic: 6.308 on 3 and 234 DF,  p-value: 0.0003929\n",
       "\n",
       "\n",
       "Value of test-statistic is: -3.3964 4.0158 5.7969 \n",
       "\n",
       "Critical values for test statistics: \n",
       "      1pct  5pct 10pct\n",
       "tau3 -3.99 -3.43 -3.13\n",
       "phi2  6.22  4.75  4.07\n",
       "phi3  8.43  6.49  5.47\n"
      ]
     },
     "metadata": {},
     "output_type": "display_data"
    },
    {
     "data": {
      "text/plain": [
       "\n",
       "############################################### \n",
       "# Augmented Dickey-Fuller Test Unit Root Test # \n",
       "############################################### \n",
       "\n",
       "Test regression drift \n",
       "\n",
       "\n",
       "Call:\n",
       "lm(formula = z.diff ~ z.lag.1 + 1 + z.diff.lag)\n",
       "\n",
       "Residuals:\n",
       "      Min        1Q    Median        3Q       Max \n",
       "-0.097332 -0.005499 -0.000171  0.006553  0.064485 \n",
       "\n",
       "Coefficients:\n",
       "              Estimate Std. Error t value Pr(>|t|)    \n",
       "(Intercept)  0.0008011  0.0011784   0.680    0.497    \n",
       "z.lag.1     -1.1952107  0.1009681 -11.838   <2e-16 ***\n",
       "z.diff.lag   0.0212942  0.0663541   0.321    0.749    \n",
       "---\n",
       "Signif. codes:  0 '***' 0.001 '**' 0.01 '*' 0.05 '.' 0.1 ' ' 1\n",
       "\n",
       "Residual standard error: 0.0181 on 234 degrees of freedom\n",
       "Multiple R-squared:  0.5853,\tAdjusted R-squared:  0.5818 \n",
       "F-statistic: 165.1 on 2 and 234 DF,  p-value: < 2.2e-16\n",
       "\n",
       "\n",
       "Value of test-statistic is: -11.8375 70.0686 \n",
       "\n",
       "Critical values for test statistics: \n",
       "      1pct  5pct 10pct\n",
       "tau2 -3.46 -2.88 -2.57\n",
       "phi1  6.52  4.63  3.81\n"
      ]
     },
     "metadata": {},
     "output_type": "display_data"
    },
    {
     "data": {
      "text/plain": [
       "\n",
       "############################################### \n",
       "# Augmented Dickey-Fuller Test Unit Root Test # \n",
       "############################################### \n",
       "\n",
       "Test regression trend \n",
       "\n",
       "\n",
       "Call:\n",
       "lm(formula = z.diff ~ z.lag.1 + 1 + tt + z.diff.lag)\n",
       "\n",
       "Residuals:\n",
       "    Min      1Q  Median      3Q     Max \n",
       "-3.6000 -1.1478 -0.1625  0.8816 10.4570 \n",
       "\n",
       "Coefficients:\n",
       "             Estimate Std. Error t value Pr(>|t|)    \n",
       "(Intercept)  3.789416   0.811729   4.668 5.12e-06 ***\n",
       "z.lag.1     -0.246599   0.050594  -4.874 2.02e-06 ***\n",
       "tt          -0.003736   0.001748  -2.137  0.03360 *  \n",
       "z.diff.lag  -0.193455   0.064305  -3.008  0.00291 ** \n",
       "---\n",
       "Signif. codes:  0 '***' 0.001 '**' 0.01 '*' 0.05 '.' 0.1 ' ' 1\n",
       "\n",
       "Residual standard error: 1.641 on 234 degrees of freedom\n",
       "Multiple R-squared:  0.1838,\tAdjusted R-squared:  0.1733 \n",
       "F-statistic: 17.56 on 3 and 234 DF,  p-value: 2.574e-10\n",
       "\n",
       "\n",
       "Value of test-statistic is: -4.8741 7.9257 11.8886 \n",
       "\n",
       "Critical values for test statistics: \n",
       "      1pct  5pct 10pct\n",
       "tau3 -3.99 -3.43 -3.13\n",
       "phi2  6.22  4.75  4.07\n",
       "phi3  8.43  6.49  5.47\n"
      ]
     },
     "metadata": {},
     "output_type": "display_data"
    },
    {
     "data": {
      "text/plain": [
       "\n",
       "############################################### \n",
       "# Augmented Dickey-Fuller Test Unit Root Test # \n",
       "############################################### \n",
       "\n",
       "Test regression drift \n",
       "\n",
       "\n",
       "Call:\n",
       "lm(formula = z.diff ~ z.lag.1 + 1 + z.diff.lag)\n",
       "\n",
       "Residuals:\n",
       "    Min      1Q  Median      3Q     Max \n",
       "-2.5836 -0.6728 -0.1967  0.2667  8.5446 \n",
       "\n",
       "Coefficients:\n",
       "            Estimate Std. Error t value Pr(>|t|)    \n",
       "(Intercept)  0.77919    0.11928   6.532 3.97e-10 ***\n",
       "z.lag.1     -0.60132    0.07208  -8.343 6.20e-15 ***\n",
       "z.diff.lag   0.01131    0.06749   0.168    0.867    \n",
       "---\n",
       "Signif. codes:  0 '***' 0.001 '**' 0.01 '*' 0.05 '.' 0.1 ' ' 1\n",
       "\n",
       "Residual standard error: 1.154 on 235 degrees of freedom\n",
       "Multiple R-squared:  0.2979,\tAdjusted R-squared:  0.2919 \n",
       "F-statistic: 49.85 on 2 and 235 DF,  p-value: < 2.2e-16\n",
       "\n",
       "\n",
       "Value of test-statistic is: -8.3429 34.8035 \n",
       "\n",
       "Critical values for test statistics: \n",
       "      1pct  5pct 10pct\n",
       "tau2 -3.46 -2.88 -2.57\n",
       "phi1  6.52  4.63  3.81\n"
      ]
     },
     "metadata": {},
     "output_type": "display_data"
    },
    {
     "data": {
      "text/plain": [
       "\n",
       "############################################### \n",
       "# Augmented Dickey-Fuller Test Unit Root Test # \n",
       "############################################### \n",
       "\n",
       "Test regression trend \n",
       "\n",
       "\n",
       "Call:\n",
       "lm(formula = z.diff ~ z.lag.1 + 1 + tt + z.diff.lag)\n",
       "\n",
       "Residuals:\n",
       "      Min        1Q    Median        3Q       Max \n",
       "-0.228870 -0.045476 -0.002447  0.037131  0.231604 \n",
       "\n",
       "Coefficients:\n",
       "              Estimate Std. Error t value Pr(>|t|)    \n",
       "(Intercept)  9.867e-02  3.041e-02   3.245 0.001348 ** \n",
       "z.lag.1     -1.121e-01  3.443e-02  -3.256 0.001298 ** \n",
       "tt           9.873e-05  7.491e-05   1.318 0.188781    \n",
       "z.diff.lag  -2.419e-01  6.294e-02  -3.843 0.000156 ***\n",
       "---\n",
       "Signif. codes:  0 '***' 0.001 '**' 0.01 '*' 0.05 '.' 0.1 ' ' 1\n",
       "\n",
       "Residual standard error: 0.06898 on 234 degrees of freedom\n",
       "Multiple R-squared:  0.1299,\tAdjusted R-squared:  0.1187 \n",
       "F-statistic: 11.64 on 3 and 234 DF,  p-value: 3.856e-07\n",
       "\n",
       "\n",
       "Value of test-statistic is: -3.2558 3.6075 5.3572 \n",
       "\n",
       "Critical values for test statistics: \n",
       "      1pct  5pct 10pct\n",
       "tau3 -3.99 -3.43 -3.13\n",
       "phi2  6.22  4.75  4.07\n",
       "phi3  8.43  6.49  5.47\n"
      ]
     },
     "metadata": {},
     "output_type": "display_data"
    },
    {
     "data": {
      "text/plain": [
       "\n",
       "############################################### \n",
       "# Augmented Dickey-Fuller Test Unit Root Test # \n",
       "############################################### \n",
       "\n",
       "Test regression drift \n",
       "\n",
       "\n",
       "Call:\n",
       "lm(formula = z.diff ~ z.lag.1 + 1 + z.diff.lag)\n",
       "\n",
       "Residuals:\n",
       "     Min       1Q   Median       3Q      Max \n",
       "-0.26402 -0.03932 -0.00272  0.03543  0.21486 \n",
       "\n",
       "Coefficients:\n",
       "             Estimate Std. Error t value Pr(>|t|)    \n",
       "(Intercept)  0.002324   0.004347   0.535    0.593    \n",
       "z.lag.1     -1.703712   0.099843 -17.064  < 2e-16 ***\n",
       "z.diff.lag   0.301883   0.061589   4.902 1.78e-06 ***\n",
       "---\n",
       "Signif. codes:  0 '***' 0.001 '**' 0.01 '*' 0.05 '.' 0.1 ' ' 1\n",
       "\n",
       "Residual standard error: 0.0669 on 234 degrees of freedom\n",
       "Multiple R-squared:  0.6865,\tAdjusted R-squared:  0.6839 \n",
       "F-statistic: 256.3 on 2 and 234 DF,  p-value: < 2.2e-16\n",
       "\n",
       "\n",
       "Value of test-statistic is: -17.064 145.5911 \n",
       "\n",
       "Critical values for test statistics: \n",
       "      1pct  5pct 10pct\n",
       "tau2 -3.46 -2.88 -2.57\n",
       "phi1  6.52  4.63  3.81\n"
      ]
     },
     "metadata": {},
     "output_type": "display_data"
    },
    {
     "data": {
      "text/plain": [
       "\n",
       "############################################### \n",
       "# Augmented Dickey-Fuller Test Unit Root Test # \n",
       "############################################### \n",
       "\n",
       "Test regression trend \n",
       "\n",
       "\n",
       "Call:\n",
       "lm(formula = z.diff ~ z.lag.1 + 1 + tt + z.diff.lag)\n",
       "\n",
       "Residuals:\n",
       "    Min      1Q  Median      3Q     Max \n",
       "-2.4927 -0.7528 -0.1675  0.6048  5.5363 \n",
       "\n",
       "Coefficients:\n",
       "             Estimate Std. Error t value Pr(>|t|)    \n",
       "(Intercept)  0.886512   0.252226   3.515 0.000528 ***\n",
       "z.lag.1     -0.223402   0.048584  -4.598 6.98e-06 ***\n",
       "tt           0.003190   0.001333   2.393 0.017520 *  \n",
       "z.diff.lag  -0.230872   0.065033  -3.550 0.000465 ***\n",
       "---\n",
       "Signif. codes:  0 '***' 0.001 '**' 0.01 '*' 0.05 '.' 0.1 ' ' 1\n",
       "\n",
       "Residual standard error: 1.233 on 234 degrees of freedom\n",
       "Multiple R-squared:  0.1887,\tAdjusted R-squared:  0.1783 \n",
       "F-statistic: 18.14 on 3 and 234 DF,  p-value: 1.279e-10\n",
       "\n",
       "\n",
       "Value of test-statistic is: -4.5983 7.0775 10.5869 \n",
       "\n",
       "Critical values for test statistics: \n",
       "      1pct  5pct 10pct\n",
       "tau3 -3.99 -3.43 -3.13\n",
       "phi2  6.22  4.75  4.07\n",
       "phi3  8.43  6.49  5.47\n"
      ]
     },
     "metadata": {},
     "output_type": "display_data"
    },
    {
     "data": {
      "text/plain": [
       "\n",
       "############################################### \n",
       "# Augmented Dickey-Fuller Test Unit Root Test # \n",
       "############################################### \n",
       "\n",
       "Test regression drift \n",
       "\n",
       "\n",
       "Call:\n",
       "lm(formula = z.diff ~ z.lag.1 + 1 + z.diff.lag)\n",
       "\n",
       "Residuals:\n",
       "    Min      1Q  Median      3Q     Max \n",
       "-6.7468 -0.8085 -0.3379  0.3510 17.8584 \n",
       "\n",
       "Coefficients:\n",
       "            Estimate Std. Error t value Pr(>|t|)    \n",
       "(Intercept)  0.51032    0.15834   3.223  0.00145 ** \n",
       "z.lag.1     -0.33542    0.05578  -6.013 6.91e-09 ***\n",
       "z.diff.lag  -0.08616    0.06643  -1.297  0.19591    \n",
       "---\n",
       "Signif. codes:  0 '***' 0.001 '**' 0.01 '*' 0.05 '.' 0.1 ' ' 1\n",
       "\n",
       "Residual standard error: 2.079 on 235 degrees of freedom\n",
       "Multiple R-squared:  0.1893,\tAdjusted R-squared:  0.1824 \n",
       "F-statistic: 27.44 on 2 and 235 DF,  p-value: 1.954e-11\n",
       "\n",
       "\n",
       "Value of test-statistic is: -6.013 18.0813 \n",
       "\n",
       "Critical values for test statistics: \n",
       "      1pct  5pct 10pct\n",
       "tau2 -3.46 -2.88 -2.57\n",
       "phi1  6.52  4.63  3.81\n"
      ]
     },
     "metadata": {},
     "output_type": "display_data"
    },
    {
     "data": {
      "text/plain": [
       "\n",
       "############################################### \n",
       "# Augmented Dickey-Fuller Test Unit Root Test # \n",
       "############################################### \n",
       "\n",
       "Test regression trend \n",
       "\n",
       "\n",
       "Call:\n",
       "lm(formula = z.diff ~ z.lag.1 + 1 + tt + z.diff.lag)\n",
       "\n",
       "Residuals:\n",
       "     Min       1Q   Median       3Q      Max \n",
       "-0.37770 -0.04691 -0.00290  0.04865  0.42889 \n",
       "\n",
       "Coefficients:\n",
       "              Estimate Std. Error t value Pr(>|t|)    \n",
       "(Intercept)  0.0261976  0.0131362   1.994 0.047279 *  \n",
       "z.lag.1     -0.1249778  0.0329920  -3.788 0.000193 ***\n",
       "tt           0.0005718  0.0001836   3.115 0.002068 ** \n",
       "z.diff.lag   0.0883885  0.0660235   1.339 0.181954    \n",
       "---\n",
       "Signif. codes:  0 '***' 0.001 '**' 0.01 '*' 0.05 '.' 0.1 ' ' 1\n",
       "\n",
       "Residual standard error: 0.09271 on 234 degrees of freedom\n",
       "Multiple R-squared:  0.05911,\tAdjusted R-squared:  0.04705 \n",
       "F-statistic: 4.901 on 3 and 234 DF,  p-value: 0.002537\n",
       "\n",
       "\n",
       "Value of test-statistic is: -3.7881 4.904 7.2769 \n",
       "\n",
       "Critical values for test statistics: \n",
       "      1pct  5pct 10pct\n",
       "tau3 -3.99 -3.43 -3.13\n",
       "phi2  6.22  4.75  4.07\n",
       "phi3  8.43  6.49  5.47\n"
      ]
     },
     "metadata": {},
     "output_type": "display_data"
    },
    {
     "data": {
      "text/plain": [
       "\n",
       "############################################### \n",
       "# Augmented Dickey-Fuller Test Unit Root Test # \n",
       "############################################### \n",
       "\n",
       "Test regression drift \n",
       "\n",
       "\n",
       "Call:\n",
       "lm(formula = z.diff ~ z.lag.1 + 1 + z.diff.lag)\n",
       "\n",
       "Residuals:\n",
       "     Min       1Q   Median       3Q      Max \n",
       "-0.44508 -0.03995  0.00089  0.05304  0.36683 \n",
       "\n",
       "Coefficients:\n",
       "             Estimate Std. Error t value Pr(>|t|)    \n",
       "(Intercept)  0.002929   0.006186   0.473    0.636    \n",
       "z.lag.1     -1.069521   0.092775 -11.528   <2e-16 ***\n",
       "z.diff.lag   0.093083   0.066108   1.408    0.160    \n",
       "---\n",
       "Signif. codes:  0 '***' 0.001 '**' 0.01 '*' 0.05 '.' 0.1 ' ' 1\n",
       "\n",
       "Residual standard error: 0.0951 on 234 degrees of freedom\n",
       "Multiple R-squared:  0.4892,\tAdjusted R-squared:  0.4848 \n",
       "F-statistic:   112 on 2 and 234 DF,  p-value: < 2.2e-16\n",
       "\n",
       "\n",
       "Value of test-statistic is: -11.5281 66.457 \n",
       "\n",
       "Critical values for test statistics: \n",
       "      1pct  5pct 10pct\n",
       "tau2 -3.46 -2.88 -2.57\n",
       "phi1  6.52  4.63  3.81\n"
      ]
     },
     "metadata": {},
     "output_type": "display_data"
    },
    {
     "data": {
      "text/plain": [
       "\n",
       "############################################### \n",
       "# Augmented Dickey-Fuller Test Unit Root Test # \n",
       "############################################### \n",
       "\n",
       "Test regression trend \n",
       "\n",
       "\n",
       "Call:\n",
       "lm(formula = z.diff ~ z.lag.1 + 1 + tt + z.diff.lag)\n",
       "\n",
       "Residuals:\n",
       "    Min      1Q  Median      3Q     Max \n",
       "-1.8475 -0.5544 -0.0417  0.5795  3.2461 \n",
       "\n",
       "Coefficients:\n",
       "              Estimate Std. Error t value Pr(>|t|)    \n",
       "(Intercept)  1.0662992  0.2932997   3.636 0.000341 ***\n",
       "z.lag.1     -0.1657148  0.0426298  -3.887 0.000132 ***\n",
       "tt          -0.0015399  0.0008521  -1.807 0.072005 .  \n",
       "z.diff.lag  -0.2891700  0.0620843  -4.658 5.36e-06 ***\n",
       "---\n",
       "Signif. codes:  0 '***' 0.001 '**' 0.01 '*' 0.05 '.' 0.1 ' ' 1\n",
       "\n",
       "Residual standard error: 0.8039 on 234 degrees of freedom\n",
       "Multiple R-squared:  0.1928,\tAdjusted R-squared:  0.1825 \n",
       "F-statistic: 18.64 on 3 and 234 DF,  p-value: 7.112e-11\n",
       "\n",
       "\n",
       "Value of test-statistic is: -3.8873 5.0379 7.5564 \n",
       "\n",
       "Critical values for test statistics: \n",
       "      1pct  5pct 10pct\n",
       "tau3 -3.99 -3.43 -3.13\n",
       "phi2  6.22  4.75  4.07\n",
       "phi3  8.43  6.49  5.47\n"
      ]
     },
     "metadata": {},
     "output_type": "display_data"
    },
    {
     "data": {
      "text/plain": [
       "\n",
       "############################################### \n",
       "# Augmented Dickey-Fuller Test Unit Root Test # \n",
       "############################################### \n",
       "\n",
       "Test regression drift \n",
       "\n",
       "\n",
       "Call:\n",
       "lm(formula = z.diff ~ z.lag.1 + 1 + z.diff.lag)\n",
       "\n",
       "Residuals:\n",
       "     Min       1Q   Median       3Q      Max \n",
       "-2.19624 -0.55673 -0.00625  0.55966  2.95744 \n",
       "\n",
       "Coefficients:\n",
       "            Estimate Std. Error t value Pr(>|t|)    \n",
       "(Intercept) -0.01014    0.05215  -0.195  0.84594    \n",
       "z.lag.1     -1.64071    0.10456 -15.692  < 2e-16 ***\n",
       "z.diff.lag   0.20648    0.06282   3.287  0.00117 ** \n",
       "---\n",
       "Signif. codes:  0 '***' 0.001 '**' 0.01 '*' 0.05 '.' 0.1 ' ' 1\n",
       "\n",
       "Residual standard error: 0.8029 on 234 degrees of freedom\n",
       "Multiple R-squared:  0.6998,\tAdjusted R-squared:  0.6972 \n",
       "F-statistic: 272.7 on 2 and 234 DF,  p-value: < 2.2e-16\n",
       "\n",
       "\n",
       "Value of test-statistic is: -15.6916 123.1204 \n",
       "\n",
       "Critical values for test statistics: \n",
       "      1pct  5pct 10pct\n",
       "tau2 -3.46 -2.88 -2.57\n",
       "phi1  6.52  4.63  3.81\n"
      ]
     },
     "metadata": {},
     "output_type": "display_data"
    },
    {
     "data": {
      "text/plain": [
       "\n",
       "############################################### \n",
       "# Augmented Dickey-Fuller Test Unit Root Test # \n",
       "############################################### \n",
       "\n",
       "Test regression drift \n",
       "\n",
       "\n",
       "Call:\n",
       "lm(formula = z.diff ~ z.lag.1 + 1 + z.diff.lag)\n",
       "\n",
       "Residuals:\n",
       "    Min      1Q  Median      3Q     Max \n",
       "-0.5086 -0.1530 -0.1458  0.0004  2.4006 \n",
       "\n",
       "Coefficients:\n",
       "            Estimate Std. Error t value Pr(>|t|)    \n",
       "(Intercept)  0.14580    0.03048   4.783 3.04e-06 ***\n",
       "z.lag.1     -0.84716    0.09076  -9.334  < 2e-16 ***\n",
       "z.diff.lag  -0.14154    0.06459  -2.191   0.0294 *  \n",
       "---\n",
       "Signif. codes:  0 '***' 0.001 '**' 0.01 '*' 0.05 '.' 0.1 ' ' 1\n",
       "\n",
       "Residual standard error: 0.4034 on 235 degrees of freedom\n",
       "Multiple R-squared:  0.5035,\tAdjusted R-squared:  0.4993 \n",
       "F-statistic: 119.2 on 2 and 235 DF,  p-value: < 2.2e-16\n",
       "\n",
       "\n",
       "Value of test-statistic is: -9.3343 43.5649 \n",
       "\n",
       "Critical values for test statistics: \n",
       "      1pct  5pct 10pct\n",
       "tau2 -3.46 -2.88 -2.57\n",
       "phi1  6.52  4.63  3.81\n"
      ]
     },
     "metadata": {},
     "output_type": "display_data"
    },
    {
     "data": {
      "text/plain": [
       "\n",
       "############################################### \n",
       "# Augmented Dickey-Fuller Test Unit Root Test # \n",
       "############################################### \n",
       "\n",
       "Test regression trend \n",
       "\n",
       "\n",
       "Call:\n",
       "lm(formula = z.diff ~ z.lag.1 + 1 + tt + z.diff.lag)\n",
       "\n",
       "Residuals:\n",
       "      Min        1Q    Median        3Q       Max \n",
       "-0.104564 -0.019298 -0.003564  0.015917  0.121396 \n",
       "\n",
       "Coefficients:\n",
       "              Estimate Std. Error t value Pr(>|t|)    \n",
       "(Intercept)  4.465e-02  1.181e-02   3.781 0.000198 ***\n",
       "z.lag.1     -1.474e-01  3.798e-02  -3.882 0.000135 ***\n",
       "tt           1.113e-04  4.214e-05   2.640 0.008839 ** \n",
       "z.diff.lag  -1.405e-01  6.477e-02  -2.169 0.031122 *  \n",
       "---\n",
       "Signif. codes:  0 '***' 0.001 '**' 0.01 '*' 0.05 '.' 0.1 ' ' 1\n",
       "\n",
       "Residual standard error: 0.03116 on 234 degrees of freedom\n",
       "Multiple R-squared:  0.1037,\tAdjusted R-squared:  0.09221 \n",
       "F-statistic: 9.025 on 3 and 234 DF,  p-value: 1.116e-05\n",
       "\n",
       "\n",
       "Value of test-statistic is: -3.8823 5.1045 7.5567 \n",
       "\n",
       "Critical values for test statistics: \n",
       "      1pct  5pct 10pct\n",
       "tau3 -3.99 -3.43 -3.13\n",
       "phi2  6.22  4.75  4.07\n",
       "phi3  8.43  6.49  5.47\n"
      ]
     },
     "metadata": {},
     "output_type": "display_data"
    },
    {
     "data": {
      "text/plain": [
       "\n",
       "############################################### \n",
       "# Augmented Dickey-Fuller Test Unit Root Test # \n",
       "############################################### \n",
       "\n",
       "Test regression drift \n",
       "\n",
       "\n",
       "Call:\n",
       "lm(formula = z.diff ~ z.lag.1 + 1 + z.diff.lag)\n",
       "\n",
       "Residuals:\n",
       "     Min       1Q   Median       3Q      Max \n",
       "-0.12597 -0.01801 -0.00237  0.01627  0.11070 \n",
       "\n",
       "Coefficients:\n",
       "             Estimate Std. Error t value Pr(>|t|)    \n",
       "(Intercept)  0.001301   0.001969   0.661    0.509    \n",
       "z.lag.1     -1.621696   0.096165 -16.864  < 2e-16 ***\n",
       "z.diff.lag   0.332597   0.061627   5.397 1.66e-07 ***\n",
       "---\n",
       "Signif. codes:  0 '***' 0.001 '**' 0.01 '*' 0.05 '.' 0.1 ' ' 1\n",
       "\n",
       "Residual standard error: 0.03029 on 234 degrees of freedom\n",
       "Multiple R-squared:  0.6504,\tAdjusted R-squared:  0.6474 \n",
       "F-statistic: 217.6 on 2 and 234 DF,  p-value: < 2.2e-16\n",
       "\n",
       "\n",
       "Value of test-statistic is: -16.8637 142.1932 \n",
       "\n",
       "Critical values for test statistics: \n",
       "      1pct  5pct 10pct\n",
       "tau2 -3.46 -2.88 -2.57\n",
       "phi1  6.52  4.63  3.81\n"
      ]
     },
     "metadata": {},
     "output_type": "display_data"
    },
    {
     "data": {
      "text/plain": [
       "\n",
       "############################################### \n",
       "# Augmented Dickey-Fuller Test Unit Root Test # \n",
       "############################################### \n",
       "\n",
       "Test regression trend \n",
       "\n",
       "\n",
       "Call:\n",
       "lm(formula = z.diff ~ z.lag.1 + 1 + tt + z.diff.lag)\n",
       "\n",
       "Residuals:\n",
       "   Min     1Q Median     3Q    Max \n",
       "-4.685 -1.196  0.061  1.271  8.638 \n",
       "\n",
       "Coefficients:\n",
       "              Estimate Std. Error t value Pr(>|t|)    \n",
       "(Intercept)  1.6962136  0.8378430   2.025   0.0441 *  \n",
       "z.lag.1     -0.0674689  0.0274126  -2.461   0.0146 *  \n",
       "tt          -0.0008881  0.0021352  -0.416   0.6779    \n",
       "z.diff.lag  -0.4077175  0.0590108  -6.909 4.57e-11 ***\n",
       "---\n",
       "Signif. codes:  0 '***' 0.001 '**' 0.01 '*' 0.05 '.' 0.1 ' ' 1\n",
       "\n",
       "Residual standard error: 1.998 on 234 degrees of freedom\n",
       "Multiple R-squared:  0.2188,\tAdjusted R-squared:  0.2088 \n",
       "F-statistic: 21.85 on 3 and 234 DF,  p-value: 1.641e-12\n",
       "\n",
       "\n",
       "Value of test-statistic is: -2.4612 2.3575 3.3785 \n",
       "\n",
       "Critical values for test statistics: \n",
       "      1pct  5pct 10pct\n",
       "tau3 -3.99 -3.43 -3.13\n",
       "phi2  6.22  4.75  4.07\n",
       "phi3  8.43  6.49  5.47\n"
      ]
     },
     "metadata": {},
     "output_type": "display_data"
    },
    {
     "data": {
      "text/plain": [
       "\n",
       "############################################### \n",
       "# Augmented Dickey-Fuller Test Unit Root Test # \n",
       "############################################### \n",
       "\n",
       "Test regression none \n",
       "\n",
       "\n",
       "Call:\n",
       "lm(formula = z.diff ~ z.lag.1 - 1 + z.diff.lag)\n",
       "\n",
       "Residuals:\n",
       "    Min      1Q  Median      3Q     Max \n",
       "-5.1522 -1.2506 -0.0726  1.3596  8.3986 \n",
       "\n",
       "Coefficients:\n",
       "           Estimate Std. Error t value Pr(>|t|)    \n",
       "z.lag.1    -1.83816    0.10601 -17.340  < 2e-16 ***\n",
       "z.diff.lag  0.27773    0.06221   4.464 1.25e-05 ***\n",
       "---\n",
       "Signif. codes:  0 '***' 0.001 '**' 0.01 '*' 0.05 '.' 0.1 ' ' 1\n",
       "\n",
       "Residual standard error: 1.942 on 235 degrees of freedom\n",
       "Multiple R-squared:  0.7416,\tAdjusted R-squared:  0.7394 \n",
       "F-statistic: 337.2 on 2 and 235 DF,  p-value: < 2.2e-16\n",
       "\n",
       "\n",
       "Value of test-statistic is: -17.3397 \n",
       "\n",
       "Critical values for test statistics: \n",
       "      1pct  5pct 10pct\n",
       "tau1 -2.58 -1.95 -1.62\n"
      ]
     },
     "metadata": {},
     "output_type": "display_data"
    },
    {
     "data": {
      "text/plain": [
       "\n",
       "############################################### \n",
       "# Augmented Dickey-Fuller Test Unit Root Test # \n",
       "############################################### \n",
       "\n",
       "Test regression drift \n",
       "\n",
       "\n",
       "Call:\n",
       "lm(formula = z.diff ~ z.lag.1 + 1 + z.diff.lag)\n",
       "\n",
       "Residuals:\n",
       "    Min      1Q  Median      3Q     Max \n",
       "-0.8849 -0.4602 -0.1728  0.1738  7.5716 \n",
       "\n",
       "Coefficients:\n",
       "            Estimate Std. Error t value Pr(>|t|)    \n",
       "(Intercept)  0.54566    0.07587   7.192  8.5e-12 ***\n",
       "z.lag.1     -0.86848    0.08699  -9.984  < 2e-16 ***\n",
       "z.diff.lag  -0.02355    0.06519  -0.361    0.718    \n",
       "---\n",
       "Signif. codes:  0 '***' 0.001 '**' 0.01 '*' 0.05 '.' 0.1 ' ' 1\n",
       "\n",
       "Residual standard error: 0.8113 on 235 degrees of freedom\n",
       "Multiple R-squared:  0.4451,\tAdjusted R-squared:  0.4404 \n",
       "F-statistic: 94.26 on 2 and 235 DF,  p-value: < 2.2e-16\n",
       "\n",
       "\n",
       "Value of test-statistic is: -9.9838 49.8386 \n",
       "\n",
       "Critical values for test statistics: \n",
       "      1pct  5pct 10pct\n",
       "tau2 -3.46 -2.88 -2.57\n",
       "phi1  6.52  4.63  3.81\n"
      ]
     },
     "metadata": {},
     "output_type": "display_data"
    },
    {
     "data": {
      "text/plain": [
       "\n",
       "############################################### \n",
       "# Augmented Dickey-Fuller Test Unit Root Test # \n",
       "############################################### \n",
       "\n",
       "Test regression trend \n",
       "\n",
       "\n",
       "Call:\n",
       "lm(formula = z.diff ~ z.lag.1 + 1 + tt + z.diff.lag)\n",
       "\n",
       "Residuals:\n",
       "      Min        1Q    Median        3Q       Max \n",
       "-0.291130 -0.051310 -0.001232  0.051358  0.213513 \n",
       "\n",
       "Coefficients:\n",
       "              Estimate Std. Error t value Pr(>|t|)    \n",
       "(Intercept)  0.1079386  0.0274520   3.932 0.000111 ***\n",
       "z.lag.1     -0.1575943  0.0381123  -4.135 4.95e-05 ***\n",
       "tt           0.0005897  0.0001556   3.789 0.000192 ***\n",
       "z.diff.lag  -0.0768121  0.0653235  -1.176 0.240841    \n",
       "---\n",
       "Signif. codes:  0 '***' 0.001 '**' 0.01 '*' 0.05 '.' 0.1 ' ' 1\n",
       "\n",
       "Residual standard error: 0.07572 on 234 degrees of freedom\n",
       "Multiple R-squared:  0.09083,\tAdjusted R-squared:  0.07917 \n",
       "F-statistic: 7.792 on 3 and 234 DF,  p-value: 5.572e-05\n",
       "\n",
       "\n",
       "Value of test-statistic is: -4.135 5.9699 8.5809 \n",
       "\n",
       "Critical values for test statistics: \n",
       "      1pct  5pct 10pct\n",
       "tau3 -3.99 -3.43 -3.13\n",
       "phi2  6.22  4.75  4.07\n",
       "phi3  8.43  6.49  5.47\n"
      ]
     },
     "metadata": {},
     "output_type": "display_data"
    },
    {
     "data": {
      "text/plain": [
       "\n",
       "############################################### \n",
       "# Augmented Dickey-Fuller Test Unit Root Test # \n",
       "############################################### \n",
       "\n",
       "Test regression trend \n",
       "\n",
       "\n",
       "Call:\n",
       "lm(formula = z.diff ~ z.lag.1 + 1 + tt + z.diff.lag)\n",
       "\n",
       "Residuals:\n",
       "     Min       1Q   Median       3Q      Max \n",
       "-1.64551 -0.40998 -0.07173  0.31684  3.11310 \n",
       "\n",
       "Coefficients:\n",
       "              Estimate Std. Error t value Pr(>|t|)    \n",
       "(Intercept)  0.2696343  0.0986095   2.734 0.006728 ** \n",
       "z.lag.1     -0.2681523  0.0543926  -4.930 1.56e-06 ***\n",
       "tt           0.0028420  0.0008216   3.459 0.000644 ***\n",
       "z.diff.lag  -0.2992223  0.0622783  -4.805 2.77e-06 ***\n",
       "---\n",
       "Signif. codes:  0 '***' 0.001 '**' 0.01 '*' 0.05 '.' 0.1 ' ' 1\n",
       "\n",
       "Residual standard error: 0.631 on 234 degrees of freedom\n",
       "Multiple R-squared:  0.2639,\tAdjusted R-squared:  0.2544 \n",
       "F-statistic: 27.96 on 3 and 234 DF,  p-value: 1.731e-15\n",
       "\n",
       "\n",
       "Value of test-statistic is: -4.9299 8.1234 12.1557 \n",
       "\n",
       "Critical values for test statistics: \n",
       "      1pct  5pct 10pct\n",
       "tau3 -3.99 -3.43 -3.13\n",
       "phi2  6.22  4.75  4.07\n",
       "phi3  8.43  6.49  5.47\n"
      ]
     },
     "metadata": {},
     "output_type": "display_data"
    },
    {
     "data": {
      "text/plain": [
       "\n",
       "############################################### \n",
       "# Augmented Dickey-Fuller Test Unit Root Test # \n",
       "############################################### \n",
       "\n",
       "Test regression drift \n",
       "\n",
       "\n",
       "Call:\n",
       "lm(formula = z.diff ~ z.lag.1 + 1 + z.diff.lag)\n",
       "\n",
       "Residuals:\n",
       "    Min      1Q  Median      3Q     Max \n",
       "-1.4287 -0.1655 -0.1316 -0.0240  7.5119 \n",
       "\n",
       "Coefficients:\n",
       "            Estimate Std. Error t value Pr(>|t|)    \n",
       "(Intercept)  0.13159    0.04657   2.825  0.00513 ** \n",
       "z.lag.1     -0.50809    0.06625  -7.669 4.56e-13 ***\n",
       "z.diff.lag  -0.01519    0.06492  -0.234  0.81521    \n",
       "---\n",
       "Signif. codes:  0 '***' 0.001 '**' 0.01 '*' 0.05 '.' 0.1 ' ' 1\n",
       "\n",
       "Residual standard error: 0.6669 on 235 degrees of freedom\n",
       "Multiple R-squared:  0.2582,\tAdjusted R-squared:  0.2518 \n",
       "F-statistic: 40.89 on 2 and 235 DF,  p-value: 5.78e-16\n",
       "\n",
       "\n",
       "Value of test-statistic is: -7.6695 29.4107 \n",
       "\n",
       "Critical values for test statistics: \n",
       "      1pct  5pct 10pct\n",
       "tau2 -3.46 -2.88 -2.57\n",
       "phi1  6.52  4.63  3.81\n"
      ]
     },
     "metadata": {},
     "output_type": "display_data"
    },
    {
     "data": {
      "text/plain": [
       "\n",
       "############################################### \n",
       "# Augmented Dickey-Fuller Test Unit Root Test # \n",
       "############################################### \n",
       "\n",
       "Test regression trend \n",
       "\n",
       "\n",
       "Call:\n",
       "lm(formula = z.diff ~ z.lag.1 + 1 + tt + z.diff.lag)\n",
       "\n",
       "Residuals:\n",
       "      Min        1Q    Median        3Q       Max \n",
       "-0.114260 -0.024875 -0.000257  0.022262  0.097448 \n",
       "\n",
       "Coefficients:\n",
       "              Estimate Std. Error t value Pr(>|t|)    \n",
       "(Intercept)  2.557e-02  8.229e-03   3.107 0.002124 ** \n",
       "z.lag.1     -1.563e-01  4.263e-02  -3.665 0.000305 ***\n",
       "tt           2.217e-04  6.779e-05   3.270 0.001237 ** \n",
       "z.diff.lag  -4.030e-01  5.960e-02  -6.762 1.08e-10 ***\n",
       "---\n",
       "Signif. codes:  0 '***' 0.001 '**' 0.01 '*' 0.05 '.' 0.1 ' ' 1\n",
       "\n",
       "Residual standard error: 0.03549 on 234 degrees of freedom\n",
       "Multiple R-squared:  0.2721,\tAdjusted R-squared:  0.2628 \n",
       "F-statistic: 29.16 on 3 and 234 DF,  p-value: 4.686e-16\n",
       "\n",
       "\n",
       "Value of test-statistic is: -3.6655 4.6026 6.7321 \n",
       "\n",
       "Critical values for test statistics: \n",
       "      1pct  5pct 10pct\n",
       "tau3 -3.99 -3.43 -3.13\n",
       "phi2  6.22  4.75  4.07\n",
       "phi3  8.43  6.49  5.47\n"
      ]
     },
     "metadata": {},
     "output_type": "display_data"
    },
    {
     "data": {
      "text/plain": [
       "\n",
       "############################################### \n",
       "# Augmented Dickey-Fuller Test Unit Root Test # \n",
       "############################################### \n",
       "\n",
       "Test regression drift \n",
       "\n",
       "\n",
       "Call:\n",
       "lm(formula = z.diff ~ z.lag.1 + 1 + z.diff.lag)\n",
       "\n",
       "Residuals:\n",
       "      Min        1Q    Median        3Q       Max \n",
       "-0.123145 -0.022446 -0.000586  0.022575  0.102600 \n",
       "\n",
       "Coefficients:\n",
       "             Estimate Std. Error t value Pr(>|t|)    \n",
       "(Intercept)  0.001836   0.002328   0.789   0.4309    \n",
       "z.lag.1     -1.731152   0.110512 -15.665   <2e-16 ***\n",
       "z.diff.lag   0.168441   0.064228   2.623   0.0093 ** \n",
       "---\n",
       "Signif. codes:  0 '***' 0.001 '**' 0.01 '*' 0.05 '.' 0.1 ' ' 1\n",
       "\n",
       "Residual standard error: 0.03579 on 234 degrees of freedom\n",
       "Multiple R-squared:  0.7496,\tAdjusted R-squared:  0.7475 \n",
       "F-statistic: 350.2 on 2 and 234 DF,  p-value: < 2.2e-16\n",
       "\n",
       "\n",
       "Value of test-statistic is: -15.6648 122.6941 \n",
       "\n",
       "Critical values for test statistics: \n",
       "      1pct  5pct 10pct\n",
       "tau2 -3.46 -2.88 -2.57\n",
       "phi1  6.52  4.63  3.81\n"
      ]
     },
     "metadata": {},
     "output_type": "display_data"
    },
    {
     "data": {
      "text/plain": [
       "\n",
       "############################################### \n",
       "# Augmented Dickey-Fuller Test Unit Root Test # \n",
       "############################################### \n",
       "\n",
       "Test regression drift \n",
       "\n",
       "\n",
       "Call:\n",
       "lm(formula = z.diff ~ z.lag.1 + 1 + z.diff.lag)\n",
       "\n",
       "Residuals:\n",
       "     Min       1Q   Median       3Q      Max \n",
       "-1.33142 -0.28492 -0.03463  0.24521  1.47925 \n",
       "\n",
       "Coefficients:\n",
       "            Estimate Std. Error t value Pr(>|t|)    \n",
       "(Intercept)  0.44209    0.09498   4.655 5.42e-06 ***\n",
       "z.lag.1     -0.28922    0.06065  -4.769 3.25e-06 ***\n",
       "z.diff.lag  -0.36392    0.06199  -5.871 1.47e-08 ***\n",
       "---\n",
       "Signif. codes:  0 '***' 0.001 '**' 0.01 '*' 0.05 '.' 0.1 ' ' 1\n",
       "\n",
       "Residual standard error: 0.4368 on 235 degrees of freedom\n",
       "Multiple R-squared:  0.3284,\tAdjusted R-squared:  0.3227 \n",
       "F-statistic: 57.45 on 2 and 235 DF,  p-value: < 2.2e-16\n",
       "\n",
       "\n",
       "Value of test-statistic is: -4.769 11.4309 \n",
       "\n",
       "Critical values for test statistics: \n",
       "      1pct  5pct 10pct\n",
       "tau2 -3.46 -2.88 -2.57\n",
       "phi1  6.52  4.63  3.81\n"
      ]
     },
     "metadata": {},
     "output_type": "display_data"
    },
    {
     "data": {
      "text/plain": [
       "\n",
       "############################################### \n",
       "# Augmented Dickey-Fuller Test Unit Root Test # \n",
       "############################################### \n",
       "\n",
       "Test regression drift \n",
       "\n",
       "\n",
       "Call:\n",
       "lm(formula = z.diff ~ z.lag.1 + 1 + z.diff.lag)\n",
       "\n",
       "Residuals:\n",
       "    Min      1Q  Median      3Q     Max \n",
       "-0.1886 -0.0835 -0.0791 -0.0791  7.4527 \n",
       "\n",
       "Coefficients:\n",
       "            Estimate Std. Error t value Pr(>|t|)    \n",
       "(Intercept)  0.07914    0.03386   2.337   0.0203 *  \n",
       "z.lag.1     -0.87541    0.08881  -9.857   <2e-16 ***\n",
       "z.diff.lag  -0.05888    0.06512  -0.904   0.3668    \n",
       "---\n",
       "Signif. codes:  0 '***' 0.001 '**' 0.01 '*' 0.05 '.' 0.1 ' ' 1\n",
       "\n",
       "Residual standard error: 0.5077 on 235 degrees of freedom\n",
       "Multiple R-squared:  0.467,\tAdjusted R-squared:  0.4624 \n",
       "F-statistic: 102.9 on 2 and 235 DF,  p-value: < 2.2e-16\n",
       "\n",
       "\n",
       "Value of test-statistic is: -9.8574 48.5846 \n",
       "\n",
       "Critical values for test statistics: \n",
       "      1pct  5pct 10pct\n",
       "tau2 -3.46 -2.88 -2.57\n",
       "phi1  6.52  4.63  3.81\n"
      ]
     },
     "metadata": {},
     "output_type": "display_data"
    },
    {
     "data": {
      "text/plain": [
       "\n",
       "############################################### \n",
       "# Augmented Dickey-Fuller Test Unit Root Test # \n",
       "############################################### \n",
       "\n",
       "Test regression trend \n",
       "\n",
       "\n",
       "Call:\n",
       "lm(formula = z.diff ~ z.lag.1 + 1 + tt + z.diff.lag)\n",
       "\n",
       "Residuals:\n",
       "      Min        1Q    Median        3Q       Max \n",
       "-0.089328 -0.014631 -0.000489  0.016498  0.110553 \n",
       "\n",
       "Coefficients:\n",
       "              Estimate Std. Error t value Pr(>|t|)    \n",
       "(Intercept)  1.962e-02  5.999e-03   3.270 0.001237 ** \n",
       "z.lag.1     -1.464e-01  3.703e-02  -3.955 0.000101 ***\n",
       "tt           2.477e-04  6.736e-05   3.677 0.000292 ***\n",
       "z.diff.lag  -1.150e-01  6.638e-02  -1.733 0.084383 .  \n",
       "---\n",
       "Signif. codes:  0 '***' 0.001 '**' 0.01 '*' 0.05 '.' 0.1 ' ' 1\n",
       "\n",
       "Residual standard error: 0.02873 on 234 degrees of freedom\n",
       "Multiple R-squared:  0.09416,\tAdjusted R-squared:  0.08254 \n",
       "F-statistic: 8.107 on 3 and 234 DF,  p-value: 3.689e-05\n",
       "\n",
       "\n",
       "Value of test-statistic is: -3.9552 5.4629 7.8319 \n",
       "\n",
       "Critical values for test statistics: \n",
       "      1pct  5pct 10pct\n",
       "tau3 -3.99 -3.43 -3.13\n",
       "phi2  6.22  4.75  4.07\n",
       "phi3  8.43  6.49  5.47\n"
      ]
     },
     "metadata": {},
     "output_type": "display_data"
    },
    {
     "data": {
      "text/plain": [
       "\n",
       "############################################### \n",
       "# Augmented Dickey-Fuller Test Unit Root Test # \n",
       "############################################### \n",
       "\n",
       "Test regression drift \n",
       "\n",
       "\n",
       "Call:\n",
       "lm(formula = z.diff ~ z.lag.1 + 1 + z.diff.lag)\n",
       "\n",
       "Residuals:\n",
       "      Min        1Q    Median        3Q       Max \n",
       "-0.090040 -0.014377 -0.000451  0.017893  0.100495 \n",
       "\n",
       "Coefficients:\n",
       "             Estimate Std. Error t value Pr(>|t|)    \n",
       "(Intercept)  0.001800   0.001928   0.933    0.352    \n",
       "z.lag.1     -1.260882   0.102124 -12.347   <2e-16 ***\n",
       "z.diff.lag   0.060663   0.066810   0.908    0.365    \n",
       "---\n",
       "Signif. codes:  0 '***' 0.001 '**' 0.01 '*' 0.05 '.' 0.1 ' ' 1\n",
       "\n",
       "Residual standard error: 0.02958 on 234 degrees of freedom\n",
       "Multiple R-squared:  0.5843,\tAdjusted R-squared:  0.5807 \n",
       "F-statistic: 164.4 on 2 and 234 DF,  p-value: < 2.2e-16\n",
       "\n",
       "\n",
       "Value of test-statistic is: -12.3466 76.2254 \n",
       "\n",
       "Critical values for test statistics: \n",
       "      1pct  5pct 10pct\n",
       "tau2 -3.46 -2.88 -2.57\n",
       "phi1  6.52  4.63  3.81\n"
      ]
     },
     "metadata": {},
     "output_type": "display_data"
    },
    {
     "data": {
      "text/plain": [
       "\n",
       "############################################### \n",
       "# Augmented Dickey-Fuller Test Unit Root Test # \n",
       "############################################### \n",
       "\n",
       "Test regression trend \n",
       "\n",
       "\n",
       "Call:\n",
       "lm(formula = z.diff ~ z.lag.1 + 1 + tt + z.diff.lag)\n",
       "\n",
       "Residuals:\n",
       "    Min      1Q  Median      3Q     Max \n",
       "-2.2469 -0.5094 -0.0806  0.2851 15.8719 \n",
       "\n",
       "Coefficients:\n",
       "             Estimate Std. Error t value Pr(>|t|)    \n",
       "(Intercept) -0.089411   0.178250  -0.502    0.616    \n",
       "z.lag.1     -0.317133   0.058582  -5.414 1.53e-07 ***\n",
       "tt           0.007422   0.001873   3.962 9.86e-05 ***\n",
       "z.diff.lag  -0.266505   0.062994  -4.231 3.35e-05 ***\n",
       "---\n",
       "Signif. codes:  0 '***' 0.001 '**' 0.01 '*' 0.05 '.' 0.1 ' ' 1\n",
       "\n",
       "Residual standard error: 1.353 on 234 degrees of freedom\n",
       "Multiple R-squared:  0.2718,\tAdjusted R-squared:  0.2624 \n",
       "F-statistic: 29.11 on 3 and 234 DF,  p-value: 4.962e-16\n",
       "\n",
       "\n",
       "Value of test-statistic is: -5.4135 9.7853 14.653 \n",
       "\n",
       "Critical values for test statistics: \n",
       "      1pct  5pct 10pct\n",
       "tau3 -3.99 -3.43 -3.13\n",
       "phi2  6.22  4.75  4.07\n",
       "phi3  8.43  6.49  5.47\n"
      ]
     },
     "metadata": {},
     "output_type": "display_data"
    },
    {
     "data": {
      "text/plain": [
       "\n",
       "############################################### \n",
       "# Augmented Dickey-Fuller Test Unit Root Test # \n",
       "############################################### \n",
       "\n",
       "Test regression drift \n",
       "\n",
       "\n",
       "Call:\n",
       "lm(formula = z.diff ~ z.lag.1 + 1 + z.diff.lag)\n",
       "\n",
       "Residuals:\n",
       "    Min      1Q  Median      3Q     Max \n",
       "-1.9613 -0.2780 -0.2204 -0.0345 10.5218 \n",
       "\n",
       "Coefficients:\n",
       "            Estimate Std. Error t value Pr(>|t|)    \n",
       "(Intercept)  0.27798    0.07155   3.885 0.000133 ***\n",
       "z.lag.1     -0.79051    0.07826 -10.101  < 2e-16 ***\n",
       "z.diff.lag   0.08955    0.06499   1.378 0.169557    \n",
       "---\n",
       "Signif. codes:  0 '***' 0.001 '**' 0.01 '*' 0.05 '.' 0.1 ' ' 1\n",
       "\n",
       "Residual standard error: 1.019 on 235 degrees of freedom\n",
       "Multiple R-squared:  0.3679,\tAdjusted R-squared:  0.3625 \n",
       "F-statistic:  68.4 on 2 and 235 DF,  p-value: < 2.2e-16\n",
       "\n",
       "\n",
       "Value of test-statistic is: -10.1007 51.012 \n",
       "\n",
       "Critical values for test statistics: \n",
       "      1pct  5pct 10pct\n",
       "tau2 -3.46 -2.88 -2.57\n",
       "phi1  6.52  4.63  3.81\n"
      ]
     },
     "metadata": {},
     "output_type": "display_data"
    },
    {
     "data": {
      "text/plain": [
       "\n",
       "############################################### \n",
       "# Augmented Dickey-Fuller Test Unit Root Test # \n",
       "############################################### \n",
       "\n",
       "Test regression trend \n",
       "\n",
       "\n",
       "Call:\n",
       "lm(formula = z.diff ~ z.lag.1 + 1 + tt + z.diff.lag)\n",
       "\n",
       "Residuals:\n",
       "      Min        1Q    Median        3Q       Max \n",
       "-0.043811 -0.010936  0.000218  0.009378  0.061479 \n",
       "\n",
       "Coefficients:\n",
       "              Estimate Std. Error t value Pr(>|t|)    \n",
       "(Intercept)  6.542e-03  2.942e-03   2.223 0.027152 *  \n",
       "z.lag.1     -1.195e-01  3.570e-02  -3.348 0.000948 ***\n",
       "tt           8.118e-05  2.907e-05   2.793 0.005654 ** \n",
       "z.diff.lag  -2.623e-01  6.380e-02  -4.111 5.45e-05 ***\n",
       "---\n",
       "Signif. codes:  0 '***' 0.001 '**' 0.01 '*' 0.05 '.' 0.1 ' ' 1\n",
       "\n",
       "Residual standard error: 0.01767 on 234 degrees of freedom\n",
       "Multiple R-squared:  0.1421,\tAdjusted R-squared:  0.1311 \n",
       "F-statistic: 12.92 on 3 and 234 DF,  p-value: 7.723e-08\n",
       "\n",
       "\n",
       "Value of test-statistic is: -3.3483 3.8403 5.6094 \n",
       "\n",
       "Critical values for test statistics: \n",
       "      1pct  5pct 10pct\n",
       "tau3 -3.99 -3.43 -3.13\n",
       "phi2  6.22  4.75  4.07\n",
       "phi3  8.43  6.49  5.47\n"
      ]
     },
     "metadata": {},
     "output_type": "display_data"
    },
    {
     "data": {
      "text/plain": [
       "\n",
       "############################################### \n",
       "# Augmented Dickey-Fuller Test Unit Root Test # \n",
       "############################################### \n",
       "\n",
       "Test regression drift \n",
       "\n",
       "\n",
       "Call:\n",
       "lm(formula = z.diff ~ z.lag.1 + 1 + z.diff.lag)\n",
       "\n",
       "Residuals:\n",
       "      Min        1Q    Median        3Q       Max \n",
       "-0.056113 -0.010188 -0.000573  0.010819  0.065994 \n",
       "\n",
       "Coefficients:\n",
       "              Estimate Std. Error t value Pr(>|t|)    \n",
       "(Intercept)  0.0007214  0.0011742   0.614    0.540    \n",
       "z.lag.1     -1.3579304  0.1066746 -12.730   <2e-16 ***\n",
       "z.diff.lag   0.0275883  0.0660781   0.418    0.677    \n",
       "---\n",
       "Signif. codes:  0 '***' 0.001 '**' 0.01 '*' 0.05 '.' 0.1 ' ' 1\n",
       "\n",
       "Residual standard error: 0.01805 on 234 degrees of freedom\n",
       "Multiple R-squared:  0.656,\tAdjusted R-squared:  0.653 \n",
       "F-statistic: 223.1 on 2 and 234 DF,  p-value: < 2.2e-16\n",
       "\n",
       "\n",
       "Value of test-statistic is: -12.7297 81.0227 \n",
       "\n",
       "Critical values for test statistics: \n",
       "      1pct  5pct 10pct\n",
       "tau2 -3.46 -2.88 -2.57\n",
       "phi1  6.52  4.63  3.81\n"
      ]
     },
     "metadata": {},
     "output_type": "display_data"
    }
   ],
   "source": [
    "## ADF Test (Non-Stationary Variable Exists for All Except for US)\n",
    "# US\n",
    "summary(ur.df(usimp$imprel,type=\"trend\",selectlags=\"AIC\")) ## Stationary\n",
    "summary(ur.df(usimp$statecount_w_both_per,type=\"drift\",selectlags=\"AIC\")) ## Stationary\n",
    "summary(ur.df(usimp$trade_gdp,type=\"drift\",selectlags=\"AIC\")) ## Stationary\n",
    "# China\n",
    "summary(ur.df(chnimp$imprel,type=\"trend\",selectlags=\"AIC\")) ## Non-Stationary (10%)\n",
    "summary(ur.df(diff(chnimp$imprel),type=\"drift\",selectlags=\"AIC\")) ## Stationary\n",
    "summary(ur.df(chnimp$statecount_w_both_per,type=\"drift\",selectlags=\"AIC\")) ## Stationary\n",
    "summary(ur.df(chnimp$trade_gdp,type=\"trend\",selectlags=\"AIC\")) ## Stationary\n",
    "# S.Korea\n",
    "summary(ur.df(skorimp$imprel,type=\"drift\",selectlags=\"AIC\")) ## Non-Stationary (1%)\n",
    "summary(ur.df(diff(skorimp$imprel),type=\"none\",selectlags=\"AIC\")) ## Stationary\n",
    "summary(ur.df(skorimp$statecount_w_both_per,type=\"drift\",selectlags=\"AIC\")) ## Stationary\n",
    "summary(ur.df(skorimp$trade_gdp,type=\"trend\",selectlags=\"AIC\")) ## Non-Stationary (5%)\n",
    "summary(ur.df(diff(skorimp$trade_gdp),type=\"drift\",selectlags=\"AIC\")) ## Stationary\n",
    "# N.Korea\n",
    "summary(ur.df(nkorimp$imprel,type=\"trend\",selectlags=\"AIC\")) ## Non-Stationary (10%)\n",
    "summary(ur.df(diff(nkorimp$imprel),type=\"drift\",selectlags=\"AIC\")) # Stationary \n",
    "summary(ur.df(nkorimp$statecount_w_both_per,type=\"drift\",selectlags=\"AIC\")) ## Stationary\n",
    "summary(ur.df(nkorimp$trade_gdp,type=\"trend\",selectlags=\"AIC\")) ## None-Stationary (5%)\n",
    "summary(ur.df(diff(nkorimp$trade_gdp),type=\"drift\",selectlags=\"AIC\")) ## Stationary\n",
    "# Russia\n",
    "summary(ur.df(rusimp$imprel,type=\"trend\",selectlags=\"AIC\")) ## Stationary\n",
    "summary(ur.df(rusimp$statecount_w_both_per,type=\"drift\",selectlags=\"AIC\")) ## Stationary\n",
    "summary(ur.df(rusimp$trade_gdp,type=\"trend\",selectlags=\"AIC\")) ## Non-Stationary (5%)\n",
    "summary(ur.df(diff(rusimp$trade_gdp),type=\"drift\",selectlags=\"AIC\")) ## Stationary\n",
    "# Europe\n",
    "summary(ur.df(euroimp$imprel,type=\"trend\",selectlags=\"AIC\")) ## Stationary\n",
    "summary(ur.df(euroimp$statecount_w_both_per,type=\"drift\",selectlags=\"AIC\")) ## Stationary\n",
    "summary(ur.df(euroimp$trade_gdp,type=\"trend\",selectlags=\"AIC\")) ## Non-Stationary (5%)\n",
    "summary(ur.df(diff(euroimp$trade_gdp),type=\"drift\",selectlags=\"AIC\")) ## Stationary \n",
    "# Middle-Near East\n",
    "summary(ur.df(mneastimp$imprel,type=\"trend\",selectlags=\"AIC\")) ## Stationary\n",
    "summary(ur.df(mneastimp$statecount_w_both_per,type=\"drift\",selectlags=\"AIC\")) ## Stationary\n",
    "summary(ur.df(mneastimp$trade_gdp,type=\"trend\",selectlags=\"AIC\")) ## Non-Stationary (1%)\n",
    "summary(ur.df(diff(mneastimp$trade_gdp),type=\"drift\",selectlags=\"AIC\")) ## Stationary\n",
    "# Taiwan\n",
    "summary(ur.df(taiwanimp$imprel,type=\"trend\",selectlags=\"AIC\")) ## Non-Stationary (1%)\n",
    "summary(ur.df(diff(taiwanimp$imprel),type=\"drift\",selectlags=\"AIC\")) ## Stationary\n",
    "summary(ur.df(taiwanimp$statecount_w_both_per,type=\"drift\",selectlags=\"AIC\")) ## Stationary\n",
    "summary(ur.df(taiwanimp$trade_gdp,type=\"trend\",selectlags=\"AIC\")) ## Non-Stationary (1%)\n",
    "summary(ur.df(diff(taiwanimp$trade_gdp),type=\"drift\",selectlags=\"AIC\")) ## Stationary\n",
    "# South-East Asia\n",
    "summary(ur.df(seasiaimp$imprel,type=\"trend\",selectlags=\"AIC\")) ## Non-Stationary (10%)\n",
    "summary(ur.df(diff(seasiaimp$imprel),type=\"none\",selectlags=\"AIC\")) ## Stationary\n",
    "summary(ur.df(seasiaimp$statecount_w_both_per,type=\"drift\",selectlags=\"AIC\")) ## Stationary\n",
    "summary(ur.df(seasiaimp$trade_gdp,type=\"trend\",selectlags=\"AIC\")) ## Stationary\n",
    "# Middle-South America\n",
    "summary(ur.df(msamericaimp$imprel,type=\"trend\",selectlags=\"AIC\")) ## Stationary\n",
    "summary(ur.df(msamericaimp$statecount_w_both_per,type=\"drift\",selectlags=\"AIC\")) ## Stationary\n",
    "summary(ur.df(msamericaimp$trade_gdp,type=\"trend\",selectlags=\"AIC\")) ## Non-Stationary (1%)\n",
    "summary(ur.df(diff(msamericaimp$trade_gdp),type=\"drift\",selectlags=\"AIC\")) ## Stationary\n",
    "# Oceania\n",
    "summary(ur.df(oceaniaimp$imprel,type=\"drift\",selectlags=\"AIC\")) ## Stationary\n",
    "summary(ur.df(oceaniaimp$statecount_w_both_per,type=\"drift\",selectlags=\"AIC\")) ## Stationary\n",
    "summary(ur.df(oceaniaimp$trade_gdp,type=\"trend\",selectlags=\"AIC\")) ## Non-Stationary (1%)\n",
    "summary(ur.df(diff(oceaniaimp$trade_gdp),type=\"drift\",selectlags=\"AIC\")) ## Stationary\n",
    "# Africa\n",
    "summary(ur.df(africaimp$imprel,type=\"trend\",selectlags=\"AIC\")) ## Stationary\n",
    "summary(ur.df(africaimp$statecount_w_both_per,type=\"drift\",selectlags=\"AIC\")) ## Stationary\n",
    "summary(ur.df(africaimp$trade_gdp,type=\"trend\",selectlags=\"AIC\")) ## Non-Stationary (5%)\n",
    "summary(ur.df(diff(africaimp$trade_gdp),type=\"drift\",selectlags=\"AIC\")) ## Stationry\n"
   ]
  },
  {
   "cell_type": "markdown",
   "metadata": {},
   "source": [
    "#### 3.3 Select Optimal Lag Span Based on AIC"
   ]
  },
  {
   "cell_type": "code",
   "execution_count": 6,
   "metadata": {},
   "outputs": [
    {
     "data": {
      "text/html": [
       "<strong>AIC(n):</strong> 3"
      ],
      "text/latex": [
       "\\textbf{AIC(n):} 3"
      ],
      "text/markdown": [
       "**AIC(n):** 3"
      ],
      "text/plain": [
       "AIC(n) \n",
       "     3 "
      ]
     },
     "metadata": {},
     "output_type": "display_data"
    },
    {
     "data": {
      "text/html": [
       "<strong>AIC(n):</strong> 12"
      ],
      "text/latex": [
       "\\textbf{AIC(n):} 12"
      ],
      "text/markdown": [
       "**AIC(n):** 12"
      ],
      "text/plain": [
       "AIC(n) \n",
       "    12 "
      ]
     },
     "metadata": {},
     "output_type": "display_data"
    },
    {
     "data": {
      "text/html": [
       "<strong>AIC(n):</strong> 4"
      ],
      "text/latex": [
       "\\textbf{AIC(n):} 4"
      ],
      "text/markdown": [
       "**AIC(n):** 4"
      ],
      "text/plain": [
       "AIC(n) \n",
       "     4 "
      ]
     },
     "metadata": {},
     "output_type": "display_data"
    },
    {
     "data": {
      "text/html": [
       "<strong>AIC(n):</strong> 4"
      ],
      "text/latex": [
       "\\textbf{AIC(n):} 4"
      ],
      "text/markdown": [
       "**AIC(n):** 4"
      ],
      "text/plain": [
       "AIC(n) \n",
       "     4 "
      ]
     },
     "metadata": {},
     "output_type": "display_data"
    },
    {
     "data": {
      "text/html": [
       "<strong>AIC(n):</strong> 6"
      ],
      "text/latex": [
       "\\textbf{AIC(n):} 6"
      ],
      "text/markdown": [
       "**AIC(n):** 6"
      ],
      "text/plain": [
       "AIC(n) \n",
       "     6 "
      ]
     },
     "metadata": {},
     "output_type": "display_data"
    },
    {
     "data": {
      "text/html": [
       "<strong>AIC(n):</strong> 7"
      ],
      "text/latex": [
       "\\textbf{AIC(n):} 7"
      ],
      "text/markdown": [
       "**AIC(n):** 7"
      ],
      "text/plain": [
       "AIC(n) \n",
       "     7 "
      ]
     },
     "metadata": {},
     "output_type": "display_data"
    },
    {
     "data": {
      "text/html": [
       "<strong>AIC(n):</strong> 3"
      ],
      "text/latex": [
       "\\textbf{AIC(n):} 3"
      ],
      "text/markdown": [
       "**AIC(n):** 3"
      ],
      "text/plain": [
       "AIC(n) \n",
       "     3 "
      ]
     },
     "metadata": {},
     "output_type": "display_data"
    },
    {
     "data": {
      "text/html": [
       "<strong>AIC(n):</strong> 5"
      ],
      "text/latex": [
       "\\textbf{AIC(n):} 5"
      ],
      "text/markdown": [
       "**AIC(n):** 5"
      ],
      "text/plain": [
       "AIC(n) \n",
       "     5 "
      ]
     },
     "metadata": {},
     "output_type": "display_data"
    },
    {
     "data": {
      "text/html": [
       "<strong>AIC(n):</strong> 7"
      ],
      "text/latex": [
       "\\textbf{AIC(n):} 7"
      ],
      "text/markdown": [
       "**AIC(n):** 7"
      ],
      "text/plain": [
       "AIC(n) \n",
       "     7 "
      ]
     },
     "metadata": {},
     "output_type": "display_data"
    },
    {
     "data": {
      "text/html": [
       "<strong>AIC(n):</strong> 3"
      ],
      "text/latex": [
       "\\textbf{AIC(n):} 3"
      ],
      "text/markdown": [
       "**AIC(n):** 3"
      ],
      "text/plain": [
       "AIC(n) \n",
       "     3 "
      ]
     },
     "metadata": {},
     "output_type": "display_data"
    },
    {
     "data": {
      "text/html": [
       "<strong>AIC(n):</strong> 7"
      ],
      "text/latex": [
       "\\textbf{AIC(n):} 7"
      ],
      "text/markdown": [
       "**AIC(n):** 7"
      ],
      "text/plain": [
       "AIC(n) \n",
       "     7 "
      ]
     },
     "metadata": {},
     "output_type": "display_data"
    },
    {
     "data": {
      "text/html": [
       "<strong>AIC(n):</strong> 5"
      ],
      "text/latex": [
       "\\textbf{AIC(n):} 5"
      ],
      "text/markdown": [
       "**AIC(n):** 5"
      ],
      "text/plain": [
       "AIC(n) \n",
       "     5 "
      ]
     },
     "metadata": {},
     "output_type": "display_data"
    }
   ],
   "source": [
    "# Optimal Lag Based on AIC\n",
    "usIp <- VARselect(usimp,lag.max=12, type=\"both\")$selection[1]; usIp # 3\n",
    "chnIp <- VARselect(chnimp,lag.max=12, type=\"both\")$selection[1]; chnIp # 12\n",
    "skorIp <- VARselect(skorimp,lag.max=12, type=\"both\")$selection[1]; skorIp # 4\n",
    "nkorIp <- VARselect(nkorimp,lag.max=12, type=\"both\")$selection[1]; nkorIp # 4\n",
    "rusIp <- VARselect(rusimp,lag.max=12, type=\"both\")$selection[1]; rusIp # 6\n",
    "euroIp <- VARselect(euroimp,lag.max=12, type=\"both\")$selection[1]; euroIp # 7\n",
    "mneastIp <- VARselect(mneastimp,lag.max=12, type=\"both\")$selection[1]; mneastIp # 3\n",
    "taiwanIp <- VARselect(taiwanimp,lag.max=12, type=\"both\")$selection[1]; taiwanIp # 5\n",
    "seasiaIp <- VARselect(seasiaimp,lag.max=12, type=\"both\")$selection[1]; seasiaIp # 7\n",
    "msamericaIp <- VARselect(msamericaimp,lag.max=12, type=\"both\")$selection[1]; msamericaIp # 3\n",
    "oceaniaIp <- VARselect(oceaniaimp,lag.max=12, type=\"both\")$selection[1]; oceaniaIp # 7\n",
    "africaIp <- VARselect(africaimp,lag.max=12, type=\"both\")$selection[1]; africaIp # 5\n"
   ]
  },
  {
   "cell_type": "markdown",
   "metadata": {},
   "source": [
    "#### 3.4 Estimate VECM"
   ]
  },
  {
   "cell_type": "code",
   "execution_count": 7,
   "metadata": {},
   "outputs": [
    {
     "data": {
      "text/plain": [
       "\n",
       "###################### \n",
       "# Johansen-Procedure # \n",
       "###################### \n",
       "\n",
       "Test type: trace statistic , without linear trend and constant in cointegration \n",
       "\n",
       "Eigenvalues (lambda):\n",
       "[1] 1.627886e-01 5.935266e-02 2.956128e-02 1.571917e-19\n",
       "\n",
       "Values of teststatistic and critical values of test:\n",
       "\n",
       "          test 10pct  5pct  1pct\n",
       "r <= 2 |  7.11  7.52  9.24 12.97\n",
       "r <= 1 | 21.61 17.85 19.96 24.60\n",
       "r = 0  | 63.72 32.00 34.91 41.07\n",
       "\n",
       "Eigenvectors, normalised to first column:\n",
       "(These are the cointegration relations)\n",
       "\n",
       "                         trade_gdp.l1 statecount_w_both_per.l1   imprel.l1\n",
       "trade_gdp.l1               1.00000000               1.00000000  1.00000000\n",
       "statecount_w_both_per.l1   0.35454718              -0.05226081 -0.00488716\n",
       "imprel.l1                  0.03665376               0.11306517 -0.01006031\n",
       "constant                  -5.19702094              -8.39729597 -0.74180991\n",
       "                            constant\n",
       "trade_gdp.l1              1.00000000\n",
       "statecount_w_both_per.l1 -0.03011541\n",
       "imprel.l1                 0.07446807\n",
       "constant                 -4.65557959\n",
       "\n",
       "Weights W:\n",
       "(This is the loading matrix)\n",
       "\n",
       "                        trade_gdp.l1 statecount_w_both_per.l1   imprel.l1\n",
       "trade_gdp.d              -0.02031647              -0.02334373 -0.07648086\n",
       "statecount_w_both_per.d  -1.47904267               0.23279728  0.60948624\n",
       "imprel.d                 -0.12994910              -1.41427043  1.15165418\n",
       "                            constant\n",
       "trade_gdp.d             1.866302e-16\n",
       "statecount_w_both_per.d 4.458011e-15\n",
       "imprel.d                8.041109e-15\n"
      ]
     },
     "metadata": {},
     "output_type": "display_data"
    },
    {
     "data": {
      "text/plain": [
       "\n",
       "###################### \n",
       "# Johansen-Procedure # \n",
       "###################### \n",
       "\n",
       "Test type: trace statistic , without linear trend and constant in cointegration \n",
       "\n",
       "Eigenvalues (lambda):\n",
       "[1] 1.115916e-01 8.451355e-02 1.502864e-02 1.249001e-16\n",
       "\n",
       "Values of teststatistic and critical values of test:\n",
       "\n",
       "          test 10pct  5pct  1pct\n",
       "r <= 2 |  3.45  7.52  9.24 12.97\n",
       "r <= 1 | 23.58 17.85 19.96 24.60\n",
       "r = 0  | 50.56 32.00 34.91 41.07\n",
       "\n",
       "Eigenvectors, normalised to first column:\n",
       "(These are the cointegration relations)\n",
       "\n",
       "                         trade_gdp.l1 statecount_w_both_per.l1    imprel.l1\n",
       "trade_gdp.l1                 1.000000               1.00000000    1.0000000\n",
       "statecount_w_both_per.l1   -17.735505              -1.21130598    0.6764743\n",
       "imprel.l1                    1.397676               0.01081358    5.0669807\n",
       "constant                   -56.198571               3.09708937 -313.8020894\n",
       "                              constant\n",
       "trade_gdp.l1              1.0000000000\n",
       "statecount_w_both_per.l1 -0.0004013603\n",
       "imprel.l1                -0.0403268909\n",
       "constant                  1.1891344446\n",
       "\n",
       "Weights W:\n",
       "(This is the loading matrix)\n",
       "\n",
       "                         trade_gdp.l1 statecount_w_both_per.l1     imprel.l1\n",
       "trade_gdp.d             -0.0009348785               0.01042125  3.505919e-05\n",
       "statecount_w_both_per.d  0.0438702114               0.07873132  5.751948e-04\n",
       "imprel.d                 0.0080167326               0.00431002 -8.347450e-03\n",
       "                             constant\n",
       "trade_gdp.d              1.038253e-16\n",
       "statecount_w_both_per.d -5.252668e-15\n",
       "imprel.d                -4.979655e-15\n"
      ]
     },
     "metadata": {},
     "output_type": "display_data"
    },
    {
     "data": {
      "text/plain": [
       "\n",
       "###################### \n",
       "# Johansen-Procedure # \n",
       "###################### \n",
       "\n",
       "Test type: trace statistic , without linear trend and constant in cointegration \n",
       "\n",
       "Eigenvalues (lambda):\n",
       "[1]  1.885157e-01  3.432438e-02  1.675932e-02 -1.742269e-17\n",
       "\n",
       "Values of teststatistic and critical values of test:\n",
       "\n",
       "          test 10pct  5pct  1pct\n",
       "r <= 2 |  3.99  7.52  9.24 12.97\n",
       "r <= 1 | 12.23 17.85 19.96 24.60\n",
       "r = 0  | 61.53 32.00 34.91 41.07\n",
       "\n",
       "Eigenvectors, normalised to first column:\n",
       "(These are the cointegration relations)\n",
       "\n",
       "                         trade_gdp.l1 statecount_w_both_per.l1   imprel.l1\n",
       "trade_gdp.l1               1.00000000               1.00000000  1.00000000\n",
       "statecount_w_both_per.l1   1.80216599              -0.12335132  0.01578601\n",
       "imprel.l1                 -0.05281125               0.08208042 -0.01115600\n",
       "constant                  -1.09744432              -2.08753356 -0.28380852\n",
       "                            constant\n",
       "trade_gdp.l1              1.00000000\n",
       "statecount_w_both_per.l1  0.01118784\n",
       "imprel.l1                -0.03332374\n",
       "constant                  0.76197966\n",
       "\n",
       "Weights W:\n",
       "(This is the loading matrix)\n",
       "\n",
       "                        trade_gdp.l1 statecount_w_both_per.l1   imprel.l1\n",
       "trade_gdp.d               0.00125656              0.001626361 -0.02727797\n",
       "statecount_w_both_per.d  -0.51705672              0.074339987  0.03648965\n",
       "imprel.d                 -0.53875675             -1.227220870 -0.21972132\n",
       "                            constant\n",
       "trade_gdp.d             2.686820e-18\n",
       "statecount_w_both_per.d 2.373294e-16\n",
       "imprel.d                4.819012e-16\n"
      ]
     },
     "metadata": {},
     "output_type": "display_data"
    },
    {
     "data": {
      "text/plain": [
       "\n",
       "###################### \n",
       "# Johansen-Procedure # \n",
       "###################### \n",
       "\n",
       "Test type: trace statistic , without linear trend and constant in cointegration \n",
       "\n",
       "Eigenvalues (lambda):\n",
       "[1]  1.576034e-01  6.363581e-02  1.684803e-02 -3.491279e-17\n",
       "\n",
       "Values of teststatistic and critical values of test:\n",
       "\n",
       "          test 10pct  5pct  1pct\n",
       "r <= 2 |  4.01  7.52  9.24 12.97\n",
       "r <= 1 | 19.53 17.85 19.96 24.60\n",
       "r = 0  | 60.00 32.00 34.91 41.07\n",
       "\n",
       "Eigenvectors, normalised to first column:\n",
       "(These are the cointegration relations)\n",
       "\n",
       "                         trade_gdp.l1 statecount_w_both_per.l1     imprel.l1\n",
       "trade_gdp.l1              1.000000000             1.0000000000  1.0000000000\n",
       "statecount_w_both_per.l1  0.010116855            -0.0001288999 -0.0004680384\n",
       "imprel.l1                -0.002338203            -0.0001802592  0.0024764185\n",
       "constant                  0.003122703             0.0001002141 -0.0249484594\n",
       "                              constant\n",
       "trade_gdp.l1              1.0000000000\n",
       "statecount_w_both_per.l1  0.0008603851\n",
       "imprel.l1                 0.0005024580\n",
       "constant                 -0.0605373491\n",
       "\n",
       "Weights W:\n",
       "(This is the loading matrix)\n",
       "\n",
       "                        trade_gdp.l1 statecount_w_both_per.l1    imprel.l1\n",
       "trade_gdp.d               -0.0114256                -0.126569  -0.00365272\n",
       "statecount_w_both_per.d  -51.3316708                49.186160 -14.05721239\n",
       "imprel.d                  29.4525415                 4.288167 -17.56991520\n",
       "                             constant\n",
       "trade_gdp.d             -5.108395e-18\n",
       "statecount_w_both_per.d -9.530782e-15\n",
       "imprel.d                 8.895337e-15\n"
      ]
     },
     "metadata": {},
     "output_type": "display_data"
    },
    {
     "data": {
      "text/plain": [
       "\n",
       "###################### \n",
       "# Johansen-Procedure # \n",
       "###################### \n",
       "\n",
       "Test type: trace statistic , without linear trend and constant in cointegration \n",
       "\n",
       "Eigenvalues (lambda):\n",
       "[1]  1.549704e-01  4.840021e-02  1.030310e-02 -1.243537e-18\n",
       "\n",
       "Values of teststatistic and critical values of test:\n",
       "\n",
       "          test 10pct  5pct  1pct\n",
       "r <= 2 |  2.42  7.52  9.24 12.97\n",
       "r <= 1 | 14.03 17.85 19.96 24.60\n",
       "r = 0  | 53.43 32.00 34.91 41.07\n",
       "\n",
       "Eigenvectors, normalised to first column:\n",
       "(These are the cointegration relations)\n",
       "\n",
       "                         trade_gdp.l1 statecount_w_both_per.l1   imprel.l1\n",
       "trade_gdp.l1               1.00000000              1.000000000  1.00000000\n",
       "statecount_w_both_per.l1   0.35360271              0.002618909 -0.03422372\n",
       "imprel.l1                 -0.03491041             -0.039711684  0.00389818\n",
       "constant                   0.07815171              0.347546908 -0.16874757\n",
       "                            constant\n",
       "trade_gdp.l1              1.00000000\n",
       "statecount_w_both_per.l1 -0.12192602\n",
       "imprel.l1                 0.04872728\n",
       "constant                 -0.29204013\n",
       "\n",
       "Weights W:\n",
       "(This is the loading matrix)\n",
       "\n",
       "                        trade_gdp.l1 statecount_w_both_per.l1   imprel.l1\n",
       "trade_gdp.d              -0.02864635               0.01168738 -0.01568247\n",
       "statecount_w_both_per.d  -2.14152952               0.40738986  0.28911895\n",
       "imprel.d                 -0.01375655               4.14868963  0.72309216\n",
       "                             constant\n",
       "trade_gdp.d             -9.666910e-18\n",
       "statecount_w_both_per.d -6.595718e-16\n",
       "imprel.d                 1.306754e-16\n"
      ]
     },
     "metadata": {},
     "output_type": "display_data"
    },
    {
     "data": {
      "text/plain": [
       "\n",
       "###################### \n",
       "# Johansen-Procedure # \n",
       "###################### \n",
       "\n",
       "Test type: trace statistic , without linear trend and constant in cointegration \n",
       "\n",
       "Eigenvalues (lambda):\n",
       "[1] 1.166275e-01 4.159257e-02 2.990933e-02 6.938894e-17\n",
       "\n",
       "Values of teststatistic and critical values of test:\n",
       "\n",
       "          test 10pct  5pct  1pct\n",
       "r <= 2 |  7.08  7.52  9.24 12.97\n",
       "r <= 1 | 16.97 17.85 19.96 24.60\n",
       "r = 0  | 45.87 32.00 34.91 41.07\n",
       "\n",
       "Eigenvectors, normalised to first column:\n",
       "(These are the cointegration relations)\n",
       "\n",
       "                         trade_gdp.l1 statecount_w_both_per.l1   imprel.l1\n",
       "trade_gdp.l1               1.00000000               1.00000000  1.00000000\n",
       "statecount_w_both_per.l1   0.63374364              -0.00588990 -0.01644484\n",
       "imprel.l1                 -0.01897956               0.05183315 -0.10708617\n",
       "constant                  -1.52078091              -1.69531111  0.47600177\n",
       "                            constant\n",
       "trade_gdp.l1              1.00000000\n",
       "statecount_w_both_per.l1 -0.05769654\n",
       "imprel.l1                 0.01442398\n",
       "constant                 -0.19167025\n",
       "\n",
       "Weights W:\n",
       "(This is the loading matrix)\n",
       "\n",
       "                        trade_gdp.l1 statecount_w_both_per.l1    imprel.l1\n",
       "trade_gdp.d              -0.01818056              -0.06980731 -0.004295407\n",
       "statecount_w_both_per.d  -0.90887648               0.56725181  0.128827104\n",
       "imprel.d                  0.04047083              -0.30914205  0.948604601\n",
       "                             constant\n",
       "trade_gdp.d             -8.220824e-18\n",
       "statecount_w_both_per.d -1.937830e-16\n",
       "imprel.d                -1.342772e-16\n"
      ]
     },
     "metadata": {},
     "output_type": "display_data"
    },
    {
     "data": {
      "text/plain": [
       "\n",
       "###################### \n",
       "# Johansen-Procedure # \n",
       "###################### \n",
       "\n",
       "Test type: trace statistic , without linear trend and constant in cointegration \n",
       "\n",
       "Eigenvalues (lambda):\n",
       "[1]  9.461472e-02  7.069756e-02  1.765508e-02 -1.213386e-18\n",
       "\n",
       "Values of teststatistic and critical values of test:\n",
       "\n",
       "          test 10pct  5pct  1pct\n",
       "r <= 2 |  4.22  7.52  9.24 12.97\n",
       "r <= 1 | 21.60 17.85 19.96 24.60\n",
       "r = 0  | 45.16 32.00 34.91 41.07\n",
       "\n",
       "Eigenvectors, normalised to first column:\n",
       "(These are the cointegration relations)\n",
       "\n",
       "                         trade_gdp.l1 statecount_w_both_per.l1   imprel.l1\n",
       "trade_gdp.l1                1.0000000               1.00000000  1.00000000\n",
       "statecount_w_both_per.l1   -0.3604085               0.09727695 -0.01622187\n",
       "imprel.l1                  -0.3838743              -0.23882502  0.03313527\n",
       "constant                    1.9784971               0.45165461 -1.00436069\n",
       "                            constant\n",
       "trade_gdp.l1             1.000000000\n",
       "statecount_w_both_per.l1 0.004413757\n",
       "imprel.l1                0.067509119\n",
       "constant                 0.864892609\n",
       "\n",
       "Weights W:\n",
       "(This is the loading matrix)\n",
       "\n",
       "                        trade_gdp.l1 statecount_w_both_per.l1   imprel.l1\n",
       "trade_gdp.d              0.002195558               -0.0182553 -0.02695032\n",
       "statecount_w_both_per.d  0.628165492               -0.3480228  0.06863023\n",
       "imprel.d                 0.182041352                0.7482878 -0.12769880\n",
       "                             constant\n",
       "trade_gdp.d              2.383927e-18\n",
       "statecount_w_both_per.d  3.837224e-17\n",
       "imprel.d                -1.412162e-17\n"
      ]
     },
     "metadata": {},
     "output_type": "display_data"
    },
    {
     "data": {
      "text/plain": [
       "\n",
       "###################### \n",
       "# Johansen-Procedure # \n",
       "###################### \n",
       "\n",
       "Test type: trace statistic , without linear trend and constant in cointegration \n",
       "\n",
       "Eigenvalues (lambda):\n",
       "[1] 2.193746e-01 5.225364e-02 1.949716e-02 9.090341e-18\n",
       "\n",
       "Values of teststatistic and critical values of test:\n",
       "\n",
       "          test 10pct  5pct  1pct\n",
       "r <= 2 |  4.63  7.52  9.24 12.97\n",
       "r <= 1 | 17.24 17.85 19.96 24.60\n",
       "r = 0  | 75.44 32.00 34.91 41.07\n",
       "\n",
       "Eigenvectors, normalised to first column:\n",
       "(These are the cointegration relations)\n",
       "\n",
       "                         trade_gdp.l1 statecount_w_both_per.l1   imprel.l1\n",
       "trade_gdp.l1               1.00000000               1.00000000  1.00000000\n",
       "statecount_w_both_per.l1   1.38898136              -0.05794812  0.02850118\n",
       "imprel.l1                 -0.05150945               0.05898141 -0.06347595\n",
       "constant                  -0.35214872              -0.69463928 -0.09938431\n",
       "                            constant\n",
       "trade_gdp.l1              1.00000000\n",
       "statecount_w_both_per.l1 -0.01081190\n",
       "imprel.l1                -0.03960527\n",
       "constant                  0.14247990\n",
       "\n",
       "Weights W:\n",
       "(This is the loading matrix)\n",
       "\n",
       "                        trade_gdp.l1 statecount_w_both_per.l1   imprel.l1\n",
       "trade_gdp.d             -0.008605534              -0.05697417 -0.01986991\n",
       "statecount_w_both_per.d -0.848763148               0.10279728  0.04603252\n",
       "imprel.d                -0.162504358              -1.77512866  0.48199814\n",
       "                             constant\n",
       "trade_gdp.d             -3.184683e-18\n",
       "statecount_w_both_per.d -4.132853e-16\n",
       "imprel.d                -4.108628e-16\n"
      ]
     },
     "metadata": {},
     "output_type": "display_data"
    },
    {
     "data": {
      "text/plain": [
       "\n",
       "###################### \n",
       "# Johansen-Procedure # \n",
       "###################### \n",
       "\n",
       "Test type: trace statistic , without linear trend and constant in cointegration \n",
       "\n",
       "Eigenvalues (lambda):\n",
       "[1] 1.503597e-01 4.557619e-02 1.084210e-02 3.011690e-17\n",
       "\n",
       "Values of teststatistic and critical values of test:\n",
       "\n",
       "          test 10pct  5pct  1pct\n",
       "r <= 2 |  2.54  7.52  9.24 12.97\n",
       "r <= 1 | 13.41 17.85 19.96 24.60\n",
       "r = 0  | 51.37 32.00 34.91 41.07\n",
       "\n",
       "Eigenvectors, normalised to first column:\n",
       "(These are the cointegration relations)\n",
       "\n",
       "                         trade_gdp.l1 statecount_w_both_per.l1   imprel.l1\n",
       "trade_gdp.l1               1.00000000                1.0000000  1.00000000\n",
       "statecount_w_both_per.l1  -4.86975049               -0.2778225  0.05363607\n",
       "imprel.l1                  0.08168663               -0.5369594  0.02818103\n",
       "constant                   0.01945900               11.1740897 -2.02407529\n",
       "                             constant\n",
       "trade_gdp.l1              1.000000000\n",
       "statecount_w_both_per.l1  0.058085651\n",
       "imprel.l1                -0.008317105\n",
       "constant                 -0.618219604\n",
       "\n",
       "Weights W:\n",
       "(This is the loading matrix)\n",
       "\n",
       "                         trade_gdp.l1 statecount_w_both_per.l1   imprel.l1\n",
       "trade_gdp.d             -0.0005140427            -0.0003496845 -0.02046266\n",
       "statecount_w_both_per.d  0.2113389475             0.0022419313  0.02910264\n",
       "imprel.d                -0.0129667162             0.1299400651  0.04707843\n",
       "                             constant\n",
       "trade_gdp.d             -4.336049e-17\n",
       "statecount_w_both_per.d -1.668001e-16\n",
       "imprel.d                 1.462769e-15\n"
      ]
     },
     "metadata": {},
     "output_type": "display_data"
    },
    {
     "data": {
      "text/plain": [
       "\n",
       "###################### \n",
       "# Johansen-Procedure # \n",
       "###################### \n",
       "\n",
       "Test type: trace statistic , without linear trend and constant in cointegration \n",
       "\n",
       "Eigenvalues (lambda):\n",
       "[1]  1.621839e-01  7.514869e-02  9.941081e-03 -2.276825e-17\n",
       "\n",
       "Values of teststatistic and critical values of test:\n",
       "\n",
       "          test 10pct  5pct  1pct\n",
       "r <= 2 |  2.37  7.52  9.24 12.97\n",
       "r <= 1 | 20.88 17.85 19.96 24.60\n",
       "r = 0  | 62.82 32.00 34.91 41.07\n",
       "\n",
       "Eigenvectors, normalised to first column:\n",
       "(These are the cointegration relations)\n",
       "\n",
       "                         trade_gdp.l1 statecount_w_both_per.l1    imprel.l1\n",
       "trade_gdp.l1                1.0000000              1.000000000  1.000000000\n",
       "statecount_w_both_per.l1    0.3081146             -0.004563018  0.005233294\n",
       "imprel.l1                  -0.1085447             -0.119882299  0.036398105\n",
       "constant                   -0.1579129             -0.054458639 -0.507015049\n",
       "                             constant\n",
       "trade_gdp.l1              1.000000000\n",
       "statecount_w_both_per.l1 -0.009285067\n",
       "imprel.l1                 0.051893450\n",
       "constant                 -0.223193841\n",
       "\n",
       "Weights W:\n",
       "(This is the loading matrix)\n",
       "\n",
       "                        trade_gdp.l1 statecount_w_both_per.l1   imprel.l1\n",
       "trade_gdp.d                0.0146009              -0.05617123 -0.01814341\n",
       "statecount_w_both_per.d   -1.6410739               0.47160737 -0.08637175\n",
       "imprel.d                   0.2261499               1.80593928 -0.16249525\n",
       "                             constant\n",
       "trade_gdp.d             -2.175308e-17\n",
       "statecount_w_both_per.d  8.045144e-17\n",
       "imprel.d                -1.175007e-15\n"
      ]
     },
     "metadata": {},
     "output_type": "display_data"
    },
    {
     "data": {
      "text/plain": [
       "\n",
       "###################### \n",
       "# Johansen-Procedure # \n",
       "###################### \n",
       "\n",
       "Test type: trace statistic , without linear trend and constant in cointegration \n",
       "\n",
       "Eigenvalues (lambda):\n",
       "[1]  1.494395e-01  4.580416e-02  7.306351e-03 -2.081104e-17\n",
       "\n",
       "Values of teststatistic and critical values of test:\n",
       "\n",
       "          test 10pct  5pct  1pct\n",
       "r <= 2 |  1.71  7.52  9.24 12.97\n",
       "r <= 1 | 12.63 17.85 19.96 24.60\n",
       "r = 0  | 50.35 32.00 34.91 41.07\n",
       "\n",
       "Eigenvectors, normalised to first column:\n",
       "(These are the cointegration relations)\n",
       "\n",
       "                         trade_gdp.l1 statecount_w_both_per.l1   imprel.l1\n",
       "trade_gdp.l1              1.000000000                1.0000000  1.00000000\n",
       "statecount_w_both_per.l1 -1.041239504                0.1672654 -0.01273793\n",
       "imprel.l1                -0.161881339               -0.3233899  0.30824722\n",
       "constant                  0.006036931                0.1366611 -1.03126632\n",
       "                             constant\n",
       "trade_gdp.l1              1.000000000\n",
       "statecount_w_both_per.l1  0.006124897\n",
       "imprel.l1                 0.262601971\n",
       "constant                 -0.534074794\n",
       "\n",
       "Weights W:\n",
       "(This is the loading matrix)\n",
       "\n",
       "                        trade_gdp.l1 statecount_w_both_per.l1   imprel.l1\n",
       "trade_gdp.d              -0.01673489              -0.01191731 -0.00639814\n",
       "statecount_w_both_per.d   0.88486335              -0.29836401 -0.02088109\n",
       "imprel.d                  0.18746764               0.60938727 -0.03094271\n",
       "                             constant\n",
       "trade_gdp.d             -1.467999e-17\n",
       "statecount_w_both_per.d  3.480542e-16\n",
       "imprel.d                -3.755221e-16\n"
      ]
     },
     "metadata": {},
     "output_type": "display_data"
    },
    {
     "data": {
      "text/plain": [
       "\n",
       "###################### \n",
       "# Johansen-Procedure # \n",
       "###################### \n",
       "\n",
       "Test type: trace statistic , without linear trend and constant in cointegration \n",
       "\n",
       "Eigenvalues (lambda):\n",
       "[1] 1.960828e-01 4.352103e-02 1.743622e-02 7.311042e-18\n",
       "\n",
       "Values of teststatistic and critical values of test:\n",
       "\n",
       "          test 10pct  5pct  1pct\n",
       "r <= 2 |  4.13  7.52  9.24 12.97\n",
       "r <= 1 | 14.59 17.85 19.96 24.60\n",
       "r = 0  | 65.88 32.00 34.91 41.07\n",
       "\n",
       "Eigenvectors, normalised to first column:\n",
       "(These are the cointegration relations)\n",
       "\n",
       "                         trade_gdp.l1 statecount_w_both_per.l1    imprel.l1\n",
       "trade_gdp.l1               1.00000000              1.000000000  1.000000000\n",
       "statecount_w_both_per.l1   0.87974700             -0.008326292  0.001246136\n",
       "imprel.l1                 -0.15175463             -0.032451754  0.004050959\n",
       "constant                  -0.05711882             -0.045488673 -0.158864318\n",
       "                            constant\n",
       "trade_gdp.l1             1.000000000\n",
       "statecount_w_both_per.l1 0.003970481\n",
       "imprel.l1                0.013672555\n",
       "constant                 0.106748279\n",
       "\n",
       "Weights W:\n",
       "(This is the loading matrix)\n",
       "\n",
       "                         trade_gdp.l1 statecount_w_both_per.l1  imprel.l1\n",
       "trade_gdp.d              0.0002216226             -0.009074815 -0.0357007\n",
       "statecount_w_both_per.d -0.9923656678              2.189398952 -0.5135358\n",
       "imprel.d                 0.5119194902              4.310729904 -0.2641209\n",
       "                            constant\n",
       "trade_gdp.d             1.740392e-17\n",
       "statecount_w_both_per.d 1.271170e-15\n",
       "imprel.d                2.136972e-16\n"
      ]
     },
     "metadata": {},
     "output_type": "display_data"
    }
   ],
   "source": [
    "# VECM with Cointegration Trace Test (Cointegration Exists for All *This is Used)\n",
    "usimp.vecm <- ca.jo(usimp, ecdet=\"const\", type='trace', K=usIp, spec=\"transitory\"); summary(usimp.vecm) # 2\n",
    "chnimp.vecm <- ca.jo(chnimp, ecdet=\"const\", type='trace', K=chnIp, spec=\"transitory\"); summary(chnimp.vecm) # 2\n",
    "skorimp.vecm <- ca.jo(skorimp, ecdet=\"const\", type='trace', K=skorIp, spec=\"transitory\"); summary(skorimp.vecm) # 1\n",
    "nkorimp.vecm <- ca.jo(nkorimp, ecdet=\"const\", type='trace', K=nkorIp, spec=\"transitory\"); summary(nkorimp.vecm) # 2\n",
    "rusimp.vecm <- ca.jo(rusimp, ecdet=\"const\", type='trace', K=rusIp, spec=\"transitory\"); summary(rusimp.vecm) # 1\n",
    "euroimp.vecm <- ca.jo(euroimp, ecdet=\"const\", type='trace', K=euroIp, spec=\"transitory\"); summary(euroimp.vecm) # 1\n",
    "mneastimp.vecm <- ca.jo(mneastimp, ecdet=\"const\", type='trace', K=mneastIp, spec=\"transitory\"); summary(mneastimp.vecm) # 2\n",
    "taiwanimp.vecm <- ca.jo(taiwanimp, ecdet=\"const\", type='trace', K=taiwanIp, spec=\"transitory\"); summary(taiwanimp.vecm) #1\n",
    "seasiaimp.vecm <- ca.jo(seasiaimp, ecdet=\"const\", type='trace', K=seasiaIp, spec=\"transitory\"); summary(seasiaimp.vecm) # 1\n",
    "msamericaimp.vecm <- ca.jo(msamericaimp, ecdet=\"const\", type='trace', K=msamericaIp, spec=\"transitory\"); summary(msamericaimp.vecm) # 2\n",
    "oceaniaimp.vecm <- ca.jo(oceaniaimp, ecdet=\"const\", type='trace', K=oceaniaIp, spec=\"transitory\"); summary(oceaniaimp.vecm) # 1\n",
    "africaimp.vecm <- ca.jo(africaimp, ecdet=\"const\", type='trace', K=africaIp, spec=\"transitory\"); summary(africaimp.vecm) # 1\n"
   ]
  },
  {
   "cell_type": "code",
   "execution_count": 8,
   "metadata": {
    "collapsed": true
   },
   "outputs": [],
   "source": [
    "# Cointegration  Maximal Eigenvalue Test (Result Identical: not used for the final analysis)\n",
    "# summary(ca.jo(usimp, ecdet=\"const\", type='eigen', K=usIp, spec=\"transitory\")) # 2\n",
    "# summary(ca.jo(chnimp, ecdet=\"const\", type='eigen', K=chnIp, spec=\"transitory\")) # 2\n",
    "# summary(ca.jo(skorimp, ecdet=\"const\", type='eigen', K=skorIp, spec=\"transitory\")) # 1\n",
    "# summary(ca.jo(nkorimp, ecdet=\"const\", type='eigen', K=nkorIp, spec=\"transitory\")) # 2\n",
    "# summary(ca.jo(rusimp, ecdet=\"const\", type='eigen', K=rusIp, spec=\"transitory\")) # 1\n",
    "# summary(ca.jo(euroimp, ecdet=\"const\", type='eigen', K=euroIp, spec=\"transitory\")) # 1\n",
    "# summary(ca.jo(mneastimp, ecdet=\"const\", type='eigen', K=mneastIp, spec=\"transitory\")) # 2\n",
    "# summary(ca.jo(taiwanimp, ecdet=\"const\", type='eigen', K=taiwanIp, spec=\"transitory\")) # 1\n",
    "# summary(ca.jo(seasiaimp, ecdet=\"const\", type='eigen', K=seasiaIp, spec=\"transitory\")) # 1\n",
    "# summary(ca.jo(msamericaimp, ecdet=\"const\", type='eigen', K=msamericaIp, spec=\"transitory\")) # 2\n",
    "# summary(ca.jo(oceaniaimp, ecdet=\"const\", type='eigen', K=oceaniaIp, spec=\"transitory\")) # 1\n",
    "# summary(ca.jo(africaimp, ecdet=\"const\", type='eigen', K=africaIp, spec=\"transitory\")) # 1\n"
   ]
  },
  {
   "cell_type": "markdown",
   "metadata": {},
   "source": [
    "#### 3.5 Estimate SVECM"
   ]
  },
  {
   "cell_type": "code",
   "execution_count": 9,
   "metadata": {
    "collapsed": true
   },
   "outputs": [],
   "source": [
    "## Restrictions for Short Run Matrix\n",
    "SR <- matrix(NA,nrow=3,ncol=3); SR[1,2:3] <- 0; SR[2,3] <- 0\n",
    "## NO Restrictions for Long Run Matrix\n",
    "LR <- matrix(NA,nrow=3,ncol=3)\n",
    "\n",
    "## Structural VECM Result\n",
    "usimp.vecm.res <- SVEC(usimp.vecm,LR=LR,SR=SR,r=2,lrtest=FALSE,boot=FALSE,runs=500)\n",
    "chnimp.vecm.res <- SVEC(chnimp.vecm,LR=LR,SR=SR,r=2,lrtest=FALSE,boot=FALSE,runs=500)\n",
    "skorimp.vecm.res <- SVEC(skorimp.vecm,LR=LR,SR=SR,r=1,lrtest=FALSE,boot=FALSE,runs=500)\n",
    "nkorimp.vecm.res <- SVEC(nkorimp.vecm,LR=LR,SR=SR,r=2,lrtest=FALSE,boot=FALSE,runs=500)\n",
    "rusimp.vecm.res <- SVEC(rusimp.vecm,LR=LR,SR=SR,r=1,lrtest=FALSE,boot=FALSE,runs=500)\n",
    "euroimp.vecm.res <- SVEC(euroimp.vecm,LR=LR,SR=SR,r=1,lrtest=FALSE,boot=FALSE,runs=500)\n",
    "mneastimp.vecm.res <- SVEC(mneastimp.vecm,LR=LR,SR=SR,r=2,lrtest=FALSE,boot=FALSE,runs=500)\n",
    "taiwanimp.vecm.res <- SVEC(taiwanimp.vecm,LR=LR,SR=SR,r=1,lrtest=FALSE,boot=FALSE,runs=500)\n",
    "seasiaimp.vecm.res <- SVEC(seasiaimp.vecm,LR=LR,SR=SR,r=1,lrtest=FALSE,boot=FALSE,runs=500)\n",
    "msamericaimp.vecm.res <- SVEC(msamericaimp.vecm,LR=LR,SR=SR,r=2,lrtest=FALSE,boot=FALSE,runs=500)\n",
    "oceaniaimp.vecm.res <- SVEC(oceaniaimp.vecm,LR=LR,SR=SR,r=1,lrtest=FALSE,boot=FALSE,runs=500)\n",
    "africaimp.vecm.res <- SVEC(africaimp.vecm,LR=LR,SR=SR,r=1,lrtest=FALSE,boot=FALSE,runs=500)\n"
   ]
  },
  {
   "cell_type": "markdown",
   "metadata": {},
   "source": [
    "#### 3.6 Estimate IRF"
   ]
  },
  {
   "cell_type": "code",
   "execution_count": 10,
   "metadata": {
    "collapsed": true
   },
   "outputs": [],
   "source": [
    "## IRF\n",
    "usirf<-irf(usimp.vecm.res,n.ahead=12,ci=0.95,runs=1000)\n",
    "chnirf<-irf(chnimp.vecm.res,n.ahead=12,ci=0.95,runs=1000)\n",
    "skorirf<-irf(skorimp.vecm.res,n.ahead=12,ci=0.95,runs=1000)\n",
    "nkorirf<-irf(nkorimp.vecm.res,n.ahead=12,ci=0.95,runs=1000)\n",
    "rusirf<-irf(rusimp.vecm.res,n.ahead=12,ci=0.95,runs=1000)\n",
    "euroirf<-irf(euroimp.vecm.res,n.ahead=12,ci=0.95,runs=1000)\n",
    "mneastirf<-irf(mneastimp.vecm.res,n.ahead=12,ci=0.95,runs=1000)\n",
    "taiwanirf<-irf(taiwanimp.vecm.res,n.ahead=12,ci=0.95,runs=1000)\n",
    "seasiairf<-irf(seasiaimp.vecm.res,n.ahead=12,ci=0.95,runs=1000)\n",
    "msamericairf<-irf(msamericaimp.vecm.res,n.ahead=12,ci=0.95,runs=1000)\n",
    "oceaniairf<-irf(oceaniaimp.vecm.res,n.ahead=12,ci=0.95,runs=1000)\n",
    "africairf<-irf(africaimp.vecm.res,n.ahead=12,ci=0.95,runs=1000)\n",
    "\n",
    "# plot(usirf) # small\n",
    "# plot(chnirf) # none\n",
    "# plot(skorirf) # good short term\n",
    "# plot(nkorirf) # good and persistent\n",
    "# plot(rusirf) # good short term\n",
    "# plot(euroirf) # small short term\n",
    "# plot(mneastirf) # small short term\n",
    "# plot(taiwanirf) # small short term\n",
    "# plot(seasiairf) # no effect\n",
    "# plot(msamericairf) # small\n",
    "# plot(oceaniairf) # none\n",
    "# plot(africairf) # none\n"
   ]
  },
  {
   "cell_type": "markdown",
   "metadata": {},
   "source": [
    "### 4. Agenda Setting & Framing\n",
    "\n",
    "#### 4.1 Create Datasets for Time-Series Analysis"
   ]
  },
  {
   "cell_type": "code",
   "execution_count": 11,
   "metadata": {},
   "outputs": [
    {
     "name": "stderr",
     "output_type": "stream",
     "text": [
      "The following object is masked from package:datasets:\n",
      "\n",
      "    euro\n",
      "\n",
      "The following object is masked from package:datasets:\n",
      "\n",
      "    euro\n",
      "\n",
      "The following object is masked from package:datasets:\n",
      "\n",
      "    euro\n",
      "\n",
      "The following object is masked from package:datasets:\n",
      "\n",
      "    euro\n",
      "\n"
     ]
    }
   ],
   "source": [
    "################################\n",
    "## Framing and Agenda-Setting ##\n",
    "################################\n",
    "\n",
    "attach(usmonth[stv:edv,])\n",
    "usimp_frame<-data.frame(trade_gdp,defense_w_both_per2,econ_w_both_per2,imprel)\n",
    "detach(usmonth[stv:edv,])\n",
    "attach(chnmonth[stv:edv,])\n",
    "chnimp_frame<-data.frame(trade_gdp,defense_w_both_per2,econ_w_both_per2,imprel)\n",
    "detach(chnmonth[stv:edv,])\n",
    "attach(skormonth[stv:edv,])\n",
    "skorimp_frame<-data.frame(trade_gdp,defense_w_both_per2,econ_w_both_per2,imprel)\n",
    "detach(skormonth[stv:edv,])\n",
    "attach(nkormonth[stv:edv,])\n",
    "nkorimp_frame<-data.frame(trade_gdp,defense_w_both_per2,econ_w_both_per2,imprel)\n",
    "detach(nkormonth[stv:edv,])\n"
   ]
  },
  {
   "cell_type": "markdown",
   "metadata": {},
   "source": [
    "#### 4.2 ADF Test of Non-Stationarity"
   ]
  },
  {
   "cell_type": "code",
   "execution_count": 12,
   "metadata": {},
   "outputs": [
    {
     "data": {
      "text/plain": [
       "\n",
       "############################################### \n",
       "# Augmented Dickey-Fuller Test Unit Root Test # \n",
       "############################################### \n",
       "\n",
       "Test regression drift \n",
       "\n",
       "\n",
       "Call:\n",
       "lm(formula = z.diff ~ z.lag.1 + 1 + z.diff.lag)\n",
       "\n",
       "Residuals:\n",
       "    Min      1Q  Median      3Q     Max \n",
       "-1.1513 -0.4085 -0.1199  0.2586  4.0853 \n",
       "\n",
       "Coefficients:\n",
       "            Estimate Std. Error t value Pr(>|t|)    \n",
       "(Intercept)  0.49753    0.06803   7.313 4.09e-12 ***\n",
       "z.lag.1     -0.74482    0.08119  -9.174  < 2e-16 ***\n",
       "z.diff.lag  -0.05054    0.06494  -0.778    0.437    \n",
       "---\n",
       "Signif. codes:  0 '***' 0.001 '**' 0.01 '*' 0.05 '.' 0.1 ' ' 1\n",
       "\n",
       "Residual standard error: 0.6258 on 235 degrees of freedom\n",
       "Multiple R-squared:  0.3952,\tAdjusted R-squared:  0.3901 \n",
       "F-statistic: 76.79 on 2 and 235 DF,  p-value: < 2.2e-16\n",
       "\n",
       "\n",
       "Value of test-statistic is: -9.1735 42.0807 \n",
       "\n",
       "Critical values for test statistics: \n",
       "      1pct  5pct 10pct\n",
       "tau2 -3.46 -2.88 -2.57\n",
       "phi1  6.52  4.63  3.81\n"
      ]
     },
     "metadata": {},
     "output_type": "display_data"
    },
    {
     "data": {
      "text/plain": [
       "\n",
       "############################################### \n",
       "# Augmented Dickey-Fuller Test Unit Root Test # \n",
       "############################################### \n",
       "\n",
       "Test regression drift \n",
       "\n",
       "\n",
       "Call:\n",
       "lm(formula = z.diff ~ z.lag.1 + 1 + z.diff.lag)\n",
       "\n",
       "Residuals:\n",
       "    Min      1Q  Median      3Q     Max \n",
       "-3.4229 -0.8262 -0.2409  0.4435 15.6615 \n",
       "\n",
       "Coefficients:\n",
       "            Estimate Std. Error t value Pr(>|t|)    \n",
       "(Intercept)  0.83690    0.15272   5.480 1.09e-07 ***\n",
       "z.lag.1     -0.54586    0.06924  -7.884 1.18e-13 ***\n",
       "z.diff.lag  -0.03165    0.06514  -0.486    0.627    \n",
       "---\n",
       "Signif. codes:  0 '***' 0.001 '**' 0.01 '*' 0.05 '.' 0.1 ' ' 1\n",
       "\n",
       "Residual standard error: 1.692 on 235 degrees of freedom\n",
       "Multiple R-squared:  0.2825,\tAdjusted R-squared:  0.2764 \n",
       "F-statistic: 46.26 on 2 and 235 DF,  p-value: < 2.2e-16\n",
       "\n",
       "\n",
       "Value of test-statistic is: -7.8841 31.0798 \n",
       "\n",
       "Critical values for test statistics: \n",
       "      1pct  5pct 10pct\n",
       "tau2 -3.46 -2.88 -2.57\n",
       "phi1  6.52  4.63  3.81\n"
      ]
     },
     "metadata": {},
     "output_type": "display_data"
    },
    {
     "data": {
      "text/plain": [
       "\n",
       "############################################### \n",
       "# Augmented Dickey-Fuller Test Unit Root Test # \n",
       "############################################### \n",
       "\n",
       "Test regression drift \n",
       "\n",
       "\n",
       "Call:\n",
       "lm(formula = z.diff ~ z.lag.1 + 1 + z.diff.lag)\n",
       "\n",
       "Residuals:\n",
       "    Min      1Q  Median      3Q     Max \n",
       "-0.5300 -0.2235 -0.1206  0.1366  2.7411 \n",
       "\n",
       "Coefficients:\n",
       "            Estimate Std. Error t value Pr(>|t|)    \n",
       "(Intercept)  0.16786    0.03298   5.089 7.36e-07 ***\n",
       "z.lag.1     -0.63224    0.08379  -7.546 9.84e-13 ***\n",
       "z.diff.lag  -0.29701    0.06241  -4.759 3.40e-06 ***\n",
       "---\n",
       "Signif. codes:  0 '***' 0.001 '**' 0.01 '*' 0.05 '.' 0.1 ' ' 1\n",
       "\n",
       "Residual standard error: 0.3724 on 235 degrees of freedom\n",
       "Multiple R-squared:  0.498,\tAdjusted R-squared:  0.4937 \n",
       "F-statistic: 116.6 on 2 and 235 DF,  p-value: < 2.2e-16\n",
       "\n",
       "\n",
       "Value of test-statistic is: -7.5456 28.4703 \n",
       "\n",
       "Critical values for test statistics: \n",
       "      1pct  5pct 10pct\n",
       "tau2 -3.46 -2.88 -2.57\n",
       "phi1  6.52  4.63  3.81\n"
      ]
     },
     "metadata": {},
     "output_type": "display_data"
    },
    {
     "data": {
      "text/plain": [
       "\n",
       "############################################### \n",
       "# Augmented Dickey-Fuller Test Unit Root Test # \n",
       "############################################### \n",
       "\n",
       "Test regression drift \n",
       "\n",
       "\n",
       "Call:\n",
       "lm(formula = z.diff ~ z.lag.1 + 1 + z.diff.lag)\n",
       "\n",
       "Residuals:\n",
       "    Min      1Q  Median      3Q     Max \n",
       "-0.7691 -0.3345 -0.2095  0.1194  4.4792 \n",
       "\n",
       "Coefficients:\n",
       "            Estimate Std. Error t value Pr(>|t|)    \n",
       "(Intercept)  0.30723    0.05249   5.853 1.61e-08 ***\n",
       "z.lag.1     -0.76326    0.08570  -8.906  < 2e-16 ***\n",
       "z.diff.lag  -0.12994    0.06468  -2.009   0.0457 *  \n",
       "---\n",
       "Signif. codes:  0 '***' 0.001 '**' 0.01 '*' 0.05 '.' 0.1 ' ' 1\n",
       "\n",
       "Residual standard error: 0.6095 on 235 degrees of freedom\n",
       "Multiple R-squared:  0.4481,\tAdjusted R-squared:  0.4434 \n",
       "F-statistic: 95.41 on 2 and 235 DF,  p-value: < 2.2e-16\n",
       "\n",
       "\n",
       "Value of test-statistic is: -8.9058 39.6565 \n",
       "\n",
       "Critical values for test statistics: \n",
       "      1pct  5pct 10pct\n",
       "tau2 -3.46 -2.88 -2.57\n",
       "phi1  6.52  4.63  3.81\n"
      ]
     },
     "metadata": {},
     "output_type": "display_data"
    },
    {
     "data": {
      "text/plain": [
       "\n",
       "############################################### \n",
       "# Augmented Dickey-Fuller Test Unit Root Test # \n",
       "############################################### \n",
       "\n",
       "Test regression drift \n",
       "\n",
       "\n",
       "Call:\n",
       "lm(formula = z.diff ~ z.lag.1 + 1 + z.diff.lag)\n",
       "\n",
       "Residuals:\n",
       "     Min       1Q   Median       3Q      Max \n",
       "-0.12122 -0.11252 -0.11231  0.05965  1.17754 \n",
       "\n",
       "Coefficients:\n",
       "             Estimate Std. Error t value Pr(>|t|)    \n",
       "(Intercept)  0.112519   0.016374   6.872 5.65e-11 ***\n",
       "z.lag.1     -0.991576   0.091897 -10.790  < 2e-16 ***\n",
       "z.diff.lag   0.001343   0.065279   0.021    0.984    \n",
       "---\n",
       "Signif. codes:  0 '***' 0.001 '**' 0.01 '*' 0.05 '.' 0.1 ' ' 1\n",
       "\n",
       "Residual standard error: 0.1945 on 235 degrees of freedom\n",
       "Multiple R-squared:  0.4951,\tAdjusted R-squared:  0.4908 \n",
       "F-statistic: 115.2 on 2 and 235 DF,  p-value: < 2.2e-16\n",
       "\n",
       "\n",
       "Value of test-statistic is: -10.7901 58.213 \n",
       "\n",
       "Critical values for test statistics: \n",
       "      1pct  5pct 10pct\n",
       "tau2 -3.46 -2.88 -2.57\n",
       "phi1  6.52  4.63  3.81\n"
      ]
     },
     "metadata": {},
     "output_type": "display_data"
    },
    {
     "data": {
      "text/plain": [
       "\n",
       "############################################### \n",
       "# Augmented Dickey-Fuller Test Unit Root Test # \n",
       "############################################### \n",
       "\n",
       "Test regression drift \n",
       "\n",
       "\n",
       "Call:\n",
       "lm(formula = z.diff ~ z.lag.1 + 1 + z.diff.lag)\n",
       "\n",
       "Residuals:\n",
       "     Min       1Q   Median       3Q      Max \n",
       "-0.35667 -0.23084 -0.18428  0.08687  3.03039 \n",
       "\n",
       "Coefficients:\n",
       "              Estimate Std. Error t value Pr(>|t|)    \n",
       "(Intercept)  0.2308379  0.0343645   6.717 1.38e-10 ***\n",
       "z.lag.1     -0.9623345  0.0904575 -10.639  < 2e-16 ***\n",
       "z.diff.lag   0.0009188  0.0652328   0.014    0.989    \n",
       "---\n",
       "Signif. codes:  0 '***' 0.001 '**' 0.01 '*' 0.05 '.' 0.1 ' ' 1\n",
       "\n",
       "Residual standard error: 0.4111 on 235 degrees of freedom\n",
       "Multiple R-squared:  0.4807,\tAdjusted R-squared:  0.4763 \n",
       "F-statistic: 108.8 on 2 and 235 DF,  p-value: < 2.2e-16\n",
       "\n",
       "\n",
       "Value of test-statistic is: -10.6385 56.5891 \n",
       "\n",
       "Critical values for test statistics: \n",
       "      1pct  5pct 10pct\n",
       "tau2 -3.46 -2.88 -2.57\n",
       "phi1  6.52  4.63  3.81\n"
      ]
     },
     "metadata": {},
     "output_type": "display_data"
    },
    {
     "data": {
      "text/plain": [
       "\n",
       "############################################### \n",
       "# Augmented Dickey-Fuller Test Unit Root Test # \n",
       "############################################### \n",
       "\n",
       "Test regression drift \n",
       "\n",
       "\n",
       "Call:\n",
       "lm(formula = z.diff ~ z.lag.1 + 1 + z.diff.lag)\n",
       "\n",
       "Residuals:\n",
       "     Min       1Q   Median       3Q      Max \n",
       "-0.61299 -0.13509 -0.11435  0.06895  1.76235 \n",
       "\n",
       "Coefficients:\n",
       "            Estimate Std. Error t value Pr(>|t|)    \n",
       "(Intercept)  0.11435    0.02380   4.805 2.76e-06 ***\n",
       "z.lag.1     -0.65072    0.07678  -8.475 2.61e-15 ***\n",
       "z.diff.lag  -0.06288    0.06481  -0.970    0.333    \n",
       "---\n",
       "Signif. codes:  0 '***' 0.001 '**' 0.01 '*' 0.05 '.' 0.1 ' ' 1\n",
       "\n",
       "Residual standard error: 0.3012 on 235 degrees of freedom\n",
       "Multiple R-squared:  0.3499,\tAdjusted R-squared:  0.3444 \n",
       "F-statistic: 63.25 on 2 and 235 DF,  p-value: < 2.2e-16\n",
       "\n",
       "\n",
       "Value of test-statistic is: -8.4749 35.913 \n",
       "\n",
       "Critical values for test statistics: \n",
       "      1pct  5pct 10pct\n",
       "tau2 -3.46 -2.88 -2.57\n",
       "phi1  6.52  4.63  3.81\n"
      ]
     },
     "metadata": {},
     "output_type": "display_data"
    },
    {
     "data": {
      "text/plain": [
       "\n",
       "############################################### \n",
       "# Augmented Dickey-Fuller Test Unit Root Test # \n",
       "############################################### \n",
       "\n",
       "Test regression drift \n",
       "\n",
       "\n",
       "Call:\n",
       "lm(formula = z.diff ~ z.lag.1 + 1 + z.diff.lag)\n",
       "\n",
       "Residuals:\n",
       "    Min      1Q  Median      3Q     Max \n",
       "-3.0509 -0.5978 -0.3675  0.2321 10.1104 \n",
       "\n",
       "Coefficients:\n",
       "            Estimate Std. Error t value Pr(>|t|)    \n",
       "(Intercept)  0.48294    0.10644   4.537 9.10e-06 ***\n",
       "z.lag.1     -0.53407    0.07174  -7.445 1.83e-12 ***\n",
       "z.diff.lag  -0.13160    0.06468  -2.035    0.043 *  \n",
       "---\n",
       "Signif. codes:  0 '***' 0.001 '**' 0.01 '*' 0.05 '.' 0.1 ' ' 1\n",
       "\n",
       "Residual standard error: 1.301 on 235 degrees of freedom\n",
       "Multiple R-squared:  0.3195,\tAdjusted R-squared:  0.3137 \n",
       "F-statistic: 55.16 on 2 and 235 DF,  p-value: < 2.2e-16\n",
       "\n",
       "\n",
       "Value of test-statistic is: -7.4448 27.7124 \n",
       "\n",
       "Critical values for test statistics: \n",
       "      1pct  5pct 10pct\n",
       "tau2 -3.46 -2.88 -2.57\n",
       "phi1  6.52  4.63  3.81\n"
      ]
     },
     "metadata": {},
     "output_type": "display_data"
    }
   ],
   "source": [
    "## ADF Test (All new Variables are stationary)\n",
    "# US\n",
    "summary(ur.df(usimp_frame$econ_w_both_per2,type=\"drift\",selectlags=\"AIC\")) ## Stationary\n",
    "summary(ur.df(usimp_frame$defense_w_both_per2,type=\"drift\",selectlags=\"AIC\")) ## Stationary\n",
    "# China\n",
    "summary(ur.df(chnimp_frame$econ_w_both_per2,type=\"drift\",selectlags=\"AIC\")) ## Stationary\n",
    "summary(ur.df(chnimp_frame$defense_w_both_per2,type=\"drift\",selectlags=\"AIC\")) ## Stationary\n",
    "# S.Korea\n",
    "summary(ur.df(skorimp_frame$econ_w_both_per2,type=\"drift\",selectlags=\"AIC\")) ## Stationary\n",
    "summary(ur.df(skorimp_frame$defense_w_both_per2,type=\"drift\",selectlags=\"AIC\")) ## Stationary\n",
    "# N.Korea\n",
    "summary(ur.df(nkorimp_frame$econ_w_both_per2,type=\"drift\",selectlags=\"AIC\")) ## Stationary\n",
    "summary(ur.df(nkorimp_frame$defense_w_both_per2,type=\"drift\",selectlags=\"AIC\")) ## Stationary\n"
   ]
  },
  {
   "cell_type": "markdown",
   "metadata": {},
   "source": [
    "#### 4.3 Select Optimal Lag Span Based on AIC"
   ]
  },
  {
   "cell_type": "code",
   "execution_count": 13,
   "metadata": {},
   "outputs": [
    {
     "data": {
      "text/html": [
       "<strong>AIC(n):</strong> 1"
      ],
      "text/latex": [
       "\\textbf{AIC(n):} 1"
      ],
      "text/markdown": [
       "**AIC(n):** 1"
      ],
      "text/plain": [
       "AIC(n) \n",
       "     1 "
      ]
     },
     "metadata": {},
     "output_type": "display_data"
    },
    {
     "data": {
      "text/html": [
       "<strong>AIC(n):</strong> 2"
      ],
      "text/latex": [
       "\\textbf{AIC(n):} 2"
      ],
      "text/markdown": [
       "**AIC(n):** 2"
      ],
      "text/plain": [
       "AIC(n) \n",
       "     2 "
      ]
     },
     "metadata": {},
     "output_type": "display_data"
    },
    {
     "data": {
      "text/html": [
       "<strong>AIC(n):</strong> 2"
      ],
      "text/latex": [
       "\\textbf{AIC(n):} 2"
      ],
      "text/markdown": [
       "**AIC(n):** 2"
      ],
      "text/plain": [
       "AIC(n) \n",
       "     2 "
      ]
     },
     "metadata": {},
     "output_type": "display_data"
    },
    {
     "data": {
      "text/html": [
       "<strong>AIC(n):</strong> 4"
      ],
      "text/latex": [
       "\\textbf{AIC(n):} 4"
      ],
      "text/markdown": [
       "**AIC(n):** 4"
      ],
      "text/plain": [
       "AIC(n) \n",
       "     4 "
      ]
     },
     "metadata": {},
     "output_type": "display_data"
    }
   ],
   "source": [
    "# Optimal Lag Based on AIC\n",
    "usIFp <- VARselect(usimp_frame,lag.max=12, type=\"both\")$selection[1]; usIFp; usIFp=2 # 1\n",
    "chnIFp <- VARselect(chnimp_frame,lag.max=12, type=\"both\")$selection[1]; chnIFp # 2\n",
    "skorIFp <- VARselect(skorimp_frame,lag.max=12, type=\"both\")$selection[1]; skorIFp # 2\n",
    "nkorIFp <- VARselect(nkorimp_frame,lag.max=12, type=\"both\")$selection[1]; nkorIFp # 4\n"
   ]
  },
  {
   "cell_type": "markdown",
   "metadata": {},
   "source": [
    "#### 4.4 Estimate VECM"
   ]
  },
  {
   "cell_type": "code",
   "execution_count": 14,
   "metadata": {},
   "outputs": [
    {
     "data": {
      "text/plain": [
       "\n",
       "###################### \n",
       "# Johansen-Procedure # \n",
       "###################### \n",
       "\n",
       "Test type: trace statistic , without linear trend and constant in cointegration \n",
       "\n",
       "Eigenvalues (lambda):\n",
       "[1] 2.903684e-01 2.170092e-01 9.709384e-02 5.218217e-02 7.158536e-20\n",
       "\n",
       "Values of teststatistic and critical values of test:\n",
       "\n",
       "           test 10pct  5pct  1pct\n",
       "r <= 3 |  12.76  7.52  9.24 12.97\n",
       "r <= 2 |  37.06 17.85 19.96 24.60\n",
       "r <= 1 |  95.29 32.00 34.91 41.07\n",
       "r = 0  | 176.92 49.65 53.12 60.16\n",
       "\n",
       "Eigenvectors, normalised to first column:\n",
       "(These are the cointegration relations)\n",
       "\n",
       "                       trade_gdp.l1 defense_w_both_per2.l1 econ_w_both_per2.l1\n",
       "trade_gdp.l1               1.000000              1.0000000          1.00000000\n",
       "defense_w_both_per2.l1    -2.155892              6.9794661          0.01035698\n",
       "econ_w_both_per2.l1       32.329575             -3.3369209         -0.05138093\n",
       "imprel.l1                  0.108693             -0.6723688          0.07942925\n",
       "constant                 -26.578032             32.8046555         -6.43036661\n",
       "                         imprel.l1     constant\n",
       "trade_gdp.l1            1.00000000  1.000000000\n",
       "defense_w_both_per2.l1 -0.01452145  0.001466987\n",
       "econ_w_both_per2.l1     0.03441806 -0.108964746\n",
       "imprel.l1              -0.02101695  0.094697494\n",
       "constant               -0.05847523 -4.220966942\n",
       "\n",
       "Weights W:\n",
       "(This is the loading matrix)\n",
       "\n",
       "                       trade_gdp.l1 defense_w_both_per2.l1 econ_w_both_per2.l1\n",
       "trade_gdp.d           -0.0006607503          -0.0007409899         -0.05293869\n",
       "defense_w_both_per2.d -0.0132821585          -0.0802675731         -0.20793468\n",
       "econ_w_both_per2.d    -0.0248454109          -0.0025844579          0.02992314\n",
       "imprel.d              -0.0083035500           0.0200491734         -2.35490246\n",
       "                        imprel.l1      constant\n",
       "trade_gdp.d           -0.09372738  2.589597e-18\n",
       "defense_w_both_per2.d  0.37468661 -1.019960e-16\n",
       "econ_w_both_per2.d     0.17531710  7.277759e-18\n",
       "imprel.d               1.45185747  1.515809e-15\n"
      ]
     },
     "metadata": {},
     "output_type": "display_data"
    },
    {
     "data": {
      "text/plain": [
       "\n",
       "###################### \n",
       "# Johansen-Procedure # \n",
       "###################### \n",
       "\n",
       "Test type: trace statistic , without linear trend and constant in cointegration \n",
       "\n",
       "Eigenvalues (lambda):\n",
       "[1] 2.811499e-01 2.088857e-01 1.654454e-02 1.131668e-02 2.669133e-18\n",
       "\n",
       "Values of teststatistic and critical values of test:\n",
       "\n",
       "           test 10pct  5pct  1pct\n",
       "r <= 3 |   2.71  7.52  9.24 12.97\n",
       "r <= 2 |   6.68 17.85 19.96 24.60\n",
       "r <= 1 |  62.45 32.00 34.91 41.07\n",
       "r = 0  | 141.01 49.65 53.12 60.16\n",
       "\n",
       "Eigenvectors, normalised to first column:\n",
       "(These are the cointegration relations)\n",
       "\n",
       "                       trade_gdp.l1 defense_w_both_per2.l1 econ_w_both_per2.l1\n",
       "trade_gdp.l1             1.00000000              1.0000000          1.00000000\n",
       "defense_w_both_per2.l1  -6.31692869             -0.9657037         -0.02586073\n",
       "econ_w_both_per2.l1      1.97453621             74.8118016         -0.03942554\n",
       "imprel.l1               -0.01168631             -0.6562356         -0.16856277\n",
       "constant                 1.45175786             20.6723188          8.39937097\n",
       "                         imprel.l1    constant\n",
       "trade_gdp.l1            1.00000000  1.00000000\n",
       "defense_w_both_per2.l1  0.00717068 -0.04248478\n",
       "econ_w_both_per2.l1     0.10621741 -0.14223721\n",
       "imprel.l1               0.07063189 -0.04365562\n",
       "constant               -6.10541017  2.11342624\n",
       "\n",
       "Weights W:\n",
       "(This is the loading matrix)\n",
       "\n",
       "                       trade_gdp.l1 defense_w_both_per2.l1 econ_w_both_per2.l1\n",
       "trade_gdp.d           -0.0012620167           0.0003460856        -0.007196404\n",
       "defense_w_both_per2.d  0.1292036637          -0.0019849486        -0.013242881\n",
       "econ_w_both_per2.d     0.0002822748          -0.0087206932        -0.002252909\n",
       "imprel.d               0.1029164080           0.0048912067         0.166111208\n",
       "                         imprel.l1      constant\n",
       "trade_gdp.d           -0.008728206  2.773938e-17\n",
       "defense_w_both_per2.d  0.009366526 -1.932769e-16\n",
       "econ_w_both_per2.d    -0.004627759 -2.089231e-16\n",
       "imprel.d              -0.175026157  2.236714e-15\n"
      ]
     },
     "metadata": {},
     "output_type": "display_data"
    },
    {
     "data": {
      "text/plain": [
       "\n",
       "###################### \n",
       "# Johansen-Procedure # \n",
       "###################### \n",
       "\n",
       "Test type: trace statistic , without linear trend and constant in cointegration \n",
       "\n",
       "Eigenvalues (lambda):\n",
       "[1]  3.728263e-01  3.107387e-01  4.901586e-02  1.430352e-02 -8.434987e-19\n",
       "\n",
       "Values of teststatistic and critical values of test:\n",
       "\n",
       "           test 10pct  5pct  1pct\n",
       "r <= 3 |   3.43  7.52  9.24 12.97\n",
       "r <= 2 |  15.39 17.85 19.96 24.60\n",
       "r <= 1 | 103.96 32.00 34.91 41.07\n",
       "r = 0  | 214.99 49.65 53.12 60.16\n",
       "\n",
       "Eigenvectors, normalised to first column:\n",
       "(These are the cointegration relations)\n",
       "\n",
       "                       trade_gdp.l1 defense_w_both_per2.l1 econ_w_both_per2.l1\n",
       "trade_gdp.l1            1.000000000              1.0000000           1.0000000\n",
       "defense_w_both_per2.l1  1.360547868             -1.2906992          -0.0743217\n",
       "econ_w_both_per2.l1     5.355313341              1.9439577          -0.3159112\n",
       "imprel.l1              -0.002915761              0.0160487           0.1000746\n",
       "constant               -1.339042383             -0.7267934          -2.5793896\n",
       "                          imprel.l1     constant\n",
       "trade_gdp.l1            1.000000000  1.000000000\n",
       "defense_w_both_per2.l1  0.003172802 -0.010700596\n",
       "econ_w_both_per2.l1     0.003851006  0.056830118\n",
       "imprel.l1              -0.007312767 -0.009106572\n",
       "constant               -0.352522256  0.135351241\n",
       "\n",
       "Weights W:\n",
       "(This is the loading matrix)\n",
       "\n",
       "                      trade_gdp.l1 defense_w_both_per2.l1 econ_w_both_per2.l1\n",
       "trade_gdp.d           -0.002022754           -0.006380472         0.001893690\n",
       "defense_w_both_per2.d -0.229709202            0.496062622         0.020494328\n",
       "econ_w_both_per2.d    -0.143061955           -0.137393944         0.008731075\n",
       "imprel.d              -0.625287635           -0.124555577        -1.250879412\n",
       "                         imprel.l1      constant\n",
       "trade_gdp.d           -0.026672822  6.976190e-18\n",
       "defense_w_both_per2.d  0.004980113 -1.851793e-16\n",
       "econ_w_both_per2.d     0.028148565  1.488545e-16\n",
       "imprel.d              -0.195769187  4.922643e-16\n"
      ]
     },
     "metadata": {},
     "output_type": "display_data"
    },
    {
     "data": {
      "text/plain": [
       "\n",
       "###################### \n",
       "# Johansen-Procedure # \n",
       "###################### \n",
       "\n",
       "Test type: trace statistic , without linear trend and constant in cointegration \n",
       "\n",
       "Eigenvalues (lambda):\n",
       "[1]  2.689893e-01  1.312590e-01  5.612661e-02  1.676396e-02 -1.327003e-17\n",
       "\n",
       "Values of teststatistic and critical values of test:\n",
       "\n",
       "           test 10pct  5pct  1pct\n",
       "r <= 3 |   3.99  7.52  9.24 12.97\n",
       "r <= 2 |  17.62 17.85 19.96 24.60\n",
       "r <= 1 |  50.83 32.00 34.91 41.07\n",
       "r = 0  | 124.77 49.65 53.12 60.16\n",
       "\n",
       "Eigenvectors, normalised to first column:\n",
       "(These are the cointegration relations)\n",
       "\n",
       "                        trade_gdp.l1 defense_w_both_per2.l1 econ_w_both_per2.l1\n",
       "trade_gdp.l1            1.0000000000           1.0000000000        1.0000000000\n",
       "defense_w_both_per2.l1  0.0061075995           0.0061669795       -0.0009520071\n",
       "econ_w_both_per2.l1    -0.0500753960           0.0063165043        0.0020013356\n",
       "imprel.l1               0.0003341353          -0.0009324694       -0.0001764443\n",
       "constant               -0.0025568007           0.0005267747        0.0005466395\n",
       "                           imprel.l1      constant\n",
       "trade_gdp.l1            1.000000e+00  1.0000000000\n",
       "defense_w_both_per2.l1 -1.520567e-03 -0.0035455927\n",
       "econ_w_both_per2.l1     2.133011e-05  0.0195369917\n",
       "imprel.l1               2.588368e-03 -0.0001509322\n",
       "constant               -2.616735e-02 -0.0428986355\n",
       "\n",
       "Weights W:\n",
       "(This is the loading matrix)\n",
       "\n",
       "                      trade_gdp.l1 defense_w_both_per2.l1 econ_w_both_per2.l1\n",
       "trade_gdp.d            -0.02111338             -0.0385757         -0.09513965\n",
       "defense_w_both_per2.d  11.99877351            -64.2554405         39.46503607\n",
       "econ_w_both_per2.d     16.78573635             -4.9587393         -1.08283585\n",
       "imprel.d               10.74158046             30.1359376         -1.07661897\n",
       "                          imprel.l1      constant\n",
       "trade_gdp.d            -0.003412686  6.139857e-18\n",
       "defense_w_both_per2.d  -6.502638912  2.420265e-15\n",
       "econ_w_both_per2.d     -0.740483483 -1.786191e-15\n",
       "imprel.d              -18.450437753 -1.100765e-14\n"
      ]
     },
     "metadata": {},
     "output_type": "display_data"
    }
   ],
   "source": [
    "# VECM with Cointegration Trace Test (Cointegration Exists for All *This is Used)\n",
    "usimpF.vecm <- ca.jo(usimp_frame, ecdet=\"const\", type='trace', K=usIFp, spec=\"transitory\"); summary(usimpF.vecm) # 3\n",
    "chnimpF.vecm <- ca.jo(chnimp_frame, ecdet=\"const\", type='trace', K=chnIFp, spec=\"transitory\"); summary(chnimpF.vecm) # 2\n",
    "skorimpF.vecm <- ca.jo(skorimp_frame, ecdet=\"const\", type='trace', K=skorIFp, spec=\"transitory\"); summary(skorimpF.vecm) # 2\n",
    "nkorimpF.vecm <- ca.jo(nkorimp_frame, ecdet=\"const\", type='trace', K=nkorIFp, spec=\"transitory\"); summary(nkorimpF.vecm) # 2\n"
   ]
  },
  {
   "cell_type": "markdown",
   "metadata": {},
   "source": [
    "#### 4.5 Estimate SVECM"
   ]
  },
  {
   "cell_type": "code",
   "execution_count": 15,
   "metadata": {
    "collapsed": true
   },
   "outputs": [],
   "source": [
    "## Restrictions for Short Run Matrix\n",
    "SR <- matrix(NA,nrow=4,ncol=4); SR[1,2:4]<-0; SR[2,3:4]<-0; SR[3,4]<-0; #SR[3,2]<-0\n",
    "## NO Restrictions for Long Run Matrix\n",
    "LR <- matrix(NA,nrow=4,ncol=4)\n",
    "\n",
    "## VECM Result\n",
    "usimpF.vecm.res <- SVEC(usimpF.vecm,LR=LR,SR=SR,r=3,lrtest=FALSE)\n",
    "chnimpF.vecm.res <- SVEC(chnimpF.vecm,LR=LR,SR=SR,r=2,lrtest=FALSE) #,boot=TRUE,runs=500\n",
    "skorimpF.vecm.res <- SVEC(skorimpF.vecm,LR=LR,SR=SR,r=2,lrtest=FALSE) #,boot=TRUE,runs=500\n",
    "nkorimpF.vecm.res <- SVEC(nkorimpF.vecm,LR=LR,SR=SR,r=2,lrtest=FALSE) #,boot=TRUE,runs=500\n"
   ]
  },
  {
   "cell_type": "markdown",
   "metadata": {},
   "source": [
    "#### 4.6 Estimate IRF"
   ]
  },
  {
   "cell_type": "code",
   "execution_count": 16,
   "metadata": {
    "collapsed": true
   },
   "outputs": [],
   "source": [
    "## IRF\n",
    "usirf_frame<-irf(usimpF.vecm.res,n.ahead=12,ci=0.95,runs=1000)\n",
    "chnirf_frame<-irf(chnimpF.vecm.res,n.ahead=12,ci=0.95,runs=1000)\n",
    "skorirf_frame<-irf(skorimpF.vecm.res,n.ahead=12,ci=0.95,runs=1000)\n",
    "nkorirf_frame<-irf(nkorimpF.vecm.res,n.ahead=12,ci=0.95,runs=1000)\n",
    "\n",
    "# plot(usirf_frame)\n",
    "# plot(chnirf_frame)\n",
    "# plot(skorirf_frame)\n",
    "# plot(nkorirf_frame)\n"
   ]
  },
  {
   "cell_type": "markdown",
   "metadata": {},
   "source": [
    "### 5. Persuasion\n",
    "\n",
    "#### 5.1 Create Datasets for Time-Series Analysis"
   ]
  },
  {
   "cell_type": "code",
   "execution_count": 17,
   "metadata": {},
   "outputs": [
    {
     "name": "stderr",
     "output_type": "stream",
     "text": [
      "The following object is masked from package:datasets:\n",
      "\n",
      "    euro\n",
      "\n",
      "The following object is masked from package:datasets:\n",
      "\n",
      "    euro\n",
      "\n",
      "The following object is masked from package:datasets:\n",
      "\n",
      "    euro\n",
      "\n",
      "The following object is masked from package:datasets:\n",
      "\n",
      "    euro\n",
      "\n"
     ]
    }
   ],
   "source": [
    "###############################\n",
    "## Persuasion (Like/Dislike) ##\n",
    "###############################\n",
    "\n",
    "attach(usmonth)\n",
    "usldl<-data.frame(surplus_gdp,statetone_w_both_per2,ldlstate)[-nrow(usmonth),]\n",
    "detach(usmonth)\n",
    "attach(chnmonth)\n",
    "chnldl<-data.frame(surplus_gdp,statetone_w_both_per2,ldlstate)[-nrow(chnmonth),]\n",
    "detach(chnmonth)\n",
    "attach(skormonth)\n",
    "skorldl<-data.frame(surplus_gdp,statetone_w_both_per2,ldlstate)[-nrow(skormonth),]\n",
    "detach(skormonth)\n",
    "attach(nkormonth)\n",
    "nkorldl<-data.frame(surplus_gdp,statetone_w_both_per2,ldlstate)[-nrow(nkormonth),]\n",
    "detach(nkormonth)\n"
   ]
  },
  {
   "cell_type": "markdown",
   "metadata": {},
   "source": [
    "#### 5.2 ADF Test of Non-Stationarity"
   ]
  },
  {
   "cell_type": "code",
   "execution_count": 18,
   "metadata": {},
   "outputs": [
    {
     "data": {
      "text/plain": [
       "\n",
       "############################################### \n",
       "# Augmented Dickey-Fuller Test Unit Root Test # \n",
       "############################################### \n",
       "\n",
       "Test regression trend \n",
       "\n",
       "\n",
       "Call:\n",
       "lm(formula = z.diff ~ z.lag.1 + 1 + tt + z.diff.lag)\n",
       "\n",
       "Residuals:\n",
       "     Min       1Q   Median       3Q      Max \n",
       "-11.0912  -2.0692   0.0381   2.1363   9.5363 \n",
       "\n",
       "Coefficients:\n",
       "              Estimate Std. Error t value Pr(>|t|)    \n",
       "(Intercept)  2.8405827  1.0192673   2.787  0.00564 ** \n",
       "z.lag.1     -0.0780395  0.0257542  -3.030  0.00264 ** \n",
       "tt          -0.0005175  0.0019039  -0.272  0.78593    \n",
       "z.diff.lag  -0.3163863  0.0530734  -5.961 6.57e-09 ***\n",
       "---\n",
       "Signif. codes:  0 '***' 0.001 '**' 0.01 '*' 0.05 '.' 0.1 ' ' 1\n",
       "\n",
       "Residual standard error: 3.185 on 322 degrees of freedom\n",
       "Multiple R-squared:  0.1511,\tAdjusted R-squared:  0.1432 \n",
       "F-statistic:  19.1 on 3 and 322 DF,  p-value: 1.999e-11\n",
       "\n",
       "\n",
       "Value of test-statistic is: -3.0302 3.0905 4.6249 \n",
       "\n",
       "Critical values for test statistics: \n",
       "      1pct  5pct 10pct\n",
       "tau3 -3.98 -3.42 -3.13\n",
       "phi2  6.15  4.71  4.05\n",
       "phi3  8.34  6.30  5.36\n"
      ]
     },
     "metadata": {},
     "output_type": "display_data"
    },
    {
     "data": {
      "text/plain": [
       "\n",
       "############################################### \n",
       "# Augmented Dickey-Fuller Test Unit Root Test # \n",
       "############################################### \n",
       "\n",
       "Test regression drift \n",
       "\n",
       "\n",
       "Call:\n",
       "lm(formula = z.diff ~ z.lag.1 + 1 + z.diff.lag)\n",
       "\n",
       "Residuals:\n",
       "    Min      1Q  Median      3Q     Max \n",
       "-9.3159 -2.0772  0.1008  1.9472  9.3820 \n",
       "\n",
       "Coefficients:\n",
       "            Estimate Std. Error t value Pr(>|t|)    \n",
       "(Intercept)  0.03464    0.17046   0.203    0.839    \n",
       "z.lag.1     -1.77574    0.08759 -20.274  < 2e-16 ***\n",
       "z.diff.lag   0.30877    0.05316   5.808 1.52e-08 ***\n",
       "---\n",
       "Signif. codes:  0 '***' 0.001 '**' 0.01 '*' 0.05 '.' 0.1 ' ' 1\n",
       "\n",
       "Residual standard error: 3.073 on 322 degrees of freedom\n",
       "Multiple R-squared:  0.7084,\tAdjusted R-squared:  0.7066 \n",
       "F-statistic: 391.1 on 2 and 322 DF,  p-value: < 2.2e-16\n",
       "\n",
       "\n",
       "Value of test-statistic is: -20.2742 205.528 \n",
       "\n",
       "Critical values for test statistics: \n",
       "      1pct  5pct 10pct\n",
       "tau2 -3.44 -2.87 -2.57\n",
       "phi1  6.47  4.61  3.79\n"
      ]
     },
     "metadata": {},
     "output_type": "display_data"
    },
    {
     "data": {
      "text/plain": [
       "\n",
       "############################################### \n",
       "# Augmented Dickey-Fuller Test Unit Root Test # \n",
       "############################################### \n",
       "\n",
       "Test regression drift \n",
       "\n",
       "\n",
       "Call:\n",
       "lm(formula = z.diff ~ z.lag.1 + 1 + z.diff.lag)\n",
       "\n",
       "Residuals:\n",
       "    Min      1Q  Median      3Q     Max \n",
       "-5.1523 -0.1236  0.0928  0.2802  0.9583 \n",
       "\n",
       "Coefficients:\n",
       "            Estimate Std. Error t value Pr(>|t|)    \n",
       "(Intercept) -0.32105    0.04365  -7.355 1.58e-12 ***\n",
       "z.lag.1     -0.70980    0.06847 -10.367  < 2e-16 ***\n",
       "z.diff.lag  -0.06746    0.05550  -1.216    0.225    \n",
       "---\n",
       "Signif. codes:  0 '***' 0.001 '**' 0.01 '*' 0.05 '.' 0.1 ' ' 1\n",
       "\n",
       "Residual standard error: 0.5563 on 323 degrees of freedom\n",
       "Multiple R-squared:  0.3834,\tAdjusted R-squared:  0.3796 \n",
       "F-statistic: 100.4 on 2 and 323 DF,  p-value: < 2.2e-16\n",
       "\n",
       "\n",
       "Value of test-statistic is: -10.3671 53.7388 \n",
       "\n",
       "Critical values for test statistics: \n",
       "      1pct  5pct 10pct\n",
       "tau2 -3.44 -2.87 -2.57\n",
       "phi1  6.47  4.61  3.79\n"
      ]
     },
     "metadata": {},
     "output_type": "display_data"
    },
    {
     "data": {
      "text/plain": [
       "\n",
       "############################################### \n",
       "# Augmented Dickey-Fuller Test Unit Root Test # \n",
       "############################################### \n",
       "\n",
       "Test regression trend \n",
       "\n",
       "\n",
       "Call:\n",
       "lm(formula = z.diff ~ z.lag.1 + 1 + tt + z.diff.lag)\n",
       "\n",
       "Residuals:\n",
       "      Min        1Q    Median        3Q       Max \n",
       "-0.203288 -0.059288  0.003218  0.062653  0.219346 \n",
       "\n",
       "Coefficients:\n",
       "              Estimate Std. Error t value Pr(>|t|)    \n",
       "(Intercept)  9.446e-02  2.102e-02   4.495 9.73e-06 ***\n",
       "z.lag.1     -2.349e-01  4.453e-02  -5.275 2.44e-07 ***\n",
       "tt           1.130e-05  4.994e-05   0.226    0.821    \n",
       "z.diff.lag  -4.025e-01  5.077e-02  -7.929 3.67e-14 ***\n",
       "---\n",
       "Signif. codes:  0 '***' 0.001 '**' 0.01 '*' 0.05 '.' 0.1 ' ' 1\n",
       "\n",
       "Residual standard error: 0.08475 on 322 degrees of freedom\n",
       "Multiple R-squared:  0.3279,\tAdjusted R-squared:  0.3217 \n",
       "F-statistic: 52.37 on 3 and 322 DF,  p-value: < 2.2e-16\n",
       "\n",
       "\n",
       "Value of test-statistic is: -5.2754 9.3599 14.032 \n",
       "\n",
       "Critical values for test statistics: \n",
       "      1pct  5pct 10pct\n",
       "tau3 -3.98 -3.42 -3.13\n",
       "phi2  6.15  4.71  4.05\n",
       "phi3  8.34  6.30  5.36\n"
      ]
     },
     "metadata": {},
     "output_type": "display_data"
    },
    {
     "data": {
      "text/plain": [
       "\n",
       "############################################### \n",
       "# Augmented Dickey-Fuller Test Unit Root Test # \n",
       "############################################### \n",
       "\n",
       "Test regression trend \n",
       "\n",
       "\n",
       "Call:\n",
       "lm(formula = z.diff ~ z.lag.1 + 1 + tt + z.diff.lag)\n",
       "\n",
       "Residuals:\n",
       "    Min      1Q  Median      3Q     Max \n",
       "-33.730  -1.525   0.336   2.194   7.458 \n",
       "\n",
       "Coefficients:\n",
       "            Estimate Std. Error t value Pr(>|t|)   \n",
       "(Intercept)  0.88603    0.57005   1.554  0.12109   \n",
       "z.lag.1     -0.06339    0.02068  -3.066  0.00236 **\n",
       "tt          -0.01499    0.00526  -2.850  0.00466 **\n",
       "z.diff.lag  -0.06095    0.05564  -1.095  0.27416   \n",
       "---\n",
       "Signif. codes:  0 '***' 0.001 '**' 0.01 '*' 0.05 '.' 0.1 ' ' 1\n",
       "\n",
       "Residual standard error: 4.046 on 322 degrees of freedom\n",
       "Multiple R-squared:  0.03699,\tAdjusted R-squared:  0.02801 \n",
       "F-statistic: 4.122 on 3 and 322 DF,  p-value: 0.006874\n",
       "\n",
       "\n",
       "Value of test-statistic is: -3.0656 3.6804 4.732 \n",
       "\n",
       "Critical values for test statistics: \n",
       "      1pct  5pct 10pct\n",
       "tau3 -3.98 -3.42 -3.13\n",
       "phi2  6.15  4.71  4.05\n",
       "phi3  8.34  6.30  5.36\n"
      ]
     },
     "metadata": {},
     "output_type": "display_data"
    },
    {
     "data": {
      "text/plain": [
       "\n",
       "############################################### \n",
       "# Augmented Dickey-Fuller Test Unit Root Test # \n",
       "############################################### \n",
       "\n",
       "Test regression drift \n",
       "\n",
       "\n",
       "Call:\n",
       "lm(formula = z.diff ~ z.lag.1 + 1 + z.diff.lag)\n",
       "\n",
       "Residuals:\n",
       "    Min      1Q  Median      3Q     Max \n",
       "-33.767  -1.439   0.290   2.457   7.972 \n",
       "\n",
       "Coefficients:\n",
       "            Estimate Std. Error t value Pr(>|t|)    \n",
       "(Intercept) -0.31065    0.22689  -1.369    0.172    \n",
       "z.lag.1     -1.22696    0.08170 -15.017   <2e-16 ***\n",
       "z.diff.lag   0.12349    0.05523   2.236    0.026 *  \n",
       "---\n",
       "Signif. codes:  0 '***' 0.001 '**' 0.01 '*' 0.05 '.' 0.1 ' ' 1\n",
       "\n",
       "Residual standard error: 4.073 on 322 degrees of freedom\n",
       "Multiple R-squared:  0.553,\tAdjusted R-squared:  0.5502 \n",
       "F-statistic: 199.2 on 2 and 322 DF,  p-value: < 2.2e-16\n",
       "\n",
       "\n",
       "Value of test-statistic is: -15.0173 112.7604 \n",
       "\n",
       "Critical values for test statistics: \n",
       "      1pct  5pct 10pct\n",
       "tau2 -3.44 -2.87 -2.57\n",
       "phi1  6.47  4.61  3.79\n"
      ]
     },
     "metadata": {},
     "output_type": "display_data"
    },
    {
     "data": {
      "text/plain": [
       "\n",
       "############################################### \n",
       "# Augmented Dickey-Fuller Test Unit Root Test # \n",
       "############################################### \n",
       "\n",
       "Test regression drift \n",
       "\n",
       "\n",
       "Call:\n",
       "lm(formula = z.diff ~ z.lag.1 + 1 + z.diff.lag)\n",
       "\n",
       "Residuals:\n",
       "    Min      1Q  Median      3Q     Max \n",
       "-5.3043 -0.0345  0.1143  0.2008  1.4015 \n",
       "\n",
       "Coefficients:\n",
       "            Estimate Std. Error t value Pr(>|t|)    \n",
       "(Intercept) -0.14621    0.03518  -4.156 4.15e-05 ***\n",
       "z.lag.1     -0.69982    0.07096  -9.862  < 2e-16 ***\n",
       "z.diff.lag  -0.16466    0.05484  -3.003  0.00289 ** \n",
       "---\n",
       "Signif. codes:  0 '***' 0.001 '**' 0.01 '*' 0.05 '.' 0.1 ' ' 1\n",
       "\n",
       "Residual standard error: 0.5769 on 323 degrees of freedom\n",
       "Multiple R-squared:  0.435,\tAdjusted R-squared:  0.4315 \n",
       "F-statistic: 124.3 on 2 and 323 DF,  p-value: < 2.2e-16\n",
       "\n",
       "\n",
       "Value of test-statistic is: -9.8623 48.6324 \n",
       "\n",
       "Critical values for test statistics: \n",
       "      1pct  5pct 10pct\n",
       "tau2 -3.44 -2.87 -2.57\n",
       "phi1  6.47  4.61  3.79\n"
      ]
     },
     "metadata": {},
     "output_type": "display_data"
    },
    {
     "data": {
      "text/plain": [
       "\n",
       "############################################### \n",
       "# Augmented Dickey-Fuller Test Unit Root Test # \n",
       "############################################### \n",
       "\n",
       "Test regression trend \n",
       "\n",
       "\n",
       "Call:\n",
       "lm(formula = z.diff ~ z.lag.1 + 1 + tt + z.diff.lag)\n",
       "\n",
       "Residuals:\n",
       "     Min       1Q   Median       3Q      Max \n",
       "-0.51770 -0.04069  0.00139  0.03925  0.32090 \n",
       "\n",
       "Coefficients:\n",
       "              Estimate Std. Error t value Pr(>|t|)    \n",
       "(Intercept) -6.384e-03  1.015e-02  -0.629 0.529595    \n",
       "z.lag.1     -3.351e-01  5.947e-02  -5.634 3.84e-08 ***\n",
       "tt          -2.594e-04  6.691e-05  -3.878 0.000128 ***\n",
       "z.diff.lag  -4.668e-01  5.102e-02  -9.148  < 2e-16 ***\n",
       "---\n",
       "Signif. codes:  0 '***' 0.001 '**' 0.01 '*' 0.05 '.' 0.1 ' ' 1\n",
       "\n",
       "Residual standard error: 0.09006 on 322 degrees of freedom\n",
       "Multiple R-squared:  0.461,\tAdjusted R-squared:  0.456 \n",
       "F-statistic: 91.81 on 3 and 322 DF,  p-value: < 2.2e-16\n",
       "\n",
       "\n",
       "Value of test-statistic is: -5.6344 10.8227 16.0273 \n",
       "\n",
       "Critical values for test statistics: \n",
       "      1pct  5pct 10pct\n",
       "tau3 -3.98 -3.42 -3.13\n",
       "phi2  6.15  4.71  4.05\n",
       "phi3  8.34  6.30  5.36\n"
      ]
     },
     "metadata": {},
     "output_type": "display_data"
    },
    {
     "data": {
      "text/plain": [
       "\n",
       "############################################### \n",
       "# Augmented Dickey-Fuller Test Unit Root Test # \n",
       "############################################### \n",
       "\n",
       "Test regression trend \n",
       "\n",
       "\n",
       "Call:\n",
       "lm(formula = z.diff ~ z.lag.1 + 1 + tt + z.diff.lag)\n",
       "\n",
       "Residuals:\n",
       "     Min       1Q   Median       3Q      Max \n",
       "-19.9455  -1.4077   0.1256   1.7555   8.6198 \n",
       "\n",
       "Coefficients:\n",
       "             Estimate Std. Error t value Pr(>|t|)    \n",
       "(Intercept) -0.121034   0.398833  -0.303 0.761727    \n",
       "z.lag.1     -0.025540   0.017341  -1.473 0.141785    \n",
       "tt          -0.002041   0.001742  -1.172 0.242251    \n",
       "z.diff.lag  -0.196917   0.055035  -3.578 0.000399 ***\n",
       "---\n",
       "Signif. codes:  0 '***' 0.001 '**' 0.01 '*' 0.05 '.' 0.1 ' ' 1\n",
       "\n",
       "Residual standard error: 2.952 on 322 degrees of freedom\n",
       "Multiple R-squared:  0.05401,\tAdjusted R-squared:  0.04519 \n",
       "F-statistic: 6.128 on 3 and 322 DF,  p-value: 0.0004601\n",
       "\n",
       "\n",
       "Value of test-statistic is: -1.4728 1.2509 1.6809 \n",
       "\n",
       "Critical values for test statistics: \n",
       "      1pct  5pct 10pct\n",
       "tau3 -3.98 -3.42 -3.13\n",
       "phi2  6.15  4.71  4.05\n",
       "phi3  8.34  6.30  5.36\n"
      ]
     },
     "metadata": {},
     "output_type": "display_data"
    },
    {
     "data": {
      "text/plain": [
       "\n",
       "############################################### \n",
       "# Augmented Dickey-Fuller Test Unit Root Test # \n",
       "############################################### \n",
       "\n",
       "Test regression drift \n",
       "\n",
       "\n",
       "Call:\n",
       "lm(formula = z.diff ~ z.lag.1 + 1 + z.diff.lag)\n",
       "\n",
       "Residuals:\n",
       "     Min       1Q   Median       3Q      Max \n",
       "-20.2320  -1.4392   0.1202   1.8297   8.6260 \n",
       "\n",
       "Coefficients:\n",
       "             Estimate Std. Error t value Pr(>|t|)    \n",
       "(Intercept) -0.101871   0.164717  -0.618    0.537    \n",
       "z.lag.1     -1.218901   0.086501 -14.091   <2e-16 ***\n",
       "z.diff.lag   0.008656   0.055522   0.156    0.876    \n",
       "---\n",
       "Signif. codes:  0 '***' 0.001 '**' 0.01 '*' 0.05 '.' 0.1 ' ' 1\n",
       "\n",
       "Residual standard error: 2.967 on 322 degrees of freedom\n",
       "Multiple R-squared:  0.6042,\tAdjusted R-squared:  0.6018 \n",
       "F-statistic: 245.8 on 2 and 322 DF,  p-value: < 2.2e-16\n",
       "\n",
       "\n",
       "Value of test-statistic is: -14.0912 99.2814 \n",
       "\n",
       "Critical values for test statistics: \n",
       "      1pct  5pct 10pct\n",
       "tau2 -3.44 -2.87 -2.57\n",
       "phi1  6.47  4.61  3.79\n"
      ]
     },
     "metadata": {},
     "output_type": "display_data"
    },
    {
     "data": {
      "text/plain": [
       "\n",
       "############################################### \n",
       "# Augmented Dickey-Fuller Test Unit Root Test # \n",
       "############################################### \n",
       "\n",
       "Test regression none \n",
       "\n",
       "\n",
       "Call:\n",
       "lm(formula = z.diff ~ z.lag.1 - 1 + z.diff.lag)\n",
       "\n",
       "Residuals:\n",
       "     Min       1Q   Median       3Q      Max \n",
       "-1.53196 -0.04070  0.00258  0.07013  0.67514 \n",
       "\n",
       "Coefficients:\n",
       "            Estimate Std. Error t value Pr(>|t|)    \n",
       "z.lag.1    -0.769292   0.068962 -11.155   <2e-16 ***\n",
       "z.diff.lag -0.005473   0.055115  -0.099    0.921    \n",
       "---\n",
       "Signif. codes:  0 '***' 0.001 '**' 0.01 '*' 0.05 '.' 0.1 ' ' 1\n",
       "\n",
       "Residual standard error: 0.2035 on 324 degrees of freedom\n",
       "Multiple R-squared:  0.3869,\tAdjusted R-squared:  0.3831 \n",
       "F-statistic: 102.2 on 2 and 324 DF,  p-value: < 2.2e-16\n",
       "\n",
       "\n",
       "Value of test-statistic is: -11.1553 \n",
       "\n",
       "Critical values for test statistics: \n",
       "      1pct  5pct 10pct\n",
       "tau1 -2.58 -1.95 -1.62\n"
      ]
     },
     "metadata": {},
     "output_type": "display_data"
    },
    {
     "data": {
      "text/plain": [
       "\n",
       "############################################### \n",
       "# Augmented Dickey-Fuller Test Unit Root Test # \n",
       "############################################### \n",
       "\n",
       "Test regression trend \n",
       "\n",
       "\n",
       "Call:\n",
       "lm(formula = z.diff ~ z.lag.1 + 1 + tt + z.diff.lag)\n",
       "\n",
       "Residuals:\n",
       "      Min        1Q    Median        3Q       Max \n",
       "-0.078771 -0.016873  0.000016  0.016774  0.083978 \n",
       "\n",
       "Coefficients:\n",
       "              Estimate Std. Error t value Pr(>|t|)    \n",
       "(Intercept)  6.971e-03  3.095e-03   2.252 0.024974 *  \n",
       "z.lag.1     -1.834e-01  3.599e-02  -5.097 5.91e-07 ***\n",
       "tt           8.139e-05  2.208e-05   3.686 0.000267 ***\n",
       "z.diff.lag  -1.277e-01  5.532e-02  -2.308 0.021660 *  \n",
       "---\n",
       "Signif. codes:  0 '***' 0.001 '**' 0.01 '*' 0.05 '.' 0.1 ' ' 1\n",
       "\n",
       "Residual standard error: 0.02539 on 322 degrees of freedom\n",
       "Multiple R-squared:  0.1196,\tAdjusted R-squared:  0.1114 \n",
       "F-statistic: 14.58 on 3 and 322 DF,  p-value: 6.281e-09\n",
       "\n",
       "\n",
       "Value of test-statistic is: -5.0967 8.6845 12.9927 \n",
       "\n",
       "Critical values for test statistics: \n",
       "      1pct  5pct 10pct\n",
       "tau3 -3.98 -3.42 -3.13\n",
       "phi2  6.15  4.71  4.05\n",
       "phi3  8.34  6.30  5.36\n"
      ]
     },
     "metadata": {},
     "output_type": "display_data"
    },
    {
     "data": {
      "text/plain": [
       "\n",
       "############################################### \n",
       "# Augmented Dickey-Fuller Test Unit Root Test # \n",
       "############################################### \n",
       "\n",
       "Test regression trend \n",
       "\n",
       "\n",
       "Call:\n",
       "lm(formula = z.diff ~ z.lag.1 + 1 + tt + z.diff.lag)\n",
       "\n",
       "Residuals:\n",
       "     Min       1Q   Median       3Q      Max \n",
       "-15.6130  -1.3531   0.2289   1.6009   7.3150 \n",
       "\n",
       "Coefficients:\n",
       "             Estimate Std. Error t value Pr(>|t|)    \n",
       "(Intercept) -4.190483   1.225968  -3.418 0.000712 ***\n",
       "z.lag.1     -0.091044   0.028090  -3.241 0.001315 ** \n",
       "tt          -0.012344   0.004416  -2.795 0.005500 ** \n",
       "z.diff.lag  -0.289048   0.053711  -5.382 1.42e-07 ***\n",
       "---\n",
       "Signif. codes:  0 '***' 0.001 '**' 0.01 '*' 0.05 '.' 0.1 ' ' 1\n",
       "\n",
       "Residual standard error: 2.67 on 322 degrees of freedom\n",
       "Multiple R-squared:  0.1407,\tAdjusted R-squared:  0.1327 \n",
       "F-statistic: 17.57 on 3 and 322 DF,  p-value: 1.376e-10\n",
       "\n",
       "\n",
       "Value of test-statistic is: -3.2411 4.0658 5.4683 \n",
       "\n",
       "Critical values for test statistics: \n",
       "      1pct  5pct 10pct\n",
       "tau3 -3.98 -3.42 -3.13\n",
       "phi2  6.15  4.71  4.05\n",
       "phi3  8.34  6.30  5.36\n"
      ]
     },
     "metadata": {},
     "output_type": "display_data"
    },
    {
     "data": {
      "text/plain": [
       "\n",
       "############################################### \n",
       "# Augmented Dickey-Fuller Test Unit Root Test # \n",
       "############################################### \n",
       "\n",
       "Test regression drift \n",
       "\n",
       "\n",
       "Call:\n",
       "lm(formula = z.diff ~ z.lag.1 + 1 + z.diff.lag)\n",
       "\n",
       "Residuals:\n",
       "     Min       1Q   Median       3Q      Max \n",
       "-13.9275  -1.3658   0.2401   1.5228   7.6610 \n",
       "\n",
       "Coefficients:\n",
       "            Estimate Std. Error t value Pr(>|t|)    \n",
       "(Intercept) -0.14023    0.14117  -0.993   0.3213    \n",
       "z.lag.1     -1.51620    0.08517 -17.802   <2e-16 ***\n",
       "z.diff.lag   0.13060    0.05220   2.502   0.0128 *  \n",
       "---\n",
       "Signif. codes:  0 '***' 0.001 '**' 0.01 '*' 0.05 '.' 0.1 ' ' 1\n",
       "\n",
       "Residual standard error: 2.537 on 322 degrees of freedom\n",
       "Multiple R-squared:  0.6997,\tAdjusted R-squared:  0.6979 \n",
       "F-statistic: 375.2 on 2 and 322 DF,  p-value: < 2.2e-16\n",
       "\n",
       "\n",
       "Value of test-statistic is: -17.8016 158.531 \n",
       "\n",
       "Critical values for test statistics: \n",
       "      1pct  5pct 10pct\n",
       "tau2 -3.44 -2.87 -2.57\n",
       "phi1  6.47  4.61  3.79\n"
      ]
     },
     "metadata": {},
     "output_type": "display_data"
    },
    {
     "data": {
      "text/plain": [
       "\n",
       "############################################### \n",
       "# Augmented Dickey-Fuller Test Unit Root Test # \n",
       "############################################### \n",
       "\n",
       "Test regression drift \n",
       "\n",
       "\n",
       "Call:\n",
       "lm(formula = z.diff ~ z.lag.1 + 1 + z.diff.lag)\n",
       "\n",
       "Residuals:\n",
       "    Min      1Q  Median      3Q     Max \n",
       "-6.8947 -0.0674  0.1994  0.3437  2.2256 \n",
       "\n",
       "Coefficients:\n",
       "            Estimate Std. Error t value Pr(>|t|)    \n",
       "(Intercept) -0.27764    0.05738  -4.838 2.03e-06 ***\n",
       "z.lag.1     -0.50013    0.05867  -8.524 5.99e-16 ***\n",
       "z.diff.lag  -0.10967    0.05532  -1.983   0.0483 *  \n",
       "---\n",
       "Signif. codes:  0 '***' 0.001 '**' 0.01 '*' 0.05 '.' 0.1 ' ' 1\n",
       "\n",
       "Residual standard error: 0.8514 on 323 degrees of freedom\n",
       "Multiple R-squared:  0.2894,\tAdjusted R-squared:  0.285 \n",
       "F-statistic: 65.76 on 2 and 323 DF,  p-value: < 2.2e-16\n",
       "\n",
       "\n",
       "Value of test-statistic is: -8.5243 36.3322 \n",
       "\n",
       "Critical values for test statistics: \n",
       "      1pct  5pct 10pct\n",
       "tau2 -3.44 -2.87 -2.57\n",
       "phi1  6.47  4.61  3.79\n"
      ]
     },
     "metadata": {},
     "output_type": "display_data"
    },
    {
     "data": {
      "text/plain": [
       "\n",
       "############################################### \n",
       "# Augmented Dickey-Fuller Test Unit Root Test # \n",
       "############################################### \n",
       "\n",
       "Test regression none \n",
       "\n",
       "\n",
       "Call:\n",
       "lm(formula = z.diff ~ z.lag.1 - 1 + z.diff.lag)\n",
       "\n",
       "Residuals:\n",
       "       Min         1Q     Median         3Q        Max \n",
       "-0.0094082 -0.0002650  0.0000000  0.0001784  0.0104652 \n",
       "\n",
       "Coefficients:\n",
       "           Estimate Std. Error t value Pr(>|t|)    \n",
       "z.lag.1    -0.21302    0.04122  -5.168 4.15e-07 ***\n",
       "z.diff.lag -0.29287    0.05304  -5.522 6.88e-08 ***\n",
       "---\n",
       "Signif. codes:  0 '***' 0.001 '**' 0.01 '*' 0.05 '.' 0.1 ' ' 1\n",
       "\n",
       "Residual standard error: 0.001337 on 324 degrees of freedom\n",
       "Multiple R-squared:  0.2239,\tAdjusted R-squared:  0.2191 \n",
       "F-statistic: 46.73 on 2 and 324 DF,  p-value: < 2.2e-16\n",
       "\n",
       "\n",
       "Value of test-statistic is: -5.1676 \n",
       "\n",
       "Critical values for test statistics: \n",
       "      1pct  5pct 10pct\n",
       "tau1 -2.58 -1.95 -1.62\n"
      ]
     },
     "metadata": {},
     "output_type": "display_data"
    }
   ],
   "source": [
    "## ADF Test\n",
    "# US\n",
    "summary(ur.df(usldl$ldlstate,type=\"trend\",selectlags=\"AIC\")) ## Non-Stationary (10%)\n",
    "summary(ur.df(diff(usldl$ldlstate),type=\"drift\",selectlags=\"AIC\")) ## Stationary\n",
    "summary(ur.df(usldl$statetone_w_both_per2,type=\"drift\",selectlags=\"AIC\")) ## Stationary\n",
    "summary(ur.df(usldl$surplus_gdp,type=\"trend\",selectlags=\"AIC\")) ## Stationary\n",
    "# China\n",
    "summary(ur.df(chnldl$ldlstate,type=\"trend\",selectlags=\"AIC\")) ## Non-Stationary (10%)\n",
    "summary(ur.df(diff(chnldl$ldlstate),type=\"drift\",selectlags=\"AIC\")) ## Stationary\n",
    "summary(ur.df(chnldl$statetone_w_both_per2,type=\"drift\",selectlags=\"AIC\")) ## Stationary\n",
    "summary(ur.df(chnldl$surplus_gdp,type=\"trend\",selectlags=\"AIC\")) ## Stationary\n",
    "# S.Korea\n",
    "summary(ur.df(skorldl$ldlstate,type=\"trend\",selectlags=\"AIC\")) ## Non-Stationary (10%)\n",
    "summary(ur.df(diff(skorldl$ldlstate),type=\"drift\",selectlags=\"AIC\")) ## Stationary\n",
    "summary(ur.df(skorldl$statetone_w_both_per2,type=\"none\",selectlags=\"AIC\")) ## Stationary\n",
    "summary(ur.df(skorldl$surplus_gdp,type=\"trend\",selectlags=\"AIC\")) ## Stationary\n",
    "# N.Korea\n",
    "summary(ur.df(nkorldl$ldlstate,type=\"trend\",selectlags=\"AIC\")) ## Non-Stationary (5%)\n",
    "summary(ur.df(diff(nkorldl$ldlstate),type=\"drift\",selectlags=\"AIC\")) ## Stationary\n",
    "summary(ur.df(nkorldl$statetone_w_both_per2,type=\"drift\",selectlags=\"AIC\")) ## Stationary\n",
    "summary(ur.df(nkorldl$surplus_gdp,type=\"none\",selectlags=\"AIC\")) ## Stationary\n"
   ]
  },
  {
   "cell_type": "markdown",
   "metadata": {},
   "source": [
    "#### 5.3 Select Optimal Lag Based on AIC"
   ]
  },
  {
   "cell_type": "code",
   "execution_count": 19,
   "metadata": {},
   "outputs": [
    {
     "data": {
      "text/html": [
       "<strong>AIC(n):</strong> 12"
      ],
      "text/latex": [
       "\\textbf{AIC(n):} 12"
      ],
      "text/markdown": [
       "**AIC(n):** 12"
      ],
      "text/plain": [
       "AIC(n) \n",
       "    12 "
      ]
     },
     "metadata": {},
     "output_type": "display_data"
    },
    {
     "data": {
      "text/html": [
       "<strong>AIC(n):</strong> 12"
      ],
      "text/latex": [
       "\\textbf{AIC(n):} 12"
      ],
      "text/markdown": [
       "**AIC(n):** 12"
      ],
      "text/plain": [
       "AIC(n) \n",
       "    12 "
      ]
     },
     "metadata": {},
     "output_type": "display_data"
    },
    {
     "data": {
      "text/html": [
       "<strong>AIC(n):</strong> 12"
      ],
      "text/latex": [
       "\\textbf{AIC(n):} 12"
      ],
      "text/markdown": [
       "**AIC(n):** 12"
      ],
      "text/plain": [
       "AIC(n) \n",
       "    12 "
      ]
     },
     "metadata": {},
     "output_type": "display_data"
    },
    {
     "data": {
      "text/html": [
       "<strong>AIC(n):</strong> 4"
      ],
      "text/latex": [
       "\\textbf{AIC(n):} 4"
      ],
      "text/markdown": [
       "**AIC(n):** 4"
      ],
      "text/plain": [
       "AIC(n) \n",
       "     4 "
      ]
     },
     "metadata": {},
     "output_type": "display_data"
    }
   ],
   "source": [
    "# Optimal Lag Based on AIC\n",
    "usTp <- VARselect(usldl,lag.max=12, type=\"both\")$selection[1]; usTp # 12\n",
    "chnTp <- VARselect(chnldl,lag.max=12, type=\"both\")$selection[1]; chnTp # 12\n",
    "skorTp <- VARselect(skorldl,lag.max=12, type=\"both\")$selection[1]; skorTp # 12\n",
    "nkorTp <- VARselect(nkorldl,lag.max=12, type=\"both\")$selection[1]; nkorTp # 4\n"
   ]
  },
  {
   "cell_type": "markdown",
   "metadata": {},
   "source": [
    "#### 5.4 Estimate VECM"
   ]
  },
  {
   "cell_type": "code",
   "execution_count": 20,
   "metadata": {},
   "outputs": [
    {
     "data": {
      "text/plain": [
       "\n",
       "###################### \n",
       "# Johansen-Procedure # \n",
       "###################### \n",
       "\n",
       "Test type: trace statistic , without linear trend and constant in cointegration \n",
       "\n",
       "Eigenvalues (lambda):\n",
       "[1]  8.950156e-02  2.898337e-02  2.227243e-02 -6.030320e-19\n",
       "\n",
       "Values of teststatistic and critical values of test:\n",
       "\n",
       "          test 10pct  5pct  1pct\n",
       "r <= 2 |  7.12  7.52  9.24 12.97\n",
       "r <= 1 | 16.41 17.85 19.96 24.60\n",
       "r = 0  | 46.04 32.00 34.91 41.07\n",
       "\n",
       "Eigenvectors, normalised to first column:\n",
       "(These are the cointegration relations)\n",
       "\n",
       "                         surplus_gdp.l1 statetone_w_both_per2.l1  ldlstate.l1\n",
       "surplus_gdp.l1               1.00000000               1.00000000  1.000000000\n",
       "statetone_w_both_per2.l1    -3.76637823               0.09823587  0.030600872\n",
       "ldlstate.l1                  0.04913151               0.03027274 -0.002530298\n",
       "constant                    -3.87934193              -1.45184420 -0.304067102\n",
       "                           constant\n",
       "surplus_gdp.l1            1.0000000\n",
       "statetone_w_both_per2.l1 -0.4387193\n",
       "ldlstate.l1               0.1105200\n",
       "constant                 -0.4683945\n",
       "\n",
       "Weights W:\n",
       "(This is the loading matrix)\n",
       "\n",
       "                        surplus_gdp.l1 statetone_w_both_per2.l1 ldlstate.l1\n",
       "surplus_gdp.d              0.005016258               0.02593308 -0.08055135\n",
       "statetone_w_both_per2.d    0.155255421              -0.26048883 -0.10947539\n",
       "ldlstate.d                -0.377197246              -1.87740213 -2.48009780\n",
       "                             constant\n",
       "surplus_gdp.d            3.879954e-18\n",
       "statetone_w_both_per2.d  2.518702e-17\n",
       "ldlstate.d              -1.146742e-16\n"
      ]
     },
     "metadata": {},
     "output_type": "display_data"
    },
    {
     "data": {
      "text/plain": [
       "\n",
       "###################### \n",
       "# Johansen-Procedure # \n",
       "###################### \n",
       "\n",
       "Test type: trace statistic , without linear trend and constant in cointegration \n",
       "\n",
       "Eigenvalues (lambda):\n",
       "[1]  9.691771e-02  2.295468e-02  1.122580e-02 -1.588603e-18\n",
       "\n",
       "Values of teststatistic and critical values of test:\n",
       "\n",
       "          test 10pct  5pct  1pct\n",
       "r <= 2 |  3.57  7.52  9.24 12.97\n",
       "r <= 1 | 10.91 17.85 19.96 24.60\n",
       "r = 0  | 43.12 32.00 34.91 41.07\n",
       "\n",
       "Eigenvectors, normalised to first column:\n",
       "(These are the cointegration relations)\n",
       "\n",
       "                         surplus_gdp.l1 statetone_w_both_per2.l1 ldlstate.l1\n",
       "surplus_gdp.l1              1.000000000              1.000000000  1.00000000\n",
       "statetone_w_both_per2.l1    1.388175218              0.145217383 -0.17108861\n",
       "ldlstate.l1                -0.007457046             -0.007711062  0.01001367\n",
       "constant                    0.230778377              0.190831519  0.43276214\n",
       "                             constant\n",
       "surplus_gdp.l1            1.000000000\n",
       "statetone_w_both_per2.l1  0.019322526\n",
       "ldlstate.l1              -0.002742598\n",
       "constant                  0.054964803\n",
       "\n",
       "Weights W:\n",
       "(This is the loading matrix)\n",
       "\n",
       "                        surplus_gdp.l1 statetone_w_both_per2.l1 ldlstate.l1\n",
       "surplus_gdp.d               0.01074834              -0.03881859  0.01537931\n",
       "statetone_w_both_per2.d    -0.65236922              -0.04777756 -0.01390107\n",
       "ldlstate.d                 -1.15835740              -1.77769286 -1.02309989\n",
       "                             constant\n",
       "surplus_gdp.d           -6.094047e-16\n",
       "statetone_w_both_per2.d -1.400461e-15\n",
       "ldlstate.d               4.128054e-14\n"
      ]
     },
     "metadata": {},
     "output_type": "display_data"
    },
    {
     "data": {
      "text/plain": [
       "\n",
       "###################### \n",
       "# Johansen-Procedure # \n",
       "###################### \n",
       "\n",
       "Test type: trace statistic , without linear trend and constant in cointegration \n",
       "\n",
       "Eigenvalues (lambda):\n",
       "[1] 9.056046e-02 1.071829e-02 4.298952e-03 1.804888e-18\n",
       "\n",
       "Values of teststatistic and critical values of test:\n",
       "\n",
       "          test 10pct  5pct  1pct\n",
       "r <= 2 |  1.36  7.52  9.24 12.97\n",
       "r <= 1 |  4.77 17.85 19.96 24.60\n",
       "r = 0  | 34.76 32.00 34.91 41.07\n",
       "\n",
       "Eigenvectors, normalised to first column:\n",
       "(These are the cointegration relations)\n",
       "\n",
       "                         surplus_gdp.l1 statetone_w_both_per2.l1  ldlstate.l1\n",
       "surplus_gdp.l1                1.0000000              1.000000000  1.000000000\n",
       "statetone_w_both_per2.l1      1.7890068              0.045526269 -0.094341383\n",
       "ldlstate.l1                  -0.0053822             -0.002668124  0.004172993\n",
       "constant                     -0.2023618             -0.184840824  0.011493258\n",
       "                            constant\n",
       "surplus_gdp.l1            1.00000000\n",
       "statetone_w_both_per2.l1  0.08407377\n",
       "ldlstate.l1              -0.02076633\n",
       "constant                 -0.30983359\n",
       "\n",
       "Weights W:\n",
       "(This is the loading matrix)\n",
       "\n",
       "                        surplus_gdp.l1 statetone_w_both_per2.l1  ldlstate.l1\n",
       "surplus_gdp.d              0.009479004              -0.03215621 -0.001255107\n",
       "statetone_w_both_per2.d   -0.478515165              -0.05932328  0.009104359\n",
       "ldlstate.d                -0.993067940              -0.05429435 -1.861430872\n",
       "                             constant\n",
       "surplus_gdp.d           -9.112588e-17\n",
       "statetone_w_both_per2.d  2.985842e-15\n",
       "ldlstate.d              -9.350386e-15\n"
      ]
     },
     "metadata": {},
     "output_type": "display_data"
    },
    {
     "data": {
      "text/plain": [
       "\n",
       "###################### \n",
       "# Johansen-Procedure # \n",
       "###################### \n",
       "\n",
       "Test type: trace statistic , without linear trend and constant in cointegration \n",
       "\n",
       "Eigenvalues (lambda):\n",
       "[1] 1.125283e-01 8.455082e-02 6.411371e-03 5.551115e-17\n",
       "\n",
       "Values of teststatistic and critical values of test:\n",
       "\n",
       "          test 10pct  5pct  1pct\n",
       "r <= 2 |  2.08  7.52  9.24 12.97\n",
       "r <= 1 | 30.71 17.85 19.96 24.60\n",
       "r = 0  | 69.38 32.00 34.91 41.07\n",
       "\n",
       "Eigenvectors, normalised to first column:\n",
       "(These are the cointegration relations)\n",
       "\n",
       "                         surplus_gdp.l1 statetone_w_both_per2.l1  ldlstate.l1\n",
       "surplus_gdp.l1             1.0000000000             1.000000e+00  1.000000000\n",
       "statetone_w_both_per2.l1  -0.0027708594             2.606668e-03 -0.011963705\n",
       "ldlstate.l1                0.0000638678            -4.258633e-05 -0.008431011\n",
       "constant                   0.0031254501            -1.454085e-03 -0.675866077\n",
       "                             constant\n",
       "surplus_gdp.l1            1.000000000\n",
       "statetone_w_both_per2.l1 -0.024002055\n",
       "ldlstate.l1               0.005388126\n",
       "constant                  0.261668590\n",
       "\n",
       "Weights W:\n",
       "(This is the loading matrix)\n",
       "\n",
       "                        surplus_gdp.l1 statetone_w_both_per2.l1   ldlstate.l1\n",
       "surplus_gdp.d               -0.1533264               -0.1066612 -8.005890e-06\n",
       "statetone_w_both_per2.d     64.7447197              -67.0898696  1.606933e-01\n",
       "ldlstate.d                 -64.6754157               31.0789876  1.172809e+00\n",
       "                            constant\n",
       "surplus_gdp.d           2.521445e-18\n",
       "statetone_w_both_per2.d 5.475667e-16\n",
       "ldlstate.d              1.818424e-14\n"
      ]
     },
     "metadata": {},
     "output_type": "display_data"
    }
   ],
   "source": [
    "# VECM with Cointegration Trace Test (Cointegration Exists for All *This is Used)\n",
    "usldl.vecm <- ca.jo(usldl, ecdet=\"const\", type='trace', K=usTp, spec=\"transitory\"); summary(usldl.vecm) # 1\n",
    "chnldl.vecm <- ca.jo(chnldl, ecdet=\"const\", type='trace', K=chnTp, spec=\"transitory\"); summary(chnldl.vecm) # 1\n",
    "skorldl.vecm <- ca.jo(skorldl, ecdet=\"const\", type='trace', K=skorTp, spec=\"transitory\"); summary(skorldl.vecm) # 1\n",
    "nkorldl.vecm <- ca.jo(nkorldl, ecdet=\"const\", type='trace', K=nkorTp, spec=\"transitory\"); summary(nkorldl.vecm) # 2\n"
   ]
  },
  {
   "cell_type": "markdown",
   "metadata": {},
   "source": [
    "#### 5.5 Estimate SVECM"
   ]
  },
  {
   "cell_type": "code",
   "execution_count": 21,
   "metadata": {
    "collapsed": true
   },
   "outputs": [],
   "source": [
    "## Restrictions for Short Run Matrix\n",
    "SR <- matrix(NA,nrow=3,ncol=3); SR[1,2:3] <- 0; SR[2,3] <- 0\n",
    "## NO Restrictions for Long Run Matrix\n",
    "LR <- matrix(NA,nrow=3,ncol=3)\n",
    "\n",
    "## Structural VECM Result\n",
    "usldl.vecm.res <- SVEC(usldl.vecm,LR=LR,SR=SR,r=1,lrtest=FALSE)\n",
    "chnldl.vecm.res <- SVEC(chnldl.vecm,LR=LR,SR=SR,r=1,lrtest=FALSE) #,boot=TRUE,runs=500\n",
    "skorldl.vecm.res <- SVEC(skorldl.vecm,LR=LR,SR=SR,r=1,lrtest=FALSE) #,boot=TRUE,runs=500\n",
    "nkorldl.vecm.res <- SVEC(nkorldl.vecm,LR=LR,SR=SR,r=2,lrtest=FALSE) #,boot=TRUE,runs=500\n"
   ]
  },
  {
   "cell_type": "markdown",
   "metadata": {},
   "source": [
    "#### 5.6 Estimate IRF"
   ]
  },
  {
   "cell_type": "code",
   "execution_count": 22,
   "metadata": {
    "collapsed": true
   },
   "outputs": [],
   "source": [
    "## IRF\n",
    "usirf_ldl<-irf(usldl.vecm.res,n.ahead=12,ci=0.95,runs=1000)\n",
    "chnirf_ldl<-irf(chnldl.vecm.res,n.ahead=12,ci=0.95,runs=1000)\n",
    "skorirf_ldl<-irf(skorldl.vecm.res,n.ahead=12,ci=0.95,runs=1000)\n",
    "nkorirf_ldl<-irf(nkorldl.vecm.res,n.ahead=12,ci=0.95,runs=1000)\n",
    "\n",
    "# plot(usirf_ldl)\n",
    "# plot(chnirf_ldl)\n",
    "# plot(skorirf_ldl)\n",
    "# plot(nkorirf_ldl)\n"
   ]
  },
  {
   "cell_type": "markdown",
   "metadata": {},
   "source": [
    "### 6. Persuasion and Framing\n",
    "\n",
    "#### 6.1 Create Datasets for Time-Series Analysis"
   ]
  },
  {
   "cell_type": "code",
   "execution_count": 23,
   "metadata": {},
   "outputs": [
    {
     "name": "stderr",
     "output_type": "stream",
     "text": [
      "The following object is masked from package:datasets:\n",
      "\n",
      "    euro\n",
      "\n",
      "The following object is masked from package:datasets:\n",
      "\n",
      "    euro\n",
      "\n",
      "The following object is masked from package:datasets:\n",
      "\n",
      "    euro\n",
      "\n",
      "The following object is masked from package:datasets:\n",
      "\n",
      "    euro\n",
      "\n"
     ]
    }
   ],
   "source": [
    "#############################\n",
    "## Persuasion (ldl, frame) ##\n",
    "#############################\n",
    "\n",
    "attach(usmonth)\n",
    "usldl_frame<-data.frame(surplus_gdp,tonedefense_w_both_per2,toneecon_w_both_per2,ldlstate)[-nrow(usmonth),]\n",
    "detach(usmonth)\n",
    "attach(chnmonth)\n",
    "chnldl_frame<-data.frame(surplus_gdp,tonedefense_w_both_per2,toneecon_w_both_per2,ldlstate)[-nrow(chnmonth),]\n",
    "detach(chnmonth)\n",
    "attach(skormonth)\n",
    "skorldl_frame<-data.frame(surplus_gdp,tonedefense_w_both_per2,toneecon_w_both_per2,ldlstate)[-nrow(skormonth),]\n",
    "detach(skormonth)\n",
    "attach(nkormonth)\n",
    "nkorldl_frame<-data.frame(surplus_gdp,tonedefense_w_both_per2,toneecon_w_both_per2,ldlstate)[-nrow(nkormonth),]\n",
    "detach(nkormonth)\n"
   ]
  },
  {
   "cell_type": "markdown",
   "metadata": {},
   "source": [
    "#### 6.2 ADF Test of Non-Stationarity"
   ]
  },
  {
   "cell_type": "code",
   "execution_count": 24,
   "metadata": {},
   "outputs": [
    {
     "data": {
      "text/plain": [
       "\n",
       "############################################### \n",
       "# Augmented Dickey-Fuller Test Unit Root Test # \n",
       "############################################### \n",
       "\n",
       "Test regression drift \n",
       "\n",
       "\n",
       "Call:\n",
       "lm(formula = z.diff ~ z.lag.1 + 1 + z.diff.lag)\n",
       "\n",
       "Residuals:\n",
       "     Min       1Q   Median       3Q      Max \n",
       "-1.25239 -0.04259  0.02897  0.08670  0.23723 \n",
       "\n",
       "Coefficients:\n",
       "            Estimate Std. Error t value Pr(>|t|)    \n",
       "(Intercept) -0.09556    0.01173  -8.148 8.19e-15 ***\n",
       "z.lag.1     -0.86057    0.07456 -11.542  < 2e-16 ***\n",
       "z.diff.lag  -0.04319    0.05559  -0.777    0.438    \n",
       "---\n",
       "Signif. codes:  0 '***' 0.001 '**' 0.01 '*' 0.05 '.' 0.1 ' ' 1\n",
       "\n",
       "Residual standard error: 0.15 on 323 degrees of freedom\n",
       "Multiple R-squared:  0.4507,\tAdjusted R-squared:  0.4473 \n",
       "F-statistic: 132.5 on 2 and 323 DF,  p-value: < 2.2e-16\n",
       "\n",
       "\n",
       "Value of test-statistic is: -11.5421 66.6104 \n",
       "\n",
       "Critical values for test statistics: \n",
       "      1pct  5pct 10pct\n",
       "tau2 -3.44 -2.87 -2.57\n",
       "phi1  6.47  4.61  3.79\n"
      ]
     },
     "metadata": {},
     "output_type": "display_data"
    },
    {
     "data": {
      "text/plain": [
       "\n",
       "############################################### \n",
       "# Augmented Dickey-Fuller Test Unit Root Test # \n",
       "############################################### \n",
       "\n",
       "Test regression drift \n",
       "\n",
       "\n",
       "Call:\n",
       "lm(formula = z.diff ~ z.lag.1 + 1 + z.diff.lag)\n",
       "\n",
       "Residuals:\n",
       "    Min      1Q  Median      3Q     Max \n",
       "-5.0881 -0.0332  0.0708  0.1366  1.1038 \n",
       "\n",
       "Coefficients:\n",
       "             Estimate Std. Error t value Pr(>|t|)    \n",
       "(Intercept) -0.111673   0.027331  -4.086 5.54e-05 ***\n",
       "z.lag.1     -0.656623   0.064021 -10.256  < 2e-16 ***\n",
       "z.diff.lag  -0.009399   0.055620  -0.169    0.866    \n",
       "---\n",
       "Signif. codes:  0 '***' 0.001 '**' 0.01 '*' 0.05 '.' 0.1 ' ' 1\n",
       "\n",
       "Residual standard error: 0.4532 on 323 degrees of freedom\n",
       "Multiple R-squared:  0.3316,\tAdjusted R-squared:  0.3275 \n",
       "F-statistic: 80.13 on 2 and 323 DF,  p-value: < 2.2e-16\n",
       "\n",
       "\n",
       "Value of test-statistic is: -10.2564 52.5974 \n",
       "\n",
       "Critical values for test statistics: \n",
       "      1pct  5pct 10pct\n",
       "tau2 -3.44 -2.87 -2.57\n",
       "phi1  6.47  4.61  3.79\n"
      ]
     },
     "metadata": {},
     "output_type": "display_data"
    },
    {
     "data": {
      "text/plain": [
       "\n",
       "############################################### \n",
       "# Augmented Dickey-Fuller Test Unit Root Test # \n",
       "############################################### \n",
       "\n",
       "Test regression drift \n",
       "\n",
       "\n",
       "Call:\n",
       "lm(formula = z.diff ~ z.lag.1 + 1 + z.diff.lag)\n",
       "\n",
       "Residuals:\n",
       "     Min       1Q   Median       3Q      Max \n",
       "-0.50785 -0.00954  0.01154  0.02539  0.26984 \n",
       "\n",
       "Coefficients:\n",
       "            Estimate Std. Error t value Pr(>|t|)    \n",
       "(Intercept) -0.01154    0.00403  -2.864  0.00446 ** \n",
       "z.lag.1     -0.68560    0.06916  -9.913  < 2e-16 ***\n",
       "z.diff.lag  -0.12680    0.05519  -2.297  0.02224 *  \n",
       "---\n",
       "Signif. codes:  0 '***' 0.001 '**' 0.01 '*' 0.05 '.' 0.1 ' ' 1\n",
       "\n",
       "Residual standard error: 0.06965 on 323 degrees of freedom\n",
       "Multiple R-squared:  0.4023,\tAdjusted R-squared:  0.3986 \n",
       "F-statistic: 108.7 on 2 and 323 DF,  p-value: < 2.2e-16\n",
       "\n",
       "\n",
       "Value of test-statistic is: -9.9128 49.1316 \n",
       "\n",
       "Critical values for test statistics: \n",
       "      1pct  5pct 10pct\n",
       "tau2 -3.44 -2.87 -2.57\n",
       "phi1  6.47  4.61  3.79\n"
      ]
     },
     "metadata": {},
     "output_type": "display_data"
    },
    {
     "data": {
      "text/plain": [
       "\n",
       "############################################### \n",
       "# Augmented Dickey-Fuller Test Unit Root Test # \n",
       "############################################### \n",
       "\n",
       "Test regression drift \n",
       "\n",
       "\n",
       "Call:\n",
       "lm(formula = z.diff ~ z.lag.1 + 1 + z.diff.lag)\n",
       "\n",
       "Residuals:\n",
       "     Min       1Q   Median       3Q      Max \n",
       "-1.88217 -0.00807  0.02418  0.04515  0.70778 \n",
       "\n",
       "Coefficients:\n",
       "            Estimate Std. Error t value Pr(>|t|)    \n",
       "(Intercept) -0.02418    0.01044  -2.315   0.0212 *  \n",
       "z.lag.1     -0.69218    0.06823 -10.144   <2e-16 ***\n",
       "z.diff.lag  -0.08647    0.05543  -1.560   0.1198    \n",
       "---\n",
       "Signif. codes:  0 '***' 0.001 '**' 0.01 '*' 0.05 '.' 0.1 ' ' 1\n",
       "\n",
       "Residual standard error: 0.1836 on 323 degrees of freedom\n",
       "Multiple R-squared:  0.3835,\tAdjusted R-squared:  0.3797 \n",
       "F-statistic: 100.5 on 2 and 323 DF,  p-value: < 2.2e-16\n",
       "\n",
       "\n",
       "Value of test-statistic is: -10.1442 51.4521 \n",
       "\n",
       "Critical values for test statistics: \n",
       "      1pct  5pct 10pct\n",
       "tau2 -3.44 -2.87 -2.57\n",
       "phi1  6.47  4.61  3.79\n"
      ]
     },
     "metadata": {},
     "output_type": "display_data"
    },
    {
     "data": {
      "text/plain": [
       "\n",
       "############################################### \n",
       "# Augmented Dickey-Fuller Test Unit Root Test # \n",
       "############################################### \n",
       "\n",
       "Test regression drift \n",
       "\n",
       "\n",
       "Call:\n",
       "lm(formula = z.diff ~ z.lag.1 + 1 + z.diff.lag)\n",
       "\n",
       "Residuals:\n",
       "     Min       1Q   Median       3Q      Max \n",
       "-0.53908 -0.00270 -0.00261 -0.00125  0.22998 \n",
       "\n",
       "Coefficients:\n",
       "             Estimate Std. Error t value Pr(>|t|)    \n",
       "(Intercept)  0.002608   0.002453   1.063    0.288    \n",
       "z.lag.1     -0.972934   0.077401 -12.570   <2e-16 ***\n",
       "z.diff.lag   0.005304   0.055635   0.095    0.924    \n",
       "---\n",
       "Signif. codes:  0 '***' 0.001 '**' 0.01 '*' 0.05 '.' 0.1 ' ' 1\n",
       "\n",
       "Residual standard error: 0.04413 on 323 degrees of freedom\n",
       "Multiple R-squared:  0.484,\tAdjusted R-squared:  0.4808 \n",
       "F-statistic: 151.5 on 2 and 323 DF,  p-value: < 2.2e-16\n",
       "\n",
       "\n",
       "Value of test-statistic is: -12.5701 79.0032 \n",
       "\n",
       "Critical values for test statistics: \n",
       "      1pct  5pct 10pct\n",
       "tau2 -3.44 -2.87 -2.57\n",
       "phi1  6.47  4.61  3.79\n"
      ]
     },
     "metadata": {},
     "output_type": "display_data"
    },
    {
     "data": {
      "text/plain": [
       "\n",
       "############################################### \n",
       "# Augmented Dickey-Fuller Test Unit Root Test # \n",
       "############################################### \n",
       "\n",
       "Test regression drift \n",
       "\n",
       "\n",
       "Call:\n",
       "lm(formula = z.diff ~ z.lag.1 + 1 + z.diff.lag)\n",
       "\n",
       "Residuals:\n",
       "     Min       1Q   Median       3Q      Max \n",
       "-0.45629 -0.01555 -0.01364 -0.00320  0.63583 \n",
       "\n",
       "Coefficients:\n",
       "            Estimate Std. Error t value Pr(>|t|)    \n",
       "(Intercept)  0.01364    0.00496   2.751  0.00628 ** \n",
       "z.lag.1     -0.90218    0.07705 -11.709  < 2e-16 ***\n",
       "z.diff.lag  -0.06561    0.05538  -1.185  0.23694    \n",
       "---\n",
       "Signif. codes:  0 '***' 0.001 '**' 0.01 '*' 0.05 '.' 0.1 ' ' 1\n",
       "\n",
       "Residual standard error: 0.0871 on 323 degrees of freedom\n",
       "Multiple R-squared:  0.485,\tAdjusted R-squared:  0.4818 \n",
       "F-statistic: 152.1 on 2 and 323 DF,  p-value: < 2.2e-16\n",
       "\n",
       "\n",
       "Value of test-statistic is: -11.7092 68.5531 \n",
       "\n",
       "Critical values for test statistics: \n",
       "      1pct  5pct 10pct\n",
       "tau2 -3.44 -2.87 -2.57\n",
       "phi1  6.47  4.61  3.79\n"
      ]
     },
     "metadata": {},
     "output_type": "display_data"
    },
    {
     "data": {
      "text/plain": [
       "\n",
       "############################################### \n",
       "# Augmented Dickey-Fuller Test Unit Root Test # \n",
       "############################################### \n",
       "\n",
       "Test regression drift \n",
       "\n",
       "\n",
       "Call:\n",
       "lm(formula = z.diff ~ z.lag.1 + 1 + z.diff.lag)\n",
       "\n",
       "Residuals:\n",
       "     Min       1Q   Median       3Q      Max \n",
       "-1.00766 -0.00507  0.03081  0.04230  0.31727 \n",
       "\n",
       "Coefficients:\n",
       "             Estimate Std. Error t value Pr(>|t|)    \n",
       "(Intercept) -0.030809   0.007623  -4.042 6.64e-05 ***\n",
       "z.lag.1     -0.621557   0.065252  -9.525  < 2e-16 ***\n",
       "z.diff.lag  -0.106317   0.055326  -1.922   0.0555 .  \n",
       "---\n",
       "Signif. codes:  0 '***' 0.001 '**' 0.01 '*' 0.05 '.' 0.1 ' ' 1\n",
       "\n",
       "Residual standard error: 0.1246 on 323 degrees of freedom\n",
       "Multiple R-squared:  0.3551,\tAdjusted R-squared:  0.3511 \n",
       "F-statistic: 88.94 on 2 and 323 DF,  p-value: < 2.2e-16\n",
       "\n",
       "\n",
       "Value of test-statistic is: -9.5255 45.3674 \n",
       "\n",
       "Critical values for test statistics: \n",
       "      1pct  5pct 10pct\n",
       "tau2 -3.44 -2.87 -2.57\n",
       "phi1  6.47  4.61  3.79\n"
      ]
     },
     "metadata": {},
     "output_type": "display_data"
    },
    {
     "data": {
      "text/plain": [
       "\n",
       "############################################### \n",
       "# Augmented Dickey-Fuller Test Unit Root Test # \n",
       "############################################### \n",
       "\n",
       "Test regression drift \n",
       "\n",
       "\n",
       "Call:\n",
       "lm(formula = z.diff ~ z.lag.1 + 1 + z.diff.lag)\n",
       "\n",
       "Residuals:\n",
       "    Min      1Q  Median      3Q     Max \n",
       "-6.1691  0.0025  0.1687  0.2092  2.0619 \n",
       "\n",
       "Coefficients:\n",
       "            Estimate Std. Error t value Pr(>|t|)    \n",
       "(Intercept) -0.17052    0.04013  -4.249 2.81e-05 ***\n",
       "z.lag.1     -0.50434    0.05911  -8.532 5.68e-16 ***\n",
       "z.diff.lag  -0.11923    0.05524  -2.158   0.0316 *  \n",
       "---\n",
       "Signif. codes:  0 '***' 0.001 '**' 0.01 '*' 0.05 '.' 0.1 ' ' 1\n",
       "\n",
       "Residual standard error: 0.6285 on 323 degrees of freedom\n",
       "Multiple R-squared:  0.2965,\tAdjusted R-squared:  0.2921 \n",
       "F-statistic: 68.06 on 2 and 323 DF,  p-value: < 2.2e-16\n",
       "\n",
       "\n",
       "Value of test-statistic is: -8.5319 36.3966 \n",
       "\n",
       "Critical values for test statistics: \n",
       "      1pct  5pct 10pct\n",
       "tau2 -3.44 -2.87 -2.57\n",
       "phi1  6.47  4.61  3.79\n"
      ]
     },
     "metadata": {},
     "output_type": "display_data"
    }
   ],
   "source": [
    "## ADF Test (All new Variables are stationary)\n",
    "# US\n",
    "summary(ur.df(usldl_frame$toneecon_w_both_per2,type=\"drift\",selectlags=\"AIC\")) ## Stationary\n",
    "summary(ur.df(usldl_frame$tonedefense_w_both_per2,type=\"drift\",selectlags=\"AIC\")) ## Stationary\n",
    "# China\n",
    "summary(ur.df(chnldl_frame$toneecon_w_both_per2,type=\"drift\",selectlags=\"AIC\")) ## Stationary\n",
    "summary(ur.df(chnldl_frame$tonedefense_w_both_per2,type=\"drift\",selectlags=\"AIC\")) ## Stationary\n",
    "# S.Korea\n",
    "summary(ur.df(skorldl_frame$toneecon_w_both_per2,type=\"drift\",selectlags=\"AIC\")) ## Stationary\n",
    "summary(ur.df(skorldl_frame$tonedefense_w_both_per2,type=\"drift\",selectlags=\"AIC\")) ## Stationary\n",
    "# N.Korea\n",
    "summary(ur.df(nkorldl_frame$toneecon_w_both_per2,type=\"drift\",selectlags=\"AIC\")) ## Stationary\n",
    "summary(ur.df(nkorldl_frame$tonedefense_w_both_per2,type=\"drift\",selectlags=\"AIC\")) ## Stationary\n"
   ]
  },
  {
   "cell_type": "markdown",
   "metadata": {},
   "source": [
    "#### 6.3 Select Optimal Lag Span Based on AIC"
   ]
  },
  {
   "cell_type": "code",
   "execution_count": 25,
   "metadata": {},
   "outputs": [
    {
     "data": {
      "text/html": [
       "<strong>AIC(n):</strong> 12"
      ],
      "text/latex": [
       "\\textbf{AIC(n):} 12"
      ],
      "text/markdown": [
       "**AIC(n):** 12"
      ],
      "text/plain": [
       "AIC(n) \n",
       "    12 "
      ]
     },
     "metadata": {},
     "output_type": "display_data"
    },
    {
     "data": {
      "text/html": [
       "<strong>AIC(n):</strong> 12"
      ],
      "text/latex": [
       "\\textbf{AIC(n):} 12"
      ],
      "text/markdown": [
       "**AIC(n):** 12"
      ],
      "text/plain": [
       "AIC(n) \n",
       "    12 "
      ]
     },
     "metadata": {},
     "output_type": "display_data"
    },
    {
     "data": {
      "text/html": [
       "<strong>AIC(n):</strong> 1"
      ],
      "text/latex": [
       "\\textbf{AIC(n):} 1"
      ],
      "text/markdown": [
       "**AIC(n):** 1"
      ],
      "text/plain": [
       "AIC(n) \n",
       "     1 "
      ]
     },
     "metadata": {},
     "output_type": "display_data"
    },
    {
     "data": {
      "text/html": [
       "<strong>AIC(n):</strong> 4"
      ],
      "text/latex": [
       "\\textbf{AIC(n):} 4"
      ],
      "text/markdown": [
       "**AIC(n):** 4"
      ],
      "text/plain": [
       "AIC(n) \n",
       "     4 "
      ]
     },
     "metadata": {},
     "output_type": "display_data"
    }
   ],
   "source": [
    "# Optimal Lag Based on AIC\n",
    "usTFp <- VARselect(usldl_frame,lag.max=12, type=\"both\")$selection[1]; usTFp # 12\n",
    "chnTFp <- VARselect(chnldl_frame,lag.max=12, type=\"both\")$selection[1]; chnTFp # 3\n",
    "skorTFp <- VARselect(skorldl_frame,lag.max=12, type=\"both\")$selection[1]; skorTFp; skorTFp=2 # 1\n",
    "nkorTFp <- VARselect(nkorldl_frame,lag.max=12, type=\"both\")$selection[1]; nkorTFp # 4\n"
   ]
  },
  {
   "cell_type": "markdown",
   "metadata": {},
   "source": [
    "#### 6.4 Estimate VECM"
   ]
  },
  {
   "cell_type": "code",
   "execution_count": 26,
   "metadata": {},
   "outputs": [
    {
     "data": {
      "text/plain": [
       "\n",
       "###################### \n",
       "# Johansen-Procedure # \n",
       "###################### \n",
       "\n",
       "Test type: trace statistic , without linear trend and constant in cointegration \n",
       "\n",
       "Eigenvalues (lambda):\n",
       "[1]  1.280906e-01  8.831454e-02  2.919367e-02  2.298348e-02 -2.357052e-17\n",
       "\n",
       "Values of teststatistic and critical values of test:\n",
       "\n",
       "          test 10pct  5pct  1pct\n",
       "r <= 3 |  7.35  7.52  9.24 12.97\n",
       "r <= 2 | 16.71 17.85 19.96 24.60\n",
       "r <= 1 | 45.93 32.00 34.91 41.07\n",
       "r = 0  | 89.24 49.65 53.12 60.16\n",
       "\n",
       "Eigenvectors, normalised to first column:\n",
       "(These are the cointegration relations)\n",
       "\n",
       "                           surplus_gdp.l1 tonedefense_w_both_per2.l1\n",
       "surplus_gdp.l1                  1.0000000                 1.00000000\n",
       "tonedefense_w_both_per2.l1     -0.1246480                -3.94867699\n",
       "toneecon_w_both_per2.l1         5.2073489                -0.19288847\n",
       "ldlstate.l1                     0.0125647                 0.04996299\n",
       "constant                       -0.3133129                -2.90960573\n",
       "                           toneecon_w_both_per2.l1 ldlstate.l1    constant\n",
       "surplus_gdp.l1                           1.0000000  1.00000000  1.00000000\n",
       "tonedefense_w_both_per2.l1               0.1262284 -0.01713342 -0.66944898\n",
       "toneecon_w_both_per2.l1                 -0.3998329  0.48786426  2.32386230\n",
       "ldlstate.l1                              0.0124227 -0.01333978  0.04453693\n",
       "constant                                -0.8732270  0.11178834  0.54344421\n",
       "\n",
       "Weights W:\n",
       "(This is the loading matrix)\n",
       "\n",
       "                          surplus_gdp.l1 tonedefense_w_both_per2.l1\n",
       "surplus_gdp.d                 0.04886777                0.006187341\n",
       "tonedefense_w_both_per2.d    -0.06845263                0.111050629\n",
       "toneecon_w_both_per2.d       -0.17293534                0.013977115\n",
       "ldlstate.d                   -0.12790209               -0.661069465\n",
       "                          toneecon_w_both_per2.l1 ldlstate.l1      constant\n",
       "surplus_gdp.d                         -0.01449756 -0.04944301 -2.785653e-19\n",
       "tonedefense_w_both_per2.d             -0.48751201  0.10733077 -5.871543e-17\n",
       "toneecon_w_both_per2.d                -0.05878289 -0.06063728 -2.405492e-17\n",
       "ldlstate.d                            -3.44142933 -0.23020509  2.218039e-16\n"
      ]
     },
     "metadata": {},
     "output_type": "display_data"
    },
    {
     "data": {
      "text/plain": [
       "\n",
       "###################### \n",
       "# Johansen-Procedure # \n",
       "###################### \n",
       "\n",
       "Test type: trace statistic , without linear trend and constant in cointegration \n",
       "\n",
       "Eigenvalues (lambda):\n",
       "[1]  1.388944e-01  4.888558e-02  1.761172e-02  9.390129e-03 -5.495633e-18\n",
       "\n",
       "Values of teststatistic and critical values of test:\n",
       "\n",
       "          test 10pct  5pct  1pct\n",
       "r <= 3 |  2.98  7.52  9.24 12.97\n",
       "r <= 2 |  8.60 17.85 19.96 24.60\n",
       "r <= 1 | 24.43 32.00 34.91 41.07\n",
       "r = 0  | 71.69 49.65 53.12 60.16\n",
       "\n",
       "Eigenvectors, normalised to first column:\n",
       "(These are the cointegration relations)\n",
       "\n",
       "                           surplus_gdp.l1 tonedefense_w_both_per2.l1\n",
       "surplus_gdp.l1                1.000000000                1.000000000\n",
       "tonedefense_w_both_per2.l1    4.122323966                0.130780801\n",
       "toneecon_w_both_per2.l1       0.282586311                8.146867103\n",
       "ldlstate.l1                  -0.005845597               -0.008545315\n",
       "constant                      0.091217206                0.179886550\n",
       "                           toneecon_w_both_per2.l1 ldlstate.l1     constant\n",
       "surplus_gdp.l1                         1.000000000  1.00000000  1.000000000\n",
       "tonedefense_w_both_per2.l1             0.332319223  2.29500013 -0.204258696\n",
       "toneecon_w_both_per2.l1               -1.505614816 -0.42109490  0.282985558\n",
       "ldlstate.l1                           -0.004496992 -0.04447596 -0.001146933\n",
       "constant                               0.131786669 -1.23929947  0.075235357\n",
       "\n",
       "Weights W:\n",
       "(This is the loading matrix)\n",
       "\n",
       "                          surplus_gdp.l1 tonedefense_w_both_per2.l1\n",
       "surplus_gdp.d                 0.05855641                -0.03549805\n",
       "tonedefense_w_both_per2.d    -0.17803265                -0.04450850\n",
       "toneecon_w_both_per2.d       -0.03332643                -0.04764776\n",
       "ldlstate.d                   -0.12282129                -0.52527750\n",
       "                          toneecon_w_both_per2.l1   ldlstate.l1      constant\n",
       "surplus_gdp.d                         -0.02384140 -0.0024424845  2.135301e-15\n",
       "tonedefense_w_both_per2.d             -0.10385322 -0.0005267006 -3.009996e-15\n",
       "toneecon_w_both_per2.d                 0.02569708  0.0014315242 -1.402299e-15\n",
       "ldlstate.d                            -1.95449456  0.2927016781 -6.704485e-14\n"
      ]
     },
     "metadata": {},
     "output_type": "display_data"
    },
    {
     "data": {
      "text/plain": [
       "\n",
       "###################### \n",
       "# Johansen-Procedure # \n",
       "###################### \n",
       "\n",
       "Test type: trace statistic , without linear trend and constant in cointegration \n",
       "\n",
       "Eigenvalues (lambda):\n",
       "[1]  3.544993e-01  3.045249e-01  3.761303e-02  7.809616e-03 -9.822762e-19\n",
       "\n",
       "Values of teststatistic and critical values of test:\n",
       "\n",
       "           test 10pct  5pct  1pct\n",
       "r <= 3 |   2.56  7.52  9.24 12.97\n",
       "r <= 2 |  15.05 17.85 19.96 24.60\n",
       "r <= 1 | 133.44 32.00 34.91 41.07\n",
       "r = 0  | 276.14 49.65 53.12 60.16\n",
       "\n",
       "Eigenvectors, normalised to first column:\n",
       "(These are the cointegration relations)\n",
       "\n",
       "                           surplus_gdp.l1 tonedefense_w_both_per2.l1\n",
       "surplus_gdp.l1               1.000000e+00                  1.0000000\n",
       "tonedefense_w_both_per2.l1   1.053982e+01               -121.1463209\n",
       "toneecon_w_both_per2.l1     -2.847906e+01               -130.2040994\n",
       "ldlstate.l1                 -5.858661e-04                  0.0947806\n",
       "constant                    -2.133624e-01                  3.4747994\n",
       "                           toneecon_w_both_per2.l1 ldlstate.l1   constant\n",
       "surplus_gdp.l1                         1.000000000   1.0000000  1.0000000\n",
       "tonedefense_w_both_per2.l1             0.037699002  -0.8993644  0.4047215\n",
       "toneecon_w_both_per2.l1               -0.001001119   1.1263330 -0.3581625\n",
       "ldlstate.l1                           -0.001305386   0.2079439 -0.0346874\n",
       "constant                              -0.131761796   3.6015203  0.1596741\n",
       "\n",
       "Weights W:\n",
       "(This is the loading matrix)\n",
       "\n",
       "                          surplus_gdp.l1 tonedefense_w_both_per2.l1\n",
       "surplus_gdp.d              -2.279552e-05               -0.000174404\n",
       "tonedefense_w_both_per2.d  -2.568391e-02                0.005345987\n",
       "toneecon_w_both_per2.d      2.602089e-02                0.001967971\n",
       "ldlstate.d                  1.949848e-01               -0.018317103\n",
       "                          toneecon_w_both_per2.l1   ldlstate.l1      constant\n",
       "surplus_gdp.d                        -0.088952024 -1.213550e-06  3.317923e-18\n",
       "tonedefense_w_both_per2.d            -0.000657453 -9.144332e-04 -9.167232e-18\n",
       "toneecon_w_both_per2.d               -0.012881101  1.692356e-04 -2.786544e-18\n",
       "ldlstate.d                           -0.300327489 -1.206136e-01 -2.250777e-16\n"
      ]
     },
     "metadata": {},
     "output_type": "display_data"
    },
    {
     "data": {
      "text/plain": [
       "\n",
       "###################### \n",
       "# Johansen-Procedure # \n",
       "###################### \n",
       "\n",
       "Test type: trace statistic , without linear trend and constant in cointegration \n",
       "\n",
       "Eigenvalues (lambda):\n",
       "[1]  2.412131e-01  1.262025e-01  8.086186e-02  6.512593e-03 -1.430224e-17\n",
       "\n",
       "Values of teststatistic and critical values of test:\n",
       "\n",
       "           test 10pct  5pct  1pct\n",
       "r <= 3 |   2.12  7.52  9.24 12.97\n",
       "r <= 2 |  29.44 17.85 19.96 24.60\n",
       "r <= 1 |  73.15 32.00 34.91 41.07\n",
       "r = 0  | 162.58 49.65 53.12 60.16\n",
       "\n",
       "Eigenvectors, normalised to first column:\n",
       "(These are the cointegration relations)\n",
       "\n",
       "                           surplus_gdp.l1 tonedefense_w_both_per2.l1\n",
       "surplus_gdp.l1               1.000000e+00               1.000000e+00\n",
       "tonedefense_w_both_per2.l1  -1.804936e-02              -2.647748e-03\n",
       "toneecon_w_both_per2.l1      1.173736e-01              -1.161587e-02\n",
       "ldlstate.l1                  5.500526e-05               6.542513e-05\n",
       "constant                     3.527108e-03               3.271633e-03\n",
       "                           toneecon_w_both_per2.l1  ldlstate.l1     constant\n",
       "surplus_gdp.l1                        1.000000e+00  1.000000000  1.000000000\n",
       "tonedefense_w_both_per2.l1            2.848591e-03 -0.001986081 -0.017130558\n",
       "toneecon_w_both_per2.l1               3.420134e-03 -0.029418698 -0.060444165\n",
       "ldlstate.l1                          -3.586622e-05 -0.006336713  0.005239878\n",
       "constant                             -1.231380e-03 -0.510850831  0.262612640\n",
       "\n",
       "Weights W:\n",
       "(This is the loading matrix)\n",
       "\n",
       "                          surplus_gdp.l1 tonedefense_w_both_per2.l1\n",
       "surplus_gdp.d               -0.008904417                  -0.141543\n",
       "tonedefense_w_both_per2.d    3.597400202                  56.554249\n",
       "toneecon_w_both_per2.d      -6.563109474                   6.144056\n",
       "ldlstate.d                   5.706828507                 -47.958321\n",
       "                          toneecon_w_both_per2.l1   ldlstate.l1      constant\n",
       "surplus_gdp.d                          -0.1145881 -1.222943e-05 -7.590314e-19\n",
       "tonedefense_w_both_per2.d             -48.5213081  1.349081e-01  1.477719e-15\n",
       "toneecon_w_both_per2.d                 -4.2453713  1.176331e-02 -1.841296e-16\n",
       "ldlstate.d                             12.6533012  1.539983e+00 -7.921329e-15\n"
      ]
     },
     "metadata": {},
     "output_type": "display_data"
    }
   ],
   "source": [
    "# VECM with Cointegration Trace Test (Cointegration Exists for All *This is Used)\n",
    "usldlF.vecm <- ca.jo(usldl_frame, ecdet=\"const\", type='trace', K=usTFp, spec=\"transitory\"); summary(usldlF.vecm) # 2\n",
    "chnldlF.vecm <- ca.jo(chnldl_frame, ecdet=\"const\", type='trace', K=chnTFp, spec=\"transitory\"); summary(chnldlF.vecm) # 1\n",
    "skorldlF.vecm <- ca.jo(skorldl_frame, ecdet=\"const\", type='trace', K=skorTFp, spec=\"transitory\"); summary(skorldlF.vecm) # 2\n",
    "nkorldlF.vecm <- ca.jo(nkorldl_frame, ecdet=\"const\", type='trace', K=nkorTFp, spec=\"transitory\"); summary(nkorldlF.vecm) # 3\n"
   ]
  },
  {
   "cell_type": "markdown",
   "metadata": {},
   "source": [
    "#### 6.5 Estimate SVECM"
   ]
  },
  {
   "cell_type": "code",
   "execution_count": 27,
   "metadata": {
    "collapsed": true
   },
   "outputs": [],
   "source": [
    "## Restrictions for Short Run Matrix\n",
    "SR <- matrix(NA,nrow=4,ncol=4); SR[1,2:4]<-0; SR[2,3:4]<-0; SR[3,4]<-0; #SR[3,2]<-0\n",
    "## NO Restrictions for Long Run Matrix\n",
    "LR <- matrix(NA,nrow=4,ncol=4)\n",
    "\n",
    "## VECM Result\n",
    "usldlF.vecm.res <- SVEC(usldlF.vecm,LR=LR,SR=SR,r=2,lrtest=FALSE)\n",
    "chnldlF.vecm.res <- SVEC(chnldlF.vecm,LR=LR,SR=SR,r=1,lrtest=FALSE) #,boot=TRUE,runs=500\n",
    "skorldlF.vecm.res <- SVEC(skorldlF.vecm,LR=LR,SR=SR,r=2,lrtest=FALSE) #,boot=TRUE,runs=500\n",
    "nkorldlF.vecm.res <- SVEC(nkorldlF.vecm,LR=LR,SR=SR,r=3,lrtest=FALSE) #,boot=TRUE,runs=500\n"
   ]
  },
  {
   "cell_type": "markdown",
   "metadata": {},
   "source": [
    "#### 6.6 Estimate IRF"
   ]
  },
  {
   "cell_type": "code",
   "execution_count": 28,
   "metadata": {
    "collapsed": true
   },
   "outputs": [],
   "source": [
    "## IRF\n",
    "usirf_ldl_frame<-irf(usldlF.vecm.res,n.ahead=12,ci=0.95,runs=1000)\n",
    "chnirf_ldl_frame<-irf(chnldlF.vecm.res,n.ahead=12,ci=0.95,runs=1000)\n",
    "skorirf_ldl_frame<-irf(skorldlF.vecm.res,n.ahead=12,ci=0.95,runs=1000)\n",
    "nkorirf_ldl_frame<-irf(nkorldlF.vecm.res,n.ahead=12,ci=0.95,runs=1000)\n",
    "\n",
    "# plot(usirf_ldl_frame) # small\n",
    "# plot(chnirf_ldl_frame) # none\n",
    "# plot(skorirf_ldl_frame) # good short term\n",
    "# plot(nkorirf_ldl_frame) # good and persistent\n"
   ]
  },
  {
   "cell_type": "markdown",
   "metadata": {},
   "source": [
    "### 7. Persuasion by TC (Extra)\n",
    "\n",
    "#### 7.1 Create Datasets for Time-Series Analysis"
   ]
  },
  {
   "cell_type": "code",
   "execution_count": 29,
   "metadata": {},
   "outputs": [
    {
     "name": "stderr",
     "output_type": "stream",
     "text": [
      "The following object is masked from package:datasets:\n",
      "\n",
      "    euro\n",
      "\n",
      "The following object is masked from package:datasets:\n",
      "\n",
      "    euro\n",
      "\n",
      "The following object is masked from package:datasets:\n",
      "\n",
      "    euro\n",
      "\n",
      "The following object is masked from package:datasets:\n",
      "\n",
      "    euro\n",
      "\n"
     ]
    }
   ],
   "source": [
    "###########################################\n",
    "## Persuasion (ldl, frame by frequency ) ##\n",
    "###########################################\n",
    "\n",
    "# Create Datasets\n",
    "attach(usmonth)\n",
    "usldlI_frame<-data.frame(surplus_gdp,defense_w_both_per2,econ_w_both_per2,ldlstate)[-nrow(usmonth),]\n",
    "detach(usmonth)\n",
    "attach(chnmonth)\n",
    "chnldlI_frame<-data.frame(surplus_gdp,defense_w_both_per2,econ_w_both_per2,ldlstate)[-nrow(usmonth),]\n",
    "detach(chnmonth)\n",
    "attach(skormonth)\n",
    "skorldlI_frame<-data.frame(surplus_gdp,defense_w_both_per2,econ_w_both_per2,ldlstate)[-nrow(usmonth),]\n",
    "detach(skormonth)\n",
    "attach(nkormonth)\n",
    "nkorldlI_frame<-data.frame(surplus_gdp,defense_w_both_per2,econ_w_both_per2,ldlstate)[-nrow(usmonth),]\n",
    "detach(nkormonth)\n"
   ]
  },
  {
   "cell_type": "markdown",
   "metadata": {},
   "source": [
    "#### 7.2 Select Optimal Lag Span by AIC"
   ]
  },
  {
   "cell_type": "code",
   "execution_count": 30,
   "metadata": {},
   "outputs": [
    {
     "data": {
      "text/html": [
       "<strong>AIC(n):</strong> 12"
      ],
      "text/latex": [
       "\\textbf{AIC(n):} 12"
      ],
      "text/markdown": [
       "**AIC(n):** 12"
      ],
      "text/plain": [
       "AIC(n) \n",
       "    12 "
      ]
     },
     "metadata": {},
     "output_type": "display_data"
    },
    {
     "data": {
      "text/html": [
       "<strong>AIC(n):</strong> 12"
      ],
      "text/latex": [
       "\\textbf{AIC(n):} 12"
      ],
      "text/markdown": [
       "**AIC(n):** 12"
      ],
      "text/plain": [
       "AIC(n) \n",
       "    12 "
      ]
     },
     "metadata": {},
     "output_type": "display_data"
    },
    {
     "data": {
      "text/html": [
       "<strong>AIC(n):</strong> 1"
      ],
      "text/latex": [
       "\\textbf{AIC(n):} 1"
      ],
      "text/markdown": [
       "**AIC(n):** 1"
      ],
      "text/plain": [
       "AIC(n) \n",
       "     1 "
      ]
     },
     "metadata": {},
     "output_type": "display_data"
    },
    {
     "data": {
      "text/html": [
       "<strong>AIC(n):</strong> 3"
      ],
      "text/latex": [
       "\\textbf{AIC(n):} 3"
      ],
      "text/markdown": [
       "**AIC(n):** 3"
      ],
      "text/plain": [
       "AIC(n) \n",
       "     3 "
      ]
     },
     "metadata": {},
     "output_type": "display_data"
    }
   ],
   "source": [
    "# Optimal Lag Based on AIC\n",
    "usTIFp <- VARselect(usldlI_frame,lag.max=12, type=\"both\")$selection[1]; usTIFp # 12\n",
    "chnTIFp <- VARselect(chnldlI_frame,lag.max=12, type=\"both\")$selection[1]; chnTIFp # 12\n",
    "skorTIFp <- VARselect(skorldlI_frame,lag.max=12, type=\"both\")$selection[1]; skorTIFp; skorTIFp=2 # 1 (Changed to 2)\n",
    "nkorTIFp <- VARselect(nkorldlI_frame,lag.max=12, type=\"both\")$selection[1]; nkorTIFp # 3\n"
   ]
  },
  {
   "cell_type": "markdown",
   "metadata": {},
   "source": [
    "#### 7.3 Estimate VECM"
   ]
  },
  {
   "cell_type": "code",
   "execution_count": 31,
   "metadata": {},
   "outputs": [
    {
     "data": {
      "text/plain": [
       "\n",
       "###################### \n",
       "# Johansen-Procedure # \n",
       "###################### \n",
       "\n",
       "Test type: trace statistic , without linear trend and constant in cointegration \n",
       "\n",
       "Eigenvalues (lambda):\n",
       "[1] 9.785027e-02 8.882315e-02 3.275927e-02 1.860208e-02 6.938894e-17\n",
       "\n",
       "Values of teststatistic and critical values of test:\n",
       "\n",
       "          test 10pct  5pct  1pct\n",
       "r <= 3 |  5.93  7.52  9.24 12.97\n",
       "r <= 2 | 16.46 17.85 19.96 24.60\n",
       "r <= 1 | 45.85 32.00 34.91 41.07\n",
       "r = 0  | 78.39 49.65 53.12 60.16\n",
       "\n",
       "Eigenvectors, normalised to first column:\n",
       "(These are the cointegration relations)\n",
       "\n",
       "                       surplus_gdp.l1 defense_w_both_per2.l1\n",
       "surplus_gdp.l1             1.00000000              1.0000000\n",
       "defense_w_both_per2.l1     1.52752197              0.3068734\n",
       "econ_w_both_per2.l1        3.52782362             -0.3900645\n",
       "ldlstate.l1               -0.03991001              0.0337376\n",
       "constant                  -4.28192129             -1.7310078\n",
       "                       econ_w_both_per2.l1 ldlstate.l1    constant\n",
       "surplus_gdp.l1                 1.000000000  1.00000000  1.00000000\n",
       "defense_w_both_per2.l1        -0.024609192  0.02695409  0.18367847\n",
       "econ_w_both_per2.l1            0.055658019 -0.17304542 -0.43938440\n",
       "ldlstate.l1                    0.006908709 -0.02530526  0.05203747\n",
       "constant                      -0.667499537  0.59280397  0.59651461\n",
       "\n",
       "Weights W:\n",
       "(This is the loading matrix)\n",
       "\n",
       "                      surplus_gdp.l1 defense_w_both_per2.l1 econ_w_both_per2.l1\n",
       "surplus_gdp.d           -0.004378408             0.03392801         -0.04056817\n",
       "defense_w_both_per2.d   -0.112437663            -0.73367920          1.95659505\n",
       "econ_w_both_per2.d      -0.088327399             0.25016689          0.32739135\n",
       "ldlstate.d              -0.154500638            -1.63450465         -3.75753749\n",
       "                      ldlstate.l1      constant\n",
       "surplus_gdp.d         -0.02106373 -9.613258e-18\n",
       "defense_w_both_per2.d -0.32303643  1.266337e-16\n",
       "econ_w_both_per2.d     0.23382035 -6.497847e-17\n",
       "ldlstate.d             0.20400869  8.021322e-16\n"
      ]
     },
     "metadata": {},
     "output_type": "display_data"
    },
    {
     "data": {
      "text/plain": [
       "\n",
       "###################### \n",
       "# Johansen-Procedure # \n",
       "###################### \n",
       "\n",
       "Test type: trace statistic , without linear trend and constant in cointegration \n",
       "\n",
       "Eigenvalues (lambda):\n",
       "[1] 1.125501e-01 1.059488e-01 2.493453e-02 1.149551e-02 4.518590e-18\n",
       "\n",
       "Values of teststatistic and critical values of test:\n",
       "\n",
       "          test 10pct  5pct  1pct\n",
       "r <= 3 |  3.65  7.52  9.24 12.97\n",
       "r <= 2 | 11.63 17.85 19.96 24.60\n",
       "r <= 1 | 47.02 32.00 34.91 41.07\n",
       "r = 0  | 84.75 49.65 53.12 60.16\n",
       "\n",
       "Eigenvectors, normalised to first column:\n",
       "(These are the cointegration relations)\n",
       "\n",
       "                       surplus_gdp.l1 defense_w_both_per2.l1\n",
       "surplus_gdp.l1             1.00000000              1.0000000\n",
       "defense_w_both_per2.l1    -3.44016488            -26.0763856\n",
       "econ_w_both_per2.l1        4.73506618            -39.9604351\n",
       "ldlstate.l1               -0.01297657             -0.1234156\n",
       "constant                  -0.21838961             15.7922578\n",
       "                       econ_w_both_per2.l1 ldlstate.l1     constant\n",
       "surplus_gdp.l1                 1.000000000 1.000000000  1.000000000\n",
       "defense_w_both_per2.l1        -0.141224592 0.131166363  0.050079120\n",
       "econ_w_both_per2.l1           -0.022358259 0.045116264 -0.050162588\n",
       "ldlstate.l1                   -0.006982972 0.009596557 -0.002168103\n",
       "constant                       0.187516410 0.405607446  0.050302249\n",
       "\n",
       "Weights W:\n",
       "(This is the loading matrix)\n",
       "\n",
       "                      surplus_gdp.l1 defense_w_both_per2.l1 econ_w_both_per2.l1\n",
       "surplus_gdp.d            0.009758076            0.000434927         -0.04751819\n",
       "defense_w_both_per2.d    0.147045440            0.010504143          0.28791995\n",
       "econ_w_both_per2.d      -0.049205909            0.013992042         -0.00680148\n",
       "ldlstate.d               0.356437357           -0.008856171         -1.64158845\n",
       "                        ldlstate.l1      constant\n",
       "surplus_gdp.d          0.0135030933 -1.716046e-16\n",
       "defense_w_both_per2.d  0.0403043545  1.840115e-14\n",
       "econ_w_both_per2.d     0.0007115961  2.605432e-15\n",
       "ldlstate.d            -1.1899029220  1.579840e-14\n"
      ]
     },
     "metadata": {},
     "output_type": "display_data"
    },
    {
     "data": {
      "text/plain": [
       "\n",
       "###################### \n",
       "# Johansen-Procedure # \n",
       "###################### \n",
       "\n",
       "Test type: trace statistic , without linear trend and constant in cointegration \n",
       "\n",
       "Eigenvalues (lambda):\n",
       "[1] 3.786198e-01 2.914999e-01 3.862713e-02 7.013860e-03 4.813761e-18\n",
       "\n",
       "Values of teststatistic and critical values of test:\n",
       "\n",
       "           test 10pct  5pct  1pct\n",
       "r <= 3 |   2.29  7.52  9.24 12.97\n",
       "r <= 2 |  15.14 17.85 19.96 24.60\n",
       "r <= 1 | 127.48 32.00 34.91 41.07\n",
       "r = 0  | 282.59 49.65 53.12 60.16\n",
       "\n",
       "Eigenvectors, normalised to first column:\n",
       "(These are the cointegration relations)\n",
       "\n",
       "                       surplus_gdp.l1 defense_w_both_per2.l1\n",
       "surplus_gdp.l1            1.000000000            1.000000000\n",
       "defense_w_both_per2.l1    0.241537692           -0.877634712\n",
       "econ_w_both_per2.l1       2.405717619            0.857680844\n",
       "ldlstate.l1              -0.007046793           -0.002020345\n",
       "constant                 -0.522763551           -0.027064854\n",
       "                       econ_w_both_per2.l1 ldlstate.l1    constant\n",
       "surplus_gdp.l1                 1.000000000   1.0000000  1.00000000\n",
       "defense_w_both_per2.l1        -0.005419307   0.2463629 -0.13983651\n",
       "econ_w_both_per2.l1           -0.004591272   0.1620016 -0.03335810\n",
       "ldlstate.l1                   -0.001362272   0.1433412 -0.04780257\n",
       "constant                      -0.129633280   2.4455087  0.20037110\n",
       "\n",
       "Weights W:\n",
       "(This is the loading matrix)\n",
       "\n",
       "                      surplus_gdp.l1 defense_w_both_per2.l1 econ_w_both_per2.l1\n",
       "surplus_gdp.d           -0.003750327           -0.002486355         -0.09069811\n",
       "defense_w_both_per2.d   -0.437992210            0.852948732         -0.08087218\n",
       "econ_w_both_per2.d      -0.410168104           -0.125096593          0.09542652\n",
       "ldlstate.d               0.250928657           -0.342899572         -0.48257973\n",
       "                        ldlstate.l1      constant\n",
       "surplus_gdp.d          6.961684e-06 -9.473406e-19\n",
       "defense_w_both_per2.d  2.681702e-03 -6.019610e-17\n",
       "econ_w_both_per2.d     3.128641e-04  3.712680e-18\n",
       "ldlstate.d            -1.618239e-01  5.547577e-16\n"
      ]
     },
     "metadata": {},
     "output_type": "display_data"
    },
    {
     "data": {
      "text/plain": [
       "\n",
       "###################### \n",
       "# Johansen-Procedure # \n",
       "###################### \n",
       "\n",
       "Test type: trace statistic , without linear trend and constant in cointegration \n",
       "\n",
       "Eigenvalues (lambda):\n",
       "[1] 2.106154e-01 1.146186e-01 6.886920e-02 6.807753e-03 2.130806e-17\n",
       "\n",
       "Values of teststatistic and critical values of test:\n",
       "\n",
       "           test 10pct  5pct  1pct\n",
       "r <= 3 |   2.22  7.52  9.24 12.97\n",
       "r <= 2 |  25.41 17.85 19.96 24.60\n",
       "r <= 1 |  64.98 32.00 34.91 41.07\n",
       "r = 0  | 141.84 49.65 53.12 60.16\n",
       "\n",
       "Eigenvectors, normalised to first column:\n",
       "(These are the cointegration relations)\n",
       "\n",
       "                       surplus_gdp.l1 defense_w_both_per2.l1\n",
       "surplus_gdp.l1            1.000000000           1.000000e+00\n",
       "defense_w_both_per2.l1    0.086118222           3.118524e-03\n",
       "econ_w_both_per2.l1      -0.458394213           7.596150e-03\n",
       "ldlstate.l1               0.001679323           9.785405e-05\n",
       "constant                  0.120034941           3.301315e-03\n",
       "                       econ_w_both_per2.l1 ldlstate.l1    constant\n",
       "surplus_gdp.l1                1.000000e+00  1.00000000  1.00000000\n",
       "defense_w_both_per2.l1       -5.119354e-04 -0.04836110 -0.12744214\n",
       "econ_w_both_per2.l1          -8.362040e-04  0.15546616 -0.09447459\n",
       "ldlstate.l1                  -4.993634e-06  0.05805154 -0.06642430\n",
       "constant                      2.972355e-04  4.57463334 -3.15064524\n",
       "\n",
       "Weights W:\n",
       "(This is the loading matrix)\n",
       "\n",
       "                      surplus_gdp.l1 defense_w_both_per2.l1 econ_w_both_per2.l1\n",
       "surplus_gdp.d           0.0001186873            -0.04679172          -0.1738618\n",
       "defense_w_both_per2.d  -0.9933878535           -80.79182506          51.4328013\n",
       "econ_w_both_per2.d      1.3308322959           -11.23075985          10.2679121\n",
       "ldlstate.d             -1.9137702239           -28.00992090          14.1103995\n",
       "                        ldlstate.l1      constant\n",
       "surplus_gdp.d         -4.621134e-06 -2.659705e-19\n",
       "defense_w_both_per2.d  3.006991e-02 -1.561969e-16\n",
       "econ_w_both_per2.d    -1.927020e-04 -3.542843e-17\n",
       "ldlstate.d            -1.817817e-01 -2.063933e-16\n"
      ]
     },
     "metadata": {},
     "output_type": "display_data"
    }
   ],
   "source": [
    "# VECM with Cointegration Trace Test (Cointegration Exists for All *This is Used)\n",
    "usldlIF.vecm <- ca.jo(usldlI_frame, ecdet=\"const\", type='trace', K=usTIFp, spec=\"transitory\"); summary(usldlIF.vecm) # 2\n",
    "chnldlIF.vecm <- ca.jo(chnldlI_frame, ecdet=\"const\", type='trace', K=chnTIFp, spec=\"transitory\"); summary(chnldlIF.vecm) # 2\n",
    "skorldlIF.vecm <- ca.jo(skorldlI_frame, ecdet=\"const\", type='trace', K=skorTIFp, spec=\"transitory\"); summary(skorldlIF.vecm) # 2\n",
    "nkorldlIF.vecm <- ca.jo(nkorldlI_frame, ecdet=\"const\", type='trace', K=nkorTIFp, spec=\"transitory\"); summary(nkorldlIF.vecm) # 3\n"
   ]
  },
  {
   "cell_type": "markdown",
   "metadata": {},
   "source": [
    "#### 7.4 Estimate SVECM"
   ]
  },
  {
   "cell_type": "code",
   "execution_count": 32,
   "metadata": {
    "collapsed": true
   },
   "outputs": [],
   "source": [
    "## Restrictions for Short Run Matrix\n",
    "SR <- matrix(NA,nrow=4,ncol=4); SR[1,2:4]<-0; SR[2,3:4]<-0; SR[3,4]<-0; #SR[3,2]<-0\n",
    "## NO Restrictions for Long Run Matrix\n",
    "LR <- matrix(NA,nrow=4,ncol=4)\n",
    "\n",
    "## SVECM Result\n",
    "usldlIF.vecm.res <- SVEC(usldlIF.vecm,LR=LR,SR=SR,r=2,lrtest=FALSE)\n",
    "chnldlIF.vecm.res <- SVEC(chnldlIF.vecm,LR=LR,SR=SR,r=2,lrtest=FALSE) #,boot=TRUE,runs=500\n",
    "skorldlIF.vecm.res <- SVEC(skorldlIF.vecm,LR=LR,SR=SR,r=2,lrtest=FALSE) #,boot=TRUE,runs=500\n",
    "nkorldlIF.vecm.res <- SVEC(nkorldlIF.vecm,LR=LR,SR=SR,r=3,lrtest=FALSE) #,boot=TRUE,runs=500\n"
   ]
  },
  {
   "cell_type": "markdown",
   "metadata": {},
   "source": [
    "#### 7.5 IRF"
   ]
  },
  {
   "cell_type": "code",
   "execution_count": 33,
   "metadata": {
    "collapsed": true
   },
   "outputs": [],
   "source": [
    "usirf_ldlI_frame<-irf(usldlIF.vecm.res,n.ahead=12,ci=0.95,runs=1000)\n",
    "chnirf_ldlI_frame<-irf(chnldlIF.vecm.res,n.ahead=12,ci=0.95,runs=1000)\n",
    "skorirf_ldlI_frame<-irf(skorldlIF.vecm.res,n.ahead=12,ci=0.95,runs=1000)\n",
    "nkorirf_ldlI_frame<-irf(nkorldlIF.vecm.res,n.ahead=12,ci=0.95,runs=1000)\n",
    "\n",
    "# plot(usirf_ldlI_frame) # small\n",
    "# plot(chnirf_ldlI_frame) # none\n",
    "# plot(skorirf_ldlI_frame) # good short term\n",
    "# plot(nkorirf_ldlI_frame) # good and persistent\n"
   ]
  },
  {
   "cell_type": "markdown",
   "metadata": {},
   "source": [
    "### 8. Save Results\n",
    "\n",
    "All results are saved to <code>output</code> directory, with the name <code>v3_Analysis_TimeSeries.RData</code>. "
   ]
  },
  {
   "cell_type": "code",
   "execution_count": 34,
   "metadata": {
    "collapsed": true
   },
   "outputs": [],
   "source": [
    "######################################\n",
    "## Save Result (separate from data) ##\n",
    "######################################\n",
    "\n",
    "## Remove Data from Work Space ##\n",
    "rm(usmonth, chnmonth, skormonth, nkormonth, rusmonth, euromonth, mneastmonth, #indiamonth,\n",
    "   taiwanmonth, seasiamonth, msamericamonth, oceaniamonth, africamonth)\n",
    "\n",
    "## Save the Remaining Analytical Result ##\n",
    "save.image(\"./outputs/v3_Analysis_TimeSeries.RData\")\n",
    "#load(\"./outputs/v3_Analysis_TimeSeries.RData\")\n"
   ]
  }
 ],
 "metadata": {
  "kernelspec": {
   "display_name": "R",
   "language": "R",
   "name": "ir"
  },
  "language_info": {
   "codemirror_mode": "r",
   "file_extension": ".r",
   "mimetype": "text/x-r-source",
   "name": "R",
   "pygments_lexer": "r",
   "version": "3.3.2"
  }
 },
 "nbformat": 4,
 "nbformat_minor": 2
}
